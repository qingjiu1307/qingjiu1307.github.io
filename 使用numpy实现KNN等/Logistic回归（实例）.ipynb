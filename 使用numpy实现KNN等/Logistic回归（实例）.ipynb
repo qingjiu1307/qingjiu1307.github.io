{
 "cells": [
  {
   "cell_type": "code",
   "execution_count": 239,
   "metadata": {},
   "outputs": [],
   "source": [
    "import numpy as np\n",
    "import math\n",
    "import matplotlib.pyplot as plt\n",
    "import pandas as pd"
   ]
  },
  {
   "cell_type": "code",
   "execution_count": 240,
   "metadata": {},
   "outputs": [],
   "source": [
    "def loadData(filename):\n",
    "    file = open(filename)\n",
    "    data = [];label = []\n",
    "    for line in file.readlines():\n",
    "        cureline = line.strip().split('\\t')\n",
    "        data.append([float(num) for num in cureline[:-1]])\n",
    "        label.append(float(cureline[-1]))\n",
    "    return data,label"
   ]
  },
  {
   "cell_type": "code",
   "execution_count": 241,
   "metadata": {},
   "outputs": [],
   "source": [
    "def sigmoid(theta,X):\n",
    "    thetaMat = np.mat(theta)\n",
    "    XMat = np.mat(X)\n",
    "    return 1/(1 + np.exp(-XMat*thetaMat))"
   ]
  },
  {
   "cell_type": "code",
   "execution_count": 242,
   "metadata": {},
   "outputs": [],
   "source": [
    "def predict(theta,X):\n",
    "    if sigmoid(theta,X) >= 0.5:\n",
    "        return 1.0\n",
    "    else:\n",
    "        return 0.0"
   ]
  },
  {
   "cell_type": "code",
   "execution_count": 243,
   "metadata": {},
   "outputs": [],
   "source": [
    "def errorRatio(theta,data,label):\n",
    "    error = 0\n",
    "    m,n = np.array(data).shape\n",
    "    dataI = np.insert(data,0,values = np.ones(m),axis=1)\n",
    "    result = []\n",
    "    for num in range(len(data)):\n",
    "        if predict(theta,dataI[num]) != label[num]:\n",
    "            error += 1\n",
    "        else:\n",
    "            result.append(predict(theta,dataI[num]))\n",
    "    return float(error/len(data))"
   ]
  },
  {
   "cell_type": "code",
   "execution_count": 249,
   "metadata": {},
   "outputs": [],
   "source": [
    "def gradAscent(data,label):\n",
    "    dataArr = np.array(data)\n",
    "    labelMat = np.mat(label)\n",
    "    m,n = dataArr.shape\n",
    "    dataB = np.insert(dataArr,0,values=np.ones(m),axis=1)    \n",
    "    theta = np.ones((n+1,1))\n",
    "    alpha = 0.001\n",
    "    h = np.mat(sigmoid(theta,dataB))     #使用mat来计算，需规范数据类型\n",
    "    error = labelMat.T - h\n",
    "    for i in range(500):\n",
    "        theta += alpha * np.transpose(dataB) * error\n",
    "    return theta"
   ]
  },
  {
   "cell_type": "code",
   "execution_count": 260,
   "metadata": {},
   "outputs": [],
   "source": [
    "def randomAscent(data,label):\n",
    "    dataArr = np.array(data);labelArr = np.array(label)\n",
    "    m,n = dataArr.shape\n",
    "    theta = np.ones((n+1,1));alpha = 0.001\n",
    "    dataB = np.insert(dataArr,0,values=np.ones(m),axis=1)\n",
    "    while errorRatio(theta,dataArr,labelArr) <= 0.7:\n",
    "        dataC = np.copy(dataB)\n",
    "        labelC = np.copy(label)\n",
    "        for j in range(len(dataC)):\n",
    "            index = int(np.random.uniform(0,len(dataC)))\n",
    "            h = sigmoid(theta,dataC[index])\n",
    "            error = labelC[index] - h\n",
    "            selected = np.mat(dataC[index])\n",
    "            theta += selected.T*error*alpha\n",
    "            dataC = np.delete(dataC,index,axis=0)\n",
    "            labelC = np.delete(labelC,index,axis= 0)\n",
    "    return theta"
   ]
  },
  {
   "cell_type": "code",
   "execution_count": 261,
   "metadata": {},
   "outputs": [],
   "source": [
    "trainName = 'C:/Users/Administrator/Desktop/机器学习实战代码/MLiA_SourceCode/Ch05/horseColicTraining.txt'\n",
    "trainData,trainLabel = loadData(trainName)"
   ]
  },
  {
   "cell_type": "code",
   "execution_count": 262,
   "metadata": {},
   "outputs": [],
   "source": [
    "testName = 'C:/Users/Administrator/Desktop/机器学习实战代码/MLiA_SourceCode/Ch05/horseColicTest.txt'\n",
    "testData,testLabel = loadData(testName)"
   ]
  },
  {
   "cell_type": "code",
   "execution_count": null,
   "metadata": {},
   "outputs": [],
   "source": [
    "thetaGrad = gradAscent(trainData,trainLabel)\n",
    "thetaRan = randomAscent(trainData,trainLabel)\n",
    "errorRatio(thetaGrad,trainData,trainLabel)"
   ]
  },
  {
   "cell_type": "code",
   "execution_count": 254,
   "metadata": {},
   "outputs": [
    {
     "data": {
      "text/plain": [
       "0.26755852842809363"
      ]
     },
     "execution_count": 254,
     "metadata": {},
     "output_type": "execute_result"
    }
   ],
   "source": [
    "errorRatio(thetaRan,trainData,trainLabel)"
   ]
  },
  {
   "cell_type": "code",
   "execution_count": 255,
   "metadata": {},
   "outputs": [
    {
     "data": {
      "text/plain": [
       "0.31343283582089554"
      ]
     },
     "execution_count": 255,
     "metadata": {},
     "output_type": "execute_result"
    }
   ],
   "source": [
    "errorRatio(thetaRan,testData,testLabel)"
   ]
  },
  {
   "cell_type": "code",
   "execution_count": 256,
   "metadata": {},
   "outputs": [
    {
     "name": "stderr",
     "output_type": "stream",
     "text": [
      "C:\\Program Files (x86)\\Microsoft Visual Studio\\Shared\\Anaconda3_64\\lib\\site-packages\\ipykernel_launcher.py:4: RuntimeWarning: overflow encountered in exp\n",
      "  after removing the cwd from sys.path.\n"
     ]
    },
    {
     "data": {
      "text/plain": [
       "0.7014925373134329"
      ]
     },
     "execution_count": 256,
     "metadata": {},
     "output_type": "execute_result"
    }
   ],
   "source": [
    "errorRatio(thetaGrad,testData,testLabel)"
   ]
  },
  {
   "cell_type": "code",
   "execution_count": null,
   "metadata": {
    "scrolled": true
   },
   "outputs": [],
   "source": []
  }
 ],
 "metadata": {
  "kernelspec": {
   "display_name": "Python 3",
   "language": "python",
   "name": "python3"
  },
  "language_info": {
   "codemirror_mode": {
    "name": "ipython",
    "version": 3
   },
   "file_extension": ".py",
   "mimetype": "text/x-python",
   "name": "python",
   "nbconvert_exporter": "python",
   "pygments_lexer": "ipython3",
   "version": "3.7.4"
  }
 },
 "nbformat": 4,
 "nbformat_minor": 2
}
