{
 "cells": [
  {
   "cell_type": "code",
   "execution_count": 118,
   "metadata": {},
   "outputs": [],
   "source": [
    "import numpy as np\n",
    "import matplotlib.pyplot as plt\n",
    "import pandas as pd\n",
    "import math"
   ]
  },
  {
   "cell_type": "code",
   "execution_count": 133,
   "metadata": {},
   "outputs": [],
   "source": [
    "#使用pickle模块储存决策树,pickle模块在Python3中不用下载但在Python2中不同\n",
    "def storeTree(inputTree,filename):\n",
    "    import pickle\n",
    "    fw = open(filename,'w')\n",
    "    pickle.dump(inputTree,fw)\n",
    "    fw.close()\n",
    "def grabTree(filename):\n",
    "    import pickle\n",
    "    fr = open(filename)\n",
    "    return pickle.load(fr)"
   ]
  },
  {
   "cell_type": "code",
   "execution_count": 119,
   "metadata": {},
   "outputs": [],
   "source": [
    "def calcShannonEnt(label):\n",
    "    label = np.array(label)\n",
    "    uni_value = np.unique(label)\n",
    "    HD = 0\n",
    "    for uni in uni_value:\n",
    "        Pi = len(label[label==uni])/len(label)\n",
    "        HD += - Pi* math.log2(Pi)\n",
    "    return HD"
   ]
  },
  {
   "cell_type": "code",
   "execution_count": 120,
   "metadata": {},
   "outputs": [],
   "source": [
    "def splitDataSet(data,label,j,value):\n",
    "    retDataSet = []\n",
    "    retLabelSet = []\n",
    "    for i in range(len(data)):\n",
    "        if data[i][j] == value:\n",
    "            retDataSet.append(data[i][:j]+data[i][j+1:])\n",
    "            retLabelSet.append(label[i])\n",
    "    return retDataSet,retLabelSet"
   ]
  },
  {
   "cell_type": "code",
   "execution_count": 121,
   "metadata": {},
   "outputs": [],
   "source": [
    "def major(label):\n",
    "    #若是不使用numpy来找label中为unique的值会出错\n",
    "    label = np.array(label)\n",
    "    unique_label = set(label)\n",
    "    times = {}\n",
    "    for unique in unique_label:\n",
    "        times[unique] = len(label[label==unique])\n",
    "    return max(times,key = times.get)"
   ]
  },
  {
   "cell_type": "code",
   "execution_count": 122,
   "metadata": {},
   "outputs": [],
   "source": [
    "def majorClass(data,label,col_name):\n",
    "    leaf_node = {col_name[0]:{}}\n",
    "    featVector = np.array(data)[:,0]\n",
    "    feat = set(featVector)\n",
    "    for f in feat:\n",
    "        clas = label[featVector==f]\n",
    "        leaf_node[col_name[0]][f] = major(clas)\n",
    "    return leaf_node"
   ]
  },
  {
   "cell_type": "code",
   "execution_count": 123,
   "metadata": {},
   "outputs": [],
   "source": [
    "def chooseBestFeature(data,label):\n",
    "    data = np.array(data)\n",
    "    label = np.array(label)\n",
    "    bestFeature = 0\n",
    "    bestInfoGain = 0\n",
    "    H_D = calcShannonEnt(label)\n",
    "    for i in range(data.shape[1]):\n",
    "        H_D_A = 0\n",
    "        featureVector = data[:,i]\n",
    "        feature = set(featureVector)\n",
    "        for f in feature:\n",
    "            prob = len(data[featureVector==f])/len(data)\n",
    "            H_D_A += prob*calcShannonEnt(label[featureVector==f])\n",
    "        infoGain = H_D - H_D_A\n",
    "        if infoGain > bestInfoGain:\n",
    "            bestFeature = i\n",
    "            bestInfoGain = infoGain\n",
    "    return bestFeature"
   ]
  },
  {
   "cell_type": "code",
   "execution_count": 130,
   "metadata": {},
   "outputs": [],
   "source": [
    "def createTree(data,label,col_name):\n",
    "    label = np.array(label)\n",
    "    unique_label = np.unique(label)\n",
    "    if len(unique_label) == 1:\n",
    "        return unique_label[0]\n",
    "    if len(col_name) == 1:\n",
    "        return majorClass(data,label,col_name)\n",
    "    bestFeature = chooseBestFeature(data,label)\n",
    "    featureVector = np.array(data)[:,bestFeature]\n",
    "    colsname = col_name[:]         #在这里需对col_name复制，否则在原本的col_name上操作\n",
    "    col = colsname[bestFeature]\n",
    "    del(colsname[bestFeature])\n",
    "    features = set(featureVector)\n",
    "    tree= {col:{}}\n",
    "    for feat in features:\n",
    "        splitData = splitDataSet(data,label,bestFeature,feat)[0]\n",
    "        splitLabel = splitDataSet(data,label,bestFeature,feat)[1]\n",
    "        tree[col][feat] = createTree(splitData,splitLabel,colsname) \n",
    "    return tree"
   ]
  },
  {
   "cell_type": "code",
   "execution_count": 131,
   "metadata": {},
   "outputs": [],
   "source": [
    "def classify(Tree,data,col_name):\n",
    "    key = list(Tree.keys())[0]\n",
    "    findDict = Tree[key]\n",
    "    index = col_name.index(key)\n",
    "    nextDict = findDict[data[index]]\n",
    "    if type(nextDict).__name__ == 'dict':\n",
    "        className = classify(nextDict,data,col_name)\n",
    "    else:\n",
    "        className = nextDict\n",
    "    return className"
   ]
  },
  {
   "cell_type": "code",
   "execution_count": 1,
   "metadata": {},
   "outputs": [
    {
     "data": {
      "text/plain": [
       "([['young', 'myope', 'no', 'reduced'],\n",
       "  ['young', 'myope', 'no', 'normal'],\n",
       "  ['young', 'myope', 'yes', 'reduced'],\n",
       "  ['young', 'myope', 'yes', 'normal'],\n",
       "  ['young', 'hyper', 'no', 'reduced'],\n",
       "  ['young', 'hyper', 'no', 'normal'],\n",
       "  ['young', 'hyper', 'yes', 'reduced'],\n",
       "  ['young', 'hyper', 'yes', 'normal'],\n",
       "  ['pre', 'myope', 'no', 'reduced'],\n",
       "  ['pre', 'myope', 'no', 'normal'],\n",
       "  ['pre', 'myope', 'yes', 'reduced'],\n",
       "  ['pre', 'myope', 'yes', 'normal'],\n",
       "  ['pre', 'hyper', 'no', 'reduced'],\n",
       "  ['pre', 'hyper', 'no', 'normal'],\n",
       "  ['pre', 'hyper', 'yes', 'reduced'],\n",
       "  ['pre', 'hyper', 'yes', 'normal'],\n",
       "  ['presbyopic', 'myope', 'no', 'reduced'],\n",
       "  ['presbyopic', 'myope', 'no', 'normal'],\n",
       "  ['presbyopic', 'myope', 'yes', 'reduced'],\n",
       "  ['presbyopic', 'myope', 'yes', 'normal'],\n",
       "  ['presbyopic', 'hyper', 'no', 'reduced'],\n",
       "  ['presbyopic', 'hyper', 'no', 'normal'],\n",
       "  ['presbyopic', 'hyper', 'yes', 'reduced'],\n",
       "  ['presbyopic', 'hyper', 'yes', 'normal']],\n",
       " ['no lenses',\n",
       "  'soft',\n",
       "  'no lenses',\n",
       "  'hard',\n",
       "  'no lenses',\n",
       "  'soft',\n",
       "  'no lenses',\n",
       "  'hard',\n",
       "  'no lenses',\n",
       "  'soft',\n",
       "  'no lenses',\n",
       "  'hard',\n",
       "  'no lenses',\n",
       "  'soft',\n",
       "  'no lenses',\n",
       "  'no lenses',\n",
       "  'no lenses',\n",
       "  'no lenses',\n",
       "  'no lenses',\n",
       "  'hard',\n",
       "  'no lenses',\n",
       "  'soft',\n",
       "  'no lenses',\n",
       "  'no lenses'])"
      ]
     },
     "execution_count": 1,
     "metadata": {},
     "output_type": "execute_result"
    }
   ],
   "source": [
    "fileName = 'C:/Users/Administrator/Desktop/机器学习实战代码/MLiA_SourceCode/Ch03/lenses.txt'\n",
    "file = open(fileName)\n",
    "data = []\n",
    "label = []\n",
    "for context in file.readlines():\n",
    "    cureline = context.split()\n",
    "    data.append([num for num in cureline[:4]])\n",
    "    if len(cureline) == 5 :\n",
    "        label.append(cureline[4])\n",
    "    else:\n",
    "        label.append(cureline[4]+' '+cureline[5])\n",
    "data,label"
   ]
  },
  {
   "cell_type": "code",
   "execution_count": 156,
   "metadata": {},
   "outputs": [
    {
     "data": {
      "text/plain": [
       "{'tearRate': {'reduced': 'no lenses',\n",
       "  'normal': {'astigmatic': {'yes': {'prescript': {'myope': 'hard',\n",
       "      'hyper': {'age': {'young': 'hard',\n",
       "        'presbyopic': 'no lenses',\n",
       "        'pre': 'no lenses'}}}},\n",
       "    'no': {'age': {'young': 'soft',\n",
       "      'presbyopic': {'prescript': {'myope': 'no lenses', 'hyper': 'soft'}},\n",
       "      'pre': 'soft'}}}}}}"
      ]
     },
     "execution_count": 156,
     "metadata": {},
     "output_type": "execute_result"
    }
   ],
   "source": [
    "colSname = ['age','prescript','astigmatic','tearRate']\n",
    "eye_tree = createTree(data,label,colSname)\n",
    "eye_tree"
   ]
  },
  {
   "cell_type": "code",
   "execution_count": null,
   "metadata": {},
   "outputs": [],
   "source": []
  },
  {
   "cell_type": "code",
   "execution_count": null,
   "metadata": {},
   "outputs": [],
   "source": []
  },
  {
   "cell_type": "code",
   "execution_count": null,
   "metadata": {},
   "outputs": [],
   "source": []
  }
 ],
 "metadata": {
  "kernelspec": {
   "display_name": "Python 3",
   "language": "python",
   "name": "python3"
  },
  "language_info": {
   "codemirror_mode": {
    "name": "ipython",
    "version": 3
   },
   "file_extension": ".py",
   "mimetype": "text/x-python",
   "name": "python",
   "nbconvert_exporter": "python",
   "pygments_lexer": "ipython3",
   "version": "3.7.0"
  }
 },
 "nbformat": 4,
 "nbformat_minor": 2
}
