{
 "cells": [
  {
   "cell_type": "code",
   "execution_count": 1,
   "metadata": {},
   "outputs": [],
   "source": [
    "import numpy as np\n",
    "import math\n",
    "import pandas as pd\n",
    "import matplotlib.pyplot as plt"
   ]
  },
  {
   "cell_type": "code",
   "execution_count": 2,
   "metadata": {},
   "outputs": [],
   "source": [
    "def loadData(fileName):\n",
    "    file = open(fileName)\n",
    "    data = []; label = []\n",
    "    for feature in file.readlines():\n",
    "        feature = feature.split()\n",
    "        data.append([float(num) for num in feature[:-1]])\n",
    "        label.append(int(feature[-1]))\n",
    "    return data,label"
   ]
  },
  {
   "cell_type": "code",
   "execution_count": 3,
   "metadata": {},
   "outputs": [],
   "source": [
    "def sigmoid(X):\n",
    "    return 1/(1+np.exp(-X))"
   ]
  },
  {
   "cell_type": "code",
   "execution_count": 66,
   "metadata": {},
   "outputs": [],
   "source": [
    "#利用最大似然的梯度作为梯度上升的更新\n",
    "def gradAscent(data,label):\n",
    "    data = np.array(data)\n",
    "    theta_data = np.insert(data,0,values = np.ones(data.shape[0]),axis=1)  #加上了偏差b\n",
    "    dataMat = np.mat(theta_data)\n",
    "    labelMat = np.mat(label).T     #将行向量变为列向量\n",
    "    count = 300\n",
    "    h = 0.01\n",
    "    theta = np.ones((dataMat.shape[1],1))\n",
    "    for i in range(count):\n",
    "        Y = sigmoid(dataMat*theta)\n",
    "        error = labelMat - Y\n",
    "        theta += h*dataMat.T * error\n",
    "    return theta"
   ]
  },
  {
   "cell_type": "code",
   "execution_count": 67,
   "metadata": {},
   "outputs": [],
   "source": [
    "#随机梯度上升(效果不好，通过多次循环得到theta【可设定一个循环次数】)\n",
    "def stocGradAscent(data,label):\n",
    "    data = np.array(data)\n",
    "    m,n = np.shape(data)   \n",
    "    data_theta = np.insert(data,0,values = np.ones(m),axis=1)\n",
    "    alpha = 0.05\n",
    "    theta = np.ones(n+1)\n",
    "    for i in range(m):\n",
    "        h = sigmoid(sum(data_theta[i]*theta))\n",
    "        error = label[i] - h\n",
    "        theta = theta + alpha * error * data_theta[i] \n",
    "    return theta"
   ]
  },
  {
   "cell_type": "code",
   "execution_count": 68,
   "metadata": {
    "scrolled": true
   },
   "outputs": [
    {
     "data": {
      "text/plain": [
       "array([ 1.62422453,  0.67796622, -0.53781485])"
      ]
     },
     "execution_count": 68,
     "metadata": {},
     "output_type": "execute_result"
    }
   ],
   "source": [
    "fileName = 'C:/Users/Administrator/Desktop/机器学习实战代码/MLiA_SourceCode/Ch05/testSet.txt'\n",
    "data,label = loadData(fileName)\n",
    "theta = gradAscent(data,label)\n",
    "theta1 = stocGradAscent(data,label)\n",
    "theta1"
   ]
  },
  {
   "cell_type": "code",
   "execution_count": 69,
   "metadata": {},
   "outputs": [
    {
     "data": {
      "text/plain": [
       "[<matplotlib.lines.Line2D at 0x1bdee3d1fd0>]"
      ]
     },
     "execution_count": 69,
     "metadata": {},
     "output_type": "execute_result"
    },
    {
     "data": {
      "image/png": "[encoded data removed]",
      "text/plain": [
       "<Figure size 432x288 with 1 Axes>"
      ]
     },
     "metadata": {},
     "output_type": "display_data"
    }
   ],
   "source": [
    "import matplotlib.pyplot as plt\n",
    "xcord1 = [] ; ycord1 = []\n",
    "xcord2 = [] ; ycord2 = []\n",
    "for i in range(len(data)):\n",
    "    if label[i] == 0:\n",
    "        xcord1.append(data[i][0]);ycord1.append(data[i][1])\n",
    "    if label[i] == 1:\n",
    "        xcord2.append(data[i][0]);ycord2.append(data[i][1])\n",
    "plt.scatter(xcord1,ycord1,s=30,c='red',marker='s')\n",
    "plt.scatter(xcord2,ycord2,s=30,c='green')\n",
    "x = np.arange(-3,3,0.1)\n",
    "y = -(theta1[0]+theta1[1]*x)/theta1[2]\n",
    "plt.plot(x,y)"
   ]
  },
  {
   "cell_type": "code",
   "execution_count": 1,
   "metadata": {},
   "outputs": [
    {
     "ename": "ModuleNotFoundError",
     "evalue": "No module named 'gluon'",
     "output_type": "error",
     "traceback": [
      "\u001b[1;31m---------------------------------------------------------------------------\u001b[0m",
      "\u001b[1;31mModuleNotFoundError\u001b[0m                       Traceback (most recent call last)",
      "\u001b[1;32m<ipython-input-1-06f0204c8f81>\u001b[0m in \u001b[0;36m<module>\u001b[1;34m\u001b[0m\n\u001b[1;32m----> 1\u001b[1;33m \u001b[1;32mimport\u001b[0m \u001b[0mgluon\u001b[0m\u001b[1;33m\u001b[0m\u001b[1;33m\u001b[0m\u001b[0m\n\u001b[0m",
      "\u001b[1;31mModuleNotFoundError\u001b[0m: No module named 'gluon'"
     ]
    }
   ],
   "source": [
    "import gluon"
   ]
  },
  {
   "cell_type": "code",
   "execution_count": 2,
   "metadata": {},
   "outputs": [],
   "source": [
    "import numpy"
   ]
  }
 ],
 "metadata": {
  "kernelspec": {
   "display_name": "Python 3",
   "language": "python",
   "name": "python3"
  },
  "language_info": {
   "codemirror_mode": {
    "name": "ipython",
    "version": 3
   },
   "file_extension": ".py",
   "mimetype": "text/x-python",
   "name": "python",
   "nbconvert_exporter": "python",
   "pygments_lexer": "ipython3",
   "version": "3.7.4"
  }
 },
 "nbformat": 4,
 "nbformat_minor": 2
}
