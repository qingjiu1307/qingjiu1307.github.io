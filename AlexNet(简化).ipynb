{
 "cells": [
  {
   "cell_type": "code",
   "execution_count": 1,
   "metadata": {
    "collapsed": true
   },
   "outputs": [],
   "source": [
    "from mxnet import gluon,init,nd\n",
    "from mxnet.gluon import nn"
   ]
  },
  {
   "cell_type": "code",
   "execution_count": 2,
   "metadata": {
    "collapsed": true
   },
   "outputs": [],
   "source": [
    "net = nn.Sequential()\n",
    "net.add(nn.Conv2D(96,kernel_size=11,strides=4,activation='relu'),\n",
    "        nn.MaxPool2D(pool_size=3,strides=2),\n",
    "        nn.Conv2D(256,kernel_size=5,padding=2,activation='relu'),\n",
    "        nn.MaxPool2D(pool_size=3,strides=2),\n",
    "        nn.Conv2D(384,kernel_size=3,padding=1,activation='relu'),\n",
    "        nn.Conv2D(384,kernel_size=3,padding=1,activation='relu'),\n",
    "        nn.Conv2D(256,kernel_size=3,padding=1,activation='relu'),\n",
    "        nn.MaxPool2D(pool_size=3,strides=2),\n",
    "        nn.Flatten(),#构成一个全连接\n",
    "        nn.Dense(4096,activation='relu'),\n",
    "        nn.Dropout(0.5),#防止过拟合\n",
    "        nn.Dense(4096,activation='relu'),\n",
    "        nn.Dropout(0.5),\n",
    "        nn.Dense(10))"
   ]
  },
  {
   "cell_type": "code",
   "execution_count": null,
   "metadata": {
    "collapsed": true
   },
   "outputs": [],
   "source": []
  },
  {
   "cell_type": "code",
   "execution_count": 3,
   "metadata": {},
   "outputs": [
    {
     "name": "stdout",
     "output_type": "stream",
     "text": [
      "conv0 output shape:\t (1, 96, 54, 54)\n",
      "pool0 output shape:\t (1, 96, 26, 26)\n",
      "conv1 output shape:\t (1, 256, 26, 26)\n",
      "pool1 output shape:\t (1, 256, 12, 12)\n",
      "conv2 output shape:\t (1, 384, 12, 12)\n",
      "conv3 output shape:\t (1, 384, 12, 12)\n",
      "conv4 output shape:\t (1, 256, 12, 12)\n",
      "pool2 output shape:\t (1, 256, 5, 5)\n",
      "flatten0 output shape:\t (1, 6400)\n",
      "dense0 output shape:\t (1, 4096)\n",
      "dropout0 output shape:\t (1, 4096)\n",
      "dense1 output shape:\t (1, 4096)\n",
      "dropout1 output shape:\t (1, 4096)\n",
      "dense2 output shape:\t (1, 10)\n"
     ]
    }
   ],
   "source": [
    "X = nd.random_uniform(shape=(1,1,224,224))\n",
    "net.initialize()\n",
    "for layer in net:\n",
    "    X = layer(X)\n",
    "    print(layer.name,'output shape:\\t',X.shape)"
   ]
  },
  {
   "cell_type": "code",
   "execution_count": 4,
   "metadata": {
    "collapsed": true
   },
   "outputs": [],
   "source": [
    "import utils\n",
    "from mxnet import image\n",
    "batch_size = 128\n",
    "train_data,test_data = utils.load_data_fashion_mnist(batch_size,resize=(224,224))"
   ]
  },
  {
   "cell_type": "code",
   "execution_count": 5,
   "metadata": {
    "collapsed": true
   },
   "outputs": [],
   "source": [
    "softmax_cross_entropy = gluon.loss.SoftmaxCrossEntropyLoss()"
   ]
  },
  {
   "cell_type": "code",
   "execution_count": 6,
   "metadata": {
    "collapsed": true
   },
   "outputs": [],
   "source": [
    "def accuracy(output,label):\n",
    "    return nd.mean(output.argmax(axis = 1) == label).asscalar()"
   ]
  },
  {
   "cell_type": "code",
   "execution_count": 7,
   "metadata": {
    "collapsed": true
   },
   "outputs": [],
   "source": [
    "def evaluate_accuracy(data_iterator,net):\n",
    "    acc = 0\n",
    "    for data,label in data_iterator:\n",
    "        output = net(data)\n",
    "        acc += accuracy(output,label)\n",
    "    return acc/len(data_iterator)"
   ]
  },
  {
   "cell_type": "code",
   "execution_count": 10,
   "metadata": {},
   "outputs": [
    {
     "name": "stdout",
     "output_type": "stream",
     "text": [
      "Epoch: 0,train_loss: 1.267184,train_acc: 0.000000, test_acc: 0.000000\n",
      "Epoch: 1,train_loss: 0.645976,train_acc: 0.000000, test_acc: 0.000000\n",
      "Epoch: 2,train_loss: 0.528928,train_acc: 0.000000, test_acc: 0.000000\n",
      "Epoch: 3,train_loss: 0.465504,train_acc: 0.000000, test_acc: 0.000000\n",
      "Epoch: 4,train_loss: 0.421147,train_acc: 0.000000, test_acc: 0.000000\n"
     ]
    }
   ],
   "source": [
    "from mxnet import autograd\n",
    "lr,num_epochs = 0.01, 5\n",
    "net.initialize(init=init.Xavier(),force_reinit=True)\n",
    "trainer = gluon.Trainer(net.collect_params(),'sgd',{'learning_rate':lr})\n",
    "for e in range(num_epochs):\n",
    "    train_loss = 0\n",
    "    train_acc = 0\n",
    "    test_acc = 0\n",
    "    for data,label in train_data:\n",
    "        with autograd.record():\n",
    "            output = net(data)\n",
    "            loss = softmax_cross_entropy(output,label)\n",
    "        loss.backward()\n",
    "        trainer.step(batch_size)\n",
    "        train_loss += nd.mean(loss).asscalar()\n",
    "#         train_acc += accuracy(output,label)\n",
    "#     test_acc = utils.evaluate_accuracy(test_data,net)\n",
    "    print(\"Epoch: %d,train_loss: %f,train_acc: %f, test_acc: %f\" % (e,train_loss/len(train_data),train_acc/len(train_data),test_acc))"
   ]
  },
  {
   "cell_type": "code",
   "execution_count": null,
   "metadata": {
    "collapsed": true
   },
   "outputs": [],
   "source": []
  },
  {
   "cell_type": "code",
   "execution_count": null,
   "metadata": {
    "collapsed": true
   },
   "outputs": [],
   "source": []
  },
  {
   "cell_type": "code",
   "execution_count": null,
   "metadata": {
    "collapsed": true
   },
   "outputs": [],
   "source": [
    "\n",
    "\n"
   ]
  }
 ],
 "metadata": {
  "kernelspec": {
   "display_name": "Python 3",
   "language": "python",
   "name": "python3"
  },
  "language_info": {
   "codemirror_mode": {
    "name": "ipython",
    "version": 3
   },
   "file_extension": ".py",
   "mimetype": "text/x-python",
   "name": "python",
   "nbconvert_exporter": "python",
   "pygments_lexer": "ipython3",
   "version": "3.6.2"
  }
 },
 "nbformat": 4,
 "nbformat_minor": 2
}
