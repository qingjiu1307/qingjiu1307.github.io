{
 "cells": [
  {
   "cell_type": "markdown",
   "metadata": {},
   "source": [
    "## R-CNN\n",
    "区域卷积神经网络，对图片中的区域进行卷积神经网络"
   ]
  },
  {
   "cell_type": "markdown",
   "metadata": {},
   "source": [
    "## Fast-R-CNN\n",
    " 由于R-CNN进行了生成边框再检测物体，所需边框以及forward耗费大。Fast-R-CNN改进，对图片卷积Conv -> 得到特征生成区域 -> 由于区域大小不一致，进行RoI Pooling(将边框均匀切分后maxPooling) -> Dense -> 使用单个多类逻辑回归softmax而非SVM"
   ]
  },
  {
   "cell_type": "code",
   "execution_count": 2,
   "metadata": {},
   "outputs": [
    {
     "data": {
      "text/plain": [
       "\n",
       "[[[[ 0.  1.  2.  3.]\n",
       "   [ 4.  5.  6.  7.]\n",
       "   [ 8.  9. 10. 11.]\n",
       "   [12. 13. 14. 15.]]]]\n",
       "<NDArray 1x1x4x4 @cpu(0)>"
      ]
     },
     "execution_count": 2,
     "metadata": {},
     "output_type": "execute_result"
    }
   ],
   "source": [
    "from mxnet import nd\n",
    "x = nd.arange(16).reshape((1, 1, 4, 4))\n",
    "x"
   ]
  },
  {
   "cell_type": "markdown",
   "metadata": {},
   "source": [
    "创建两个区域，每个区域由一个长为5的向量表示，第一个元素为标签，之后为x_min,y_min, x_max, y_max。\n",
    "ROI池化层输出大小为 num_regions x num_channels x n x m 相当于样本个数为区域个数的批量"
   ]
  },
  {
   "cell_type": "code",
   "execution_count": 4,
   "metadata": {},
   "outputs": [
    {
     "data": {
      "text/plain": [
       "\n",
       "[[[[ 5.  6.]\n",
       "   [ 9. 10.]]]\n",
       "\n",
       "\n",
       " [[[ 9. 11.]\n",
       "   [13. 15.]]]]\n",
       "<NDArray 2x1x2x2 @cpu(0)>"
      ]
     },
     "execution_count": 4,
     "metadata": {},
     "output_type": "execute_result"
    }
   ],
   "source": [
    "rois = nd.array([[0, 0, 0, 2, 2], [0, 0, 1, 3, 3]])\n",
    "nd.ROIPooling(x, rois, pooled_size=(2,2), spatial_scale=1)"
   ]
  },
  {
   "cell_type": "markdown",
   "metadata": {},
   "source": [
    "## Faster-R-CNN\n",
    "在R-CNN和Fast-R-CNN中使用的是selective search来决定边框（启发式搜索），在这里就使用了Region Proposal Network决定边框\n",
    "Region Proposal Network以Pixel为中心生成各个大小，形状不同的方框，anchor box（锚框），对每个锚框生成特征，再判断与真实的距离，以及softmax判断是否有感兴趣的东西"
   ]
  }
 ],
 "metadata": {
  "kernelspec": {
   "display_name": "Python 3",
   "language": "python",
   "name": "python3"
  },
  "language_info": {
   "codemirror_mode": {
    "name": "ipython",
    "version": 3
   },
   "file_extension": ".py",
   "mimetype": "text/x-python",
   "name": "python",
   "nbconvert_exporter": "python",
   "pygments_lexer": "ipython3",
   "version": "3.6.2"
  }
 },
 "nbformat": 4,
 "nbformat_minor": 2
}
