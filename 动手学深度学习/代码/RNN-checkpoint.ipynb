{
 "cells": [
  {
   "cell_type": "markdown",
   "metadata": {},
   "source": [
    "## 读取数据集"
   ]
  },
  {
   "cell_type": "code",
   "execution_count": 1,
   "metadata": {
    "collapsed": true
   },
   "outputs": [],
   "source": [
    "from mxnet import nd\n",
    "import random\n",
    "import zipfile"
   ]
  },
  {
   "cell_type": "code",
   "execution_count": 2,
   "metadata": {},
   "outputs": [
    {
     "data": {
      "text/plain": [
       "'想要有直升机\\n想要和你飞到宇宙去\\n想要和你融化在一起\\n融化在宇宙里\\n我每天每天每天在想想想想著你\\n这样的甜蜜\\n让我开始乡相信命运\\n感谢地心引力\\n让我碰到你\\n漂亮的让我面红的可爱女人\\n温柔的让我心疼的可爱女人\\n透明的让我感动的可爱女人\\n坏坏的让我疯狂的可爱女人\\n坏坏的让我疯狂的可爱女人\\n漂亮的让我面红的可爱女人\\n温柔的让我心疼的可爱女人\\n透明的让我感动的可爱女人\\n坏坏的让我疯狂的可爱女人\\n坏坏的让我'"
      ]
     },
     "execution_count": 2,
     "metadata": {},
     "output_type": "execute_result"
    }
   ],
   "source": [
    "with zipfile.ZipFile('C:/Users/Administrator/DoDL/data/jaychou_lyrics.txt.zip') as zin:\n",
    "    with zin.open('jaychou_lyrics.txt') as f:\n",
    "        corpus_chars = f.read().decode('utf-8')\n",
    "corpus_chars[: 200]"
   ]
  },
  {
   "cell_type": "code",
   "execution_count": 3,
   "metadata": {
    "collapsed": true
   },
   "outputs": [],
   "source": [
    "corpus_chars = corpus_chars.replace('\\n',' ').replace('\\r', ' ')\n",
    "corpus_chars = corpus_chars[: 10000]"
   ]
  },
  {
   "cell_type": "markdown",
   "metadata": {},
   "source": [
    "## 建立字符索引 \n",
    "我们将每个字符映射成一个从0开始的连续整数，又称索引，来方便之后的数据处理。为了得到索引，我们将数据集里所有不同字符取出来，然后将其逐一映射到索引来构造词典。</p>接着，打印vocab_size，即词典中不同字符的个数，又称词典大小。"
   ]
  },
  {
   "cell_type": "code",
   "execution_count": 4,
   "metadata": {
    "collapsed": true
   },
   "outputs": [],
   "source": [
    "idx_to_char = list(set(corpus_chars))\n",
    "char_to_idx = dict([(char, i) for i,char in enumerate(idx_to_char)])\n",
    "vocab_size = len(char_to_idx)"
   ]
  },
  {
   "cell_type": "code",
   "execution_count": 5,
   "metadata": {},
   "outputs": [
    {
     "name": "stdout",
     "output_type": "stream",
     "text": [
      "chars: 想要有直升机 想要和你飞到宇宙去 想要和\n",
      "index: [688, 1012, 752, 395, 314, 413, 55, 688, 1012, 246, 292, 803, 376, 74, 300, 782, 55, 688, 1012, 246]\n"
     ]
    }
   ],
   "source": [
    "corpus_indices = [char_to_idx[char] for char in corpus_chars]\n",
    "sample = corpus_indices[:20]\n",
    "print('chars:',''.join([idx_to_char[idx] for idx in sample]))\n",
    "print('index:',sample)"
   ]
  },
  {
   "cell_type": "markdown",
   "metadata": {},
   "source": [
    "## 数据随机采样"
   ]
  },
  {
   "cell_type": "code",
   "execution_count": 18,
   "metadata": {
    "collapsed": true
   },
   "outputs": [],
   "source": [
    "def data_iter_random(corpus_indices, batch_size, num_steps):\n",
    "    num_examples = (len(corpus_indices) - 1) // num_steps\n",
    "    epoch_size = num_examples // batch_size\n",
    "    example_indices = list(range(num_examples))\n",
    "    random.shuffle(example_indices)\n",
    "    \n",
    "    def _data(pos):\n",
    "        return corpus_indices[pos : pos + num_steps]\n",
    "    \n",
    "    for i in range(epoch_size):\n",
    "        i = i * batch_size\n",
    "        batch_indices = example_indices[i : i + batch_size]\n",
    "        #表示一个batch_size样本\n",
    "        X = [_data(j * num_steps) for j in batch_indices]\n",
    "        Y = [_data(j * num_steps + 1) for j in batch_indices]\n",
    "        yield nd.array(X), nd.array(Y)"
   ]
  },
  {
   "cell_type": "code",
   "execution_count": 22,
   "metadata": {},
   "outputs": [
    {
     "name": "stdout",
     "output_type": "stream",
     "text": [
      "X:  \n",
      "[[ 6.  7.  8.  9. 10. 11.]\n",
      " [ 0.  1.  2.  3.  4.  5.]]\n",
      "<NDArray 2x6 @cpu(0)> \n",
      "Y:  \n",
      "[[ 7.  8.  9. 10. 11. 12.]\n",
      " [ 1.  2.  3.  4.  5.  6.]]\n",
      "<NDArray 2x6 @cpu(0)> \n",
      "\n",
      "X:  \n",
      "[[18. 19. 20. 21. 22. 23.]\n",
      " [12. 13. 14. 15. 16. 17.]]\n",
      "<NDArray 2x6 @cpu(0)> \n",
      "Y:  \n",
      "[[19. 20. 21. 22. 23. 24.]\n",
      " [13. 14. 15. 16. 17. 18.]]\n",
      "<NDArray 2x6 @cpu(0)> \n",
      "\n"
     ]
    }
   ],
   "source": [
    "my_seq = list(range(30))\n",
    "for X, Y in data_iter_random(my_seq, batch_size=2, num_steps=6):\n",
    "    print('X: ', X, '\\nY: ', Y, '\\n')"
   ]
  },
  {
   "cell_type": "markdown",
   "metadata": {},
   "source": [
    "## 相邻采样 "
   ]
  },
  {
   "cell_type": "code",
   "execution_count": 27,
   "metadata": {
    "collapsed": true
   },
   "outputs": [],
   "source": [
    "def data_iter_consecutive(corpus_indices, batch_size, num_steps):\n",
    "    corpus_indices = nd.array(corpus_indices)\n",
    "    data_len = len(corpus_indices)\n",
    "    batch_len = data_len // batch_size\n",
    "    indices = corpus_indices[0 : batch_len * batch_size].reshape(\n",
    "        (batch_size, batch_len))\n",
    "    epoch_size = (batch_len - 1) // num_steps\n",
    "    \n",
    "    for i in range(epoch_size):\n",
    "        i = i * num_steps\n",
    "        X = indices[:, i : i+num_steps]\n",
    "        #每个预测值label为X其后一位\n",
    "        Y = indices[:, i+1 : i+num_steps+1]\n",
    "        yield X, Y"
   ]
  },
  {
   "cell_type": "code",
   "execution_count": 28,
   "metadata": {},
   "outputs": [
    {
     "name": "stdout",
     "output_type": "stream",
     "text": [
      "X:  \n",
      "[[ 0.  1.  2.  3.  4.  5.]\n",
      " [15. 16. 17. 18. 19. 20.]]\n",
      "<NDArray 2x6 @cpu(0)> \n",
      "Y:  \n",
      "[[ 1.  2.  3.  4.  5.  6.]\n",
      " [16. 17. 18. 19. 20. 21.]]\n",
      "<NDArray 2x6 @cpu(0)>\n",
      "X:  \n",
      "[[ 6.  7.  8.  9. 10. 11.]\n",
      " [21. 22. 23. 24. 25. 26.]]\n",
      "<NDArray 2x6 @cpu(0)> \n",
      "Y:  \n",
      "[[ 7.  8.  9. 10. 11. 12.]\n",
      " [22. 23. 24. 25. 26. 27.]]\n",
      "<NDArray 2x6 @cpu(0)>\n"
     ]
    }
   ],
   "source": [
    "for X, Y in data_iter_consecutive(my_seq, 2, 6):\n",
    "    print('X: ', X, '\\nY: ', Y)"
   ]
  },
  {
   "cell_type": "code",
   "execution_count": 94,
   "metadata": {},
   "outputs": [],
   "source": [
    "#对每列X生成其one_hot变量\n",
    "def to_onehot(X, size):\n",
    "    return [nd.one_hot(x, size) for x in X.T]"
   ]
  },
  {
   "cell_type": "code",
   "execution_count": 95,
   "metadata": {},
   "outputs": [
    {
     "data": {
      "text/plain": [
       "(5, (2, 1027))"
      ]
     },
     "execution_count": 95,
     "metadata": {},
     "output_type": "execute_result"
    }
   ],
   "source": [
    "X = nd.arange(10).reshape(2, 5)\n",
    "inputs = to_onehot(X, vocab_size)\n",
    "len(inputs), inputs[0].shape"
   ]
  },
  {
   "cell_type": "markdown",
   "metadata": {},
   "source": [
    "## 初始化模型参数 "
   ]
  },
  {
   "cell_type": "code",
   "execution_count": 37,
   "metadata": {
    "collapsed": true
   },
   "outputs": [],
   "source": [
    "num_inputs, num_hiddens, num_outputs = vocab_size, 256, vocab_size\n",
    "\n",
    "def get_params():\n",
    "    def _one(shape):\n",
    "        return nd.random.normal(scale=0.1, shape=shape)\n",
    "    \n",
    "    W_xh = _one((num_inputs, num_hiddens))\n",
    "    W_hh = _one((num_hiddens, num_hiddens))\n",
    "    b_h = _one(num_hiddens)\n",
    "    \n",
    "    W_hq = _one((num_hiddens, num_outputs))\n",
    "    b_q = _one(num_outputs)\n",
    "    \n",
    "    params = [W_xh, W_hh, b_h, W_hq, b_q]\n",
    "    for param in params:\n",
    "        param.attach_grad()\n",
    "    return params"
   ]
  },
  {
   "cell_type": "markdown",
   "metadata": {},
   "source": [
    "我们根据循环神经网络的计算表达式实现该模型。首先定义init_rnn_state函数来返回初始化的隐藏状态。它返回由一个形状为(批量大小, 隐藏单元个数)的值为0的NDArray组成的元组。使用元组是为了更便于处理隐藏状态含有多个NDArray的情况。"
   ]
  },
  {
   "cell_type": "code",
   "execution_count": 38,
   "metadata": {
    "collapsed": true
   },
   "outputs": [],
   "source": [
    "def init_rnn_state(batch_size, num_hiddens):\n",
    "    return (nd.zeros(shape=(batch_size, num_hiddens)))"
   ]
  },
  {
   "cell_type": "code",
   "execution_count": 85,
   "metadata": {},
   "outputs": [],
   "source": [
    "def rnn(inputs, state, params):\n",
    "    W_xh, W_hh, b_h, W_hq, b_q = params\n",
    "    H = state\n",
    "    outputs = []\n",
    "    for i in range(len(inputs)):\n",
    "        H = nd.tanh(nd.dot(inputs[i], W_xh) + nd.dot(H, W_hh) + b_h)\n",
    "        Y = nd.dot(H, W_hq) + b_q\n",
    "        outputs.append(Y)\n",
    "    return outputs, H"
   ]
  },
  {
   "cell_type": "code",
   "execution_count": 87,
   "metadata": {},
   "outputs": [
    {
     "data": {
      "text/plain": [
       "([\n",
       "  [[ 0.28881067  0.10467796 -0.03929904 ...  0.24380223  0.05025802\n",
       "     0.10280765]\n",
       "   [ 0.01412531  0.11303437  0.25134018 ...  0.30578032  0.06342063\n",
       "    -0.09509572]]\n",
       "  <NDArray 2x1027 @cpu(0)>, \n",
       "  [[ 1.0610616  -0.15160188  0.14880267 ... -0.22473614 -0.23408815\n",
       "    -0.98566633]\n",
       "   [ 0.8338173   0.73671293  0.20909488 ... -0.15139954 -0.10566447\n",
       "    -0.65294963]]\n",
       "  <NDArray 2x1027 @cpu(0)>, \n",
       "  [[ 0.9164351   0.12394084 -0.1295506  ... -0.71881616 -1.1520063\n",
       "    -0.8472549 ]\n",
       "   [ 0.8577522   0.00307181 -0.38918775 ... -0.86028135 -0.6300004\n",
       "    -0.8050769 ]]\n",
       "  <NDArray 2x1027 @cpu(0)>, \n",
       "  [[ 1.2964106  -0.3300189   0.27917066 ... -0.8488905   0.00639812\n",
       "    -1.1021763 ]\n",
       "   [ 1.0541924   0.26212704  0.04923218 ... -0.670039   -0.355806\n",
       "    -0.71618265]]\n",
       "  <NDArray 2x1027 @cpu(0)>, \n",
       "  [[ 1.2386703  -1.0265653   0.4204648  ... -0.24065225 -1.4249232\n",
       "     0.4760417 ]\n",
       "   [ 2.4123933  -0.13645622  0.42140067 ...  0.04470438 -0.6946712\n",
       "     1.4926794 ]]\n",
       "  <NDArray 2x1027 @cpu(0)>], \n",
       " [[-0.01434942 -0.31348565 -0.78447974 -0.3896723  -0.6050012   0.7390372\n",
       "    0.00473423  0.23101337  0.20052563 -0.22890143  0.33965674 -0.1356363\n",
       "    0.44942814 -0.5237919  -0.49905765 -0.3702125  -0.38871163  0.05051328\n",
       "    0.5347675  -0.39434814  0.04118684 -0.549747    0.8331866   0.4083809\n",
       "   -0.7444124   0.27932     0.41946468  0.81806386 -0.61068034 -0.90663147\n",
       "    0.94295776  0.00810771  0.5742824  -0.35418776  0.9535969  -0.14331813\n",
       "   -0.5231537  -0.25985938  0.5146747  -0.8517808   0.6967625   0.45249617\n",
       "   -0.04641472  0.21085812 -0.8719217   0.17221522 -0.5698636   0.88820505\n",
       "    0.8016062   0.23621018  0.6758309  -0.1200212   0.00165453  0.34155294\n",
       "    0.34730378  0.03162031  0.9476866  -0.49757218 -0.6189739  -0.45075443\n",
       "    0.4615791   0.5658459   0.2519543   0.33339503  0.7368378  -0.8849457\n",
       "    0.62750864 -0.5074893   0.5379416  -0.67943686  0.992811   -0.8118144\n",
       "   -0.14432025 -0.4151766   0.20858371  0.81888866  0.82357883 -0.4162929\n",
       "    0.64710104  0.362961    0.795064   -0.26629654 -0.02609355 -0.86514354\n",
       "   -0.661384    0.2181373   0.73814255  0.464384   -0.23307668  0.33290115\n",
       "   -0.00381089  0.9439169   0.79992574 -0.42941993 -0.82946515 -0.8481134\n",
       "    0.549402    0.03991621 -0.63708425 -0.11309294  0.89475036 -0.7289039\n",
       "   -0.23969409  0.585685   -0.25122365  0.62441856 -0.21080324 -0.3142862\n",
       "   -0.704209    0.0976865   0.37116382  0.07246312 -0.9344501  -0.37031382\n",
       "    0.3143186   0.9722412  -0.23589443  0.5501042  -0.89550936  0.8212262\n",
       "    0.45342696  0.30474848  0.07396536 -0.35117817 -0.29248434 -0.65071887\n",
       "   -0.14200391 -0.61170924  0.16092737 -0.731712    0.40189976 -0.7872814\n",
       "    0.14375667  0.8058089   0.2960339   0.04949636  0.03142481 -0.6948583\n",
       "   -0.04365866 -0.70213777  0.58763415 -0.95415837  0.03151948  0.59681726\n",
       "   -0.4216869   0.24277225  0.70633906  0.33046722  0.33915418 -0.14494084\n",
       "    0.138041    0.829123    0.29601946  0.23898044  0.73322725  0.80477446\n",
       "   -0.7242394  -0.5652088  -0.17729321  0.42734867 -0.7700012  -0.31975904\n",
       "    0.05383524  0.7169585   0.8377917   0.5838252  -0.90139824 -0.02121541\n",
       "   -0.5431354  -0.47273767  0.27442682  0.39482114  0.40902302 -0.96095204\n",
       "   -0.52279156 -0.81570005  0.23931041 -0.26496702 -0.29096428 -0.374469\n",
       "    0.8698592  -0.4576656   0.6203106  -0.53590083 -0.08421122  0.4424817\n",
       "    0.71772563  0.70637435 -0.6205427   0.27322754 -0.7951407  -0.65322065\n",
       "    0.30573237  0.30211148 -0.5594804   0.16508552  0.65358806 -0.12585752\n",
       "    0.40062493  0.8108312  -0.7468652  -0.35884383  0.6454991  -0.34540057\n",
       "    0.25457424  0.5408411  -0.7042771   0.9231012   0.37340203  0.69078106\n",
       "   -0.31852132 -0.38823774 -0.22946936 -0.09139772 -0.36646757 -0.8652978\n",
       "   -0.9081189  -0.5951086   0.6933761   0.38185334 -0.33542338 -0.10034075\n",
       "    0.3237288   0.3497124  -0.80786955  0.60398006  0.92949796  0.6812553\n",
       "   -0.71435523 -0.879105    0.45111635  0.03590813  0.67853296  0.478778\n",
       "   -0.13460672  0.6894427   0.13458553  0.00764173 -0.9222264   0.50072736\n",
       "   -0.36093366  0.55691075  0.8893865   0.23169442  0.81869566  0.8024074\n",
       "   -0.6184775   0.7667977   0.59525657  0.14835691  0.16922872  0.21514493\n",
       "   -0.39393866 -0.83718616 -0.29507968 -0.65932214]\n",
       "  [ 0.8228904   0.11900115 -0.8866559  -0.9267094  -0.71796876  0.00224778\n",
       "    0.8446312   0.6234132   0.812632   -0.5570318   0.31544447 -0.6745157\n",
       "    0.5362289  -0.32322463 -0.44652635 -0.9792088   0.07226235 -0.23659341\n",
       "   -0.70660686 -0.40627328  0.17006285 -0.5053222   0.8310036  -0.03919928\n",
       "   -0.46707132 -0.39015552  0.00332397 -0.16731417 -0.7152517  -0.07329183\n",
       "    0.22842424 -0.15763018 -0.13410145 -0.63573325  0.05542007 -0.13391559\n",
       "    0.345556   -0.662868   -0.08190817 -0.9353201   0.93746275  0.32782364\n",
       "   -0.6156726   0.65160656 -0.868804   -0.568674   -0.23210014  0.8740942\n",
       "   -0.4097555   0.82993275  0.9106398   0.37093553  0.4679888   0.6123285\n",
       "   -0.1283939   0.302511    0.97937554  0.81011283 -0.9697667   0.82104504\n",
       "   -0.07239968  0.07250283 -0.20392282  0.02758051  0.19347915 -0.5596856\n",
       "    0.6080395  -0.6697948  -0.07934155 -0.95751685  0.9590224  -0.5984236\n",
       "   -0.12932812  0.77259094  0.17921998  0.90722835  0.08289219  0.5072491\n",
       "    0.78610325  0.34204328  0.75724816 -0.6394941   0.06829116 -0.909661\n",
       "    0.06842253  0.6481831   0.32248986  0.04500955 -0.25902528 -0.38573176\n",
       "    0.02065571  0.84846157 -0.07837179 -0.5949292  -0.89811945 -0.89046866\n",
       "    0.83443415  0.38832864 -0.696853    0.3344099  -0.37435156 -0.7119728\n",
       "    0.0968511   0.24594176 -0.76007247  0.4760781   0.25783312 -0.8825737\n",
       "   -0.56213105  0.8139014  -0.42038754  0.25479135 -0.73386335 -0.12227064\n",
       "    0.6324988   0.61571443 -0.69623446  0.83390486 -0.8475167   0.13864446\n",
       "   -0.8833105  -0.41535458  0.0354685  -0.7212428   0.26908967  0.12186982\n",
       "    0.6354063  -0.33659914  0.68795943 -0.3784299   0.51684    -0.7792814\n",
       "    0.19476649 -0.107719   -0.1685791  -0.5399243   0.800807   -0.83881825\n",
       "    0.74782157 -0.8082999  -0.03989931 -0.8408454  -0.50381756  0.5805761\n",
       "   -0.63195884  0.7885872   0.11561007  0.9175361   0.5930214  -0.6668719\n",
       "    0.61150753  0.51461154  0.41349426 -0.20075189  0.390768    0.6355983\n",
       "    0.01495368 -0.21308438 -0.10959126  0.04953157 -0.12092495  0.28290087\n",
       "   -0.26772103 -0.42221344  0.29608166 -0.63364494 -0.83670914 -0.74770945\n",
       "   -0.7645194   0.5944421   0.04703866  0.8614638  -0.60634035 -0.7322591\n",
       "   -0.46748057 -0.5195164  -0.33176228 -0.4795972  -0.8768902  -0.05730642\n",
       "    0.55916363 -0.64158857  0.5778209  -0.01849956  0.18478924 -0.5921312\n",
       "    0.5870505   0.19493538 -0.93965644  0.08329006 -0.72993517 -0.6267337\n",
       "    0.00664065 -0.3741509  -0.70573604 -0.12071143  0.9761246  -0.12810035\n",
       "   -0.18117213  0.6776062  -0.6181661  -0.8810395   0.4823968  -0.4476841\n",
       "   -0.3786616   0.5412864   0.1062376   0.5313058   0.4865498   0.39176348\n",
       "    0.11771998 -0.50364447  0.33865988 -0.27443278  0.5580565  -0.5674317\n",
       "   -0.64109486 -0.76453304  0.7544872  -0.07635252 -0.64841264  0.6540823\n",
       "    0.8831      0.25984123 -0.6213075   0.78804696  0.8226858   0.15711518\n",
       "    0.1819924  -0.22920202  0.6663047   0.51311064  0.30911416  0.75212276\n",
       "   -0.71703374 -0.34891954 -0.0748148   0.9033236  -0.5312025   0.4390411\n",
       "    0.06711522 -0.14229017  0.7235908   0.6677275   0.3291412   0.77588284\n",
       "    0.95766026  0.69770706  0.8759482   0.3772593  -0.41556254 -0.87107205\n",
       "   -0.8421094  -0.15985994 -0.15431611 -0.19808757]]\n",
       " <NDArray 2x256 @cpu(0)>)"
      ]
     },
     "execution_count": 87,
     "metadata": {},
     "output_type": "execute_result"
    }
   ],
   "source": [
    "state = init_rnn_state(X.shape[0], num_hiddens)\n",
    "params = get_params()\n",
    "#在RNN中输入的是one_hot后的X\n",
    "outputs, state_new = rnn(inputs, state, params)\n",
    "outputs, state_new"
   ]
  },
  {
   "cell_type": "markdown",
   "metadata": {},
   "source": [
    "## 定义预测函数 \n",
    "以下函数基于前缀prefix（含有数个字符的字符串）来预测接下来的num_chars个字符。这个函数稍显复杂，其中我们将循环神经单元rnn设置成了函数参数，这样在后面小节介绍其他循环神经网络时能重复使用这个函数。"
   ]
  },
  {
   "cell_type": "code",
   "execution_count": 98,
   "metadata": {},
   "outputs": [],
   "source": [
    "def predict_rnn(prefix, num_chars, rnn, params, init_rnn_state,\n",
    "               num_hiddens, vocab_size, idx_to_char, char_to_idx):\n",
    "    state = init_rnn_state(1, num_hiddens)\n",
    "    output = [char_to_idx[prefix[0]]]\n",
    "    for t in range(num_chars + len(prefix) - 1):\n",
    "        X = to_onehot(nd.array([output[-1]]), vocab_size)\n",
    "        (Y, state) = rnn(X, state, params)\n",
    "        if t < len(prefix) - 1:\n",
    "            output.append(char_to_idx[prefix[t + 1]])\n",
    "        else:\n",
    "            output.append(int(Y[0].argmax(axis=1).asscalar()))\n",
    "    return ''.join([idx_to_char[i] for i in output])"
   ]
  },
  {
   "cell_type": "code",
   "execution_count": 100,
   "metadata": {},
   "outputs": [
    {
     "data": {
      "text/plain": [
       "'我种霜掉果丘我雕野呆擅'"
      ]
     },
     "execution_count": 100,
     "metadata": {},
     "output_type": "execute_result"
    }
   ],
   "source": [
    "predict_rnn('我',10, rnn, params, init_rnn_state, num_hiddens, vocab_size,\n",
    "            idx_to_char, char_to_idx)"
   ]
  },
  {
   "cell_type": "markdown",
   "metadata": {},
   "source": [
    "## 梯度裁剪 "
   ]
  },
  {
   "cell_type": "code",
   "execution_count": 118,
   "metadata": {
    "collapsed": true
   },
   "outputs": [],
   "source": [
    "def grad_clipping(params, theta):\n",
    "    norm = nd.array([0])\n",
    "    for param in params:\n",
    "        norm += (param.grad ** 2).sum()\n",
    "    norm = norm.sqrt().asscalar()\n",
    "    if norm > theta:\n",
    "        for param in params:\n",
    "            param.grad[:] *= theta / norm"
   ]
  },
  {
   "cell_type": "markdown",
   "metadata": {},
   "source": [
    "## 训练模型 "
   ]
  },
  {
   "cell_type": "code",
   "execution_count": 120,
   "metadata": {
    "collapsed": true
   },
   "outputs": [],
   "source": [
    "import utils\n",
    "from mxnet import autograd\n",
    "from mxnet.gluon import loss as gloss\n",
    "import time\n",
    "import math"
   ]
  },
  {
   "cell_type": "code",
   "execution_count": 121,
   "metadata": {
    "collapsed": true
   },
   "outputs": [],
   "source": [
    "def train_and_predict_rnn(rnn, get_params, init_rnn_state, num_hiddens,\n",
    "                         vocab_size, corpus_indices, idx_to_char,\n",
    "                          char_to_idx, is_random_iter, num_epochs,\n",
    "                          num_steps, lr, clipping_theta, batch_size,\n",
    "                          pred_period, pred_len, prefixes):\n",
    "    if is_random_iter:\n",
    "        data_iter_fn = data_iter_random\n",
    "    else:\n",
    "        data_iter_fn = data_iter_consecutive\n",
    "    params = get_params()\n",
    "    loss = gloss.SoftmaxCrossEntropyLoss()\n",
    "    \n",
    "    for epoch in range(num_epochs):\n",
    "        if not is_random_iter:\n",
    "            state = init_rnn_state(batch_size, num_hiddens)\n",
    "        l_sum, n, start = 0.0, 0, time.time()\n",
    "        data_iter = data_iter_fn(corpus_indices, batch_size, num_steps)\n",
    "        for X, Y in data_iter:\n",
    "            if is_random_iter:\n",
    "                state = init_rnn_state(batch_size, num_hiddens)\n",
    "            else:\n",
    "                for s in state:\n",
    "                    s.detach()\n",
    "            with autograd.record():\n",
    "                inputs = to_onehot(X, vocab_size)\n",
    "                (outputs, state) = rnn(inputs, state, params)\n",
    "                outputs = nd.concat(*outputs, dim=0)\n",
    "                y = Y.T.reshape((-1, ))\n",
    "                l = loss(outputs, y).mean()\n",
    "            l.backward()\n",
    "            grad_clipping(params, clipping_theta)\n",
    "            utils.sgd(params, lr, 1)\n",
    "            l_sum += l.asscalar() * y.size\n",
    "            n += y.size\n",
    "            \n",
    "            if (epoch + 1) % pred_period == 0:\n",
    "                print('epoch %d, perplexity %f, time %.2f sec' % (\n",
    "                    epoch + 1, math.exp(l_sum / n), time.time() - start))\n",
    "                for prefix in prefixes:\n",
    "                    print(' -', predict_rnn(\n",
    "                        prefix, pred_len, rnn, params, init_rnn_state,\n",
    "                        num_hiddens, vocab_size, idx_to_char, char_to_idx))"
   ]
  },
  {
   "cell_type": "code",
   "execution_count": 122,
   "metadata": {
    "collapsed": true
   },
   "outputs": [],
   "source": [
    "num_epochs, num_steps, batch_size, lr, clipping_theta = 250, 35, 32, 1e2, 1e-2\n",
    "pred_period, pred_len, prefixes = 50, 50, ['分开', '不分开']"
   ]
  },
  {
   "cell_type": "code",
   "execution_count": 125,
   "metadata": {},
   "outputs": [
    {
     "name": "stdout",
     "output_type": "stream",
     "text": [
      "epoch 50, perplexity 88.385174, time 0.32 sec\n",
      " - 我 我 你   我   我   想  不   你   我 我      我 你 我   我   我  \n",
      " - 你 一说   你  我    你  我 我  我   我  不   是   你   我    你   \n",
      "epoch 50, perplexity 94.004696, time 0.75 sec\n",
      " - 我的要的可爱女人的透我的我的你我不在我不要你我不你我的你我想我的开你我不你我不的在我的我的你我不人我不\n",
      " - 你的让我心我的可爱女人我不你的的爱么人我的你的让我想狂的可爱女人 我坏的的我疯狂的可爱女人 温坏的让我\n",
      "epoch 50, perplexity 96.466495, time 1.19 sec\n",
      " - 我 说有   透  一 我  使  我爱   上  一 我 一直  我说  说上  一上  一上两 一\n",
      " - 你 一说   你  我 我  血  我 我 一颗  三 我 它颗四  说两  颗  我什两  给  我\n",
      "epoch 50, perplexity 93.385771, time 1.60 sec\n",
      " - 我 你有   你的 我 我 了 我 我 我颗 你 我有 我 我 了 我 我 我颗 你  有 我 我 一\n",
      " - 你 一说 我 我 一的 我 我 了 我 我 我 我 我 我 我 我的  一 我 我 了 我 我的 你 \n",
      "epoch 50, perplexity 92.742482, time 2.03 sec\n",
      " - 我 我有我 我 我 我步四 我 我 我 我颗了 一颗我 三 我颗 你只 我 我不了 我给我 我 我 我\n",
      " - 你 一说 我爱 我不能  我有 我 我有了 我 我 我步我 我步开 别在我 三步四 我什我 我 我颗了\n",
      "epoch 50, perplexity 93.207922, time 2.45 sec\n",
      " - 我 你有你   我 我     有 我 我 一   不 我 你 一   我  有 我有  不要   你\n",
      " - 你 一不   你的 我  我 我有 我 你  我  有 我  这不  不  不 我 一     有么 \n",
      "epoch 50, perplexity 93.308260, time 2.87 sec\n",
      " - 我 我不你的你在我 我想是的的我 我知哈兮的快我 我想在我不棍 我知哈兮想我的 我想在的的棍堡 我想想\n",
      " - 你 一不了美你在我 我想要的了我 我有说这样快我不 我想你的生你的一我在在的你我不你我的多在的我我人人\n",
      "epoch 50, perplexity 93.532858, time 3.29 sec\n",
      " - 我 说不   是  有 我 一    是 了    一 我     有 我 我 一的   后     \n",
      " - 你 一不   是  有 我 一    我 了    一 我   想  不   说  一   一直   \n",
      "epoch 100, perplexity 8.120828, time 0.32 sec\n",
      " - 我 你你的 快给两 三颗四颗 连成  什么 一片走 三颗四步不的 有一去风剧 著说 我有抢 又直走 一\n",
      " - 你 一后了 干颗两 一颗四颗 我袋 你才么 干什么 一给四步三人 有话去老医药箱说 别怪我 别怪我 难\n",
      "epoch 100, perplexity 7.604325, time 0.78 sec\n",
      " - 我 你你的 快时我 三九四有面片开 干什么 干什么 日步四这的牵我 干什么 干什么 三颗四颗的牵开 干\n",
      " - 你的让我 说的着 又沉么 三颗四明 回开著 的么么 什么些的霜 老要盘 旧你的 装子了依三牵的等 连么\n",
      "epoch 100, perplexity 7.856602, time 1.28 sec\n",
      " - 我 你你的 快给我 一九四有 在不村 的么我 说子些风霜 老唱盘 旧皮箱 装满了的年每 还话是 瞎透了\n",
      " - 你 一后了 干颗我 起九了有 片么  什么我 说来村风的过边河多 不一方在旧会听吗 脸决的中重你 我知\n",
      "epoch 100, perplexity 7.816466, time 1.78 sec\n",
      " - 我 你你的 快时我 一九四明 我不你 爱情段的重不就开 没 你 说不我 一色我有旧你的 我什么 干什么\n",
      " - 你的让我 说的完美又 我不能不想 你的什么落 我不就不想 你不一不落  没有你么我有 在常都 在给你 \n",
      "epoch 100, perplexity 7.989964, time 2.26 sec\n",
      " - 我 你你的 快给我 三头四颗 连成线动的走 配时么 一地我 三步我有三头  它什我 不的了步就步 有一\n",
      " - 你 一后我的年 我想就这  有著掌只走 有爱在人  不爽就著不 有不在的见 别人就什么 有自在角球  \n",
      "epoch 100, perplexity 8.004250, time 2.68 sec\n",
      " - 我 你你的 快时我 三头我有 这我一碗的粥你 泥壶莹的 一颗一到的在边 我壶就的 我的一碗热粥 配上几\n",
      " - 你的让我 说的完 你沉我 一想四有 我不一 的片段 有一些风霜 老唱盘 旧梭光 装满了的年每的铁望 泪\n",
      "epoch 100, perplexity 7.834897, time 3.11 sec\n",
      " - 我 你你的美满 我后在头的  著知会是 我有一着的棍 哼哼哈兮 我跟在双截棍 哼哼哈兮 快使用双截棍 \n",
      " - 你的让我 说的完 一沉我 一九四 别给我 干什么 干什么 干什怎 干给我 干给我 干给我 干给我 别给\n",
      "epoch 100, perplexity 7.668120, time 3.55 sec\n",
      " - 我 你你的 快时我 三想四三 每天的动热粥 配上几好的牛肉 我说店小二 三两银够不够 景色入秋 漫天风\n",
      " - 你 一后了老哭 我有要你不够 为什么有的手 哼果我 不你我有斑难的折  我想了你太 我着条 爱果我 飞\n",
      "epoch 150, perplexity 3.122484, time 0.32 sec\n",
      " - 我 你你的多主透的一场   说 我 我人你这样不 我想你 想子我 我不走 一九空 我什么 干颗 三说得\n",
      " - 你的让我 说的完对主忧 唱着歌 一直走 我想就这样牵着你的手不放开 爱可不可以简简单单没有伤害 你 靠\n",
      "epoch 150, perplexity 2.961113, time 0.75 sec\n",
      " - 我 你你的美场每 一直哈  说你了多吸你多像  爱再 你你我有妈每 你不的美瞎 谁小常 想要你 爱子安\n",
      " - 你的让我 你的完美主忧我妈攻不想 快样 这辈的依不的痛墙你 爱恍 我爱情我的太  说在你演每我 像这道\n",
      "epoch 150, perplexity 2.989342, time 1.21 sec\n",
      " - 我 你我的多主实 娘直你 你直安 我想要这样牵着你的手不放开 爱可不可以简简单单没有伤害   想着我 \n",
      " - 你的让我 你的完美主忧 唱物想 我直安 是想就这 周杰你 连诉我 印地安的传说 还真是 瞎透了 什么都\n",
      "epoch 150, perplexity 2.966673, time 1.63 sec\n",
      " - 我 你你的美场每 一直哈 你地安话我想就你 你杰 没什么会听记 我不到 又已我 我不了的宣沙 这样依 \n",
      " - 你的让我 你的完美旧 我不能你想你娘不 我想想神你飞着  思念 旧是么人什 就不我 说你眼 在壶却忆 \n",
      "epoch 150, perplexity 3.104151, time 2.06 sec\n",
      " - 我 你我的多场实  在么你的只我 一乡依对 快果经双落棍 仁知不觉 我跟了这节奏 后知后觉 我该好好生\n",
      " - 你的让我 说的完美旧  唱着你的太快 一会我想多你 一场歌我 你场说离防我 不知不觉 我跟了这节奏 后\n",
      "epoch 150, perplexity 3.069987, time 2.50 sec\n",
      " - 我 你我的多场实 在什么 我直著 是满了有样颗四你 连么我的了背默 但过心迷 我来你球我 你的可我 我\n",
      " - 你的让我 你的完美主 我不能再想 我不 我不 我不要我想你 爱情到的太快就像龙卷  是能我在我 它不我\n",
      "epoch 150, perplexity 3.015209, time 2.92 sec\n",
      " - 我 你你的美旧每的都火  懂着你只出很你你 想人你的 最谁在悬 我不再功的打我   想的 爱点很的太人\n",
      " - 你的让我 说的完美旧  唱着回的过活 从分歌 你的么 我不了声 牵回一碗的粥我 不子你外 回你一到热粥\n",
      "epoch 150, perplexity 2.916328, time 3.36 sec\n",
      " - 我 你我的多哭实 娘子你 所小你 我想了这样牵着你的手不放开 爱可不可以简简单单没有伤害 你 靠着我的\n",
      " - 你的让我 说的完美旧 我不能再想你 如果我遇 我天风沙凉过 塞北的客栈人多 牧草有没有 我马儿有些瘦 \n",
      "epoch 200, perplexity 1.980815, time 0.31 sec\n",
      " - 我想要你可爱片人的然言 你不的斜干在 想无狠忘安快的课 我 说多之写日球 一每我的担忧 我着歌 一直走\n",
      " - 你的棒写 我想让的旧口 她知到  爱安了年泣的慢像 我 无沉你骑去听 我 你 太点安 想想了那一沙的对\n",
      "epoch 200, perplexity 1.901075, time 0.73 sec\n",
      " - 我想要你可爱片到 不能 我不能再妈始?心通   穿你 是不想难抽一 在牵  所又回 三果已好熬 你的可\n",
      " - 你的棒球 我这念的话过  是哈好想有你的叹我有你风不  一知道在二很美但家乡 你为当最日 我不它再想 \n",
      "epoch 200, perplexity 1.958531, time 1.18 sec\n",
      " - 我想要你可爱片人的透言想你 说始来潮我心妈下我 有在第一等遇见的你 如有我遇默 是一的热昏 我不要再想\n",
      " - 你的棒球 我想念的话过  我不你的着我 像我想碌里的美 就说想那有 三马儿够些  我 拥有 写有一场悲\n",
      "epoch 200, perplexity 1.943375, time 1.62 sec\n",
      " - 我想要你可爱片人 不能 让说得久了吧 我通到的里快 后我都好对  在常壁不够你 一么 对为意义玩很现 \n",
      " - 你的棒球 我想念的旧经 唱一哈兮对 一不过 我 你 爱九女人 说真的我 你点心吗 说人的功 心一的在 \n",
      "epoch 200, perplexity 2.072058, time 2.06 sec\n",
      " - 我想要你可爱片到 不能 你说得久来吧? 我的认拆黑色幽默的心 你小风的在我 像这毛 印里的美像语 然力\n",
      " - 你的棒球 我想完的旧经 让我不能对里 连隔壁邻 球满到 分数怎么停留 一直在停留 谁让它停留的水受 还\n",
      "epoch 200, perplexity 2.083389, time 2.51 sec\n",
      " - 我想要你可 从在的回一在 一下心很球 伤不的乌鸦 你在么降走 我不它篮落 三不在不了 有种就反驳 有种\n",
      " - 你的棒球 我说完的主酒 他我不觉 快使经离开守 篮知不觉 我跟了这节奏 后知后觉 又过好一个秋 有知后\n",
      "epoch 200, perplexity 2.043631, time 2.94 sec\n",
      " - 我想要你可妈片 想想你 你果我 什么四好你说老 干什么 干什么 日沉丹 手心你 干沉千著年代的 干什么\n",
      " - 你的棒球 我说完的旧酒 让我不能对人 爱分了红豆 你拿 我有证你又能会 却袋这头环路不是一就是不多 想\n",
      "epoch 200, perplexity 2.028158, time 3.38 sec\n",
      " - 我想要你可妈片人天都能有多 我妈再这个人 我你到会池妈 连静抢我默都睡到 我想就这样牵着你的手不 开我\n",
      " - 你的棒球 我这那对主过 有伤不觉 你已经离开我 不知不觉 我跟了这节奏 后知后觉 后过了一个秋 后知后\n",
      "epoch 250, perplexity 2.065325, time 0.36 sec\n",
      " - 我想要再想 语不知回不 我不要这不 我不知 想 我不多 有你的美三留四了它著 载你的风 一根出真发我 \n",
      " - 你的棒快 你这样的主忧 唱着歌 你直走 我想就这样牵着你的手不放开 爱可不可以简简单单没有 害 你 我\n",
      "epoch 250, perplexity 1.863298, time 0.83 sec\n",
      " - 我想要你样 在样的再不 再不了口走 这不要美  后要在抽么 有种在角走 三分就直落 有分就要走 三分就\n",
      " - 你的棒快 我想要你你怎 有伤歌你国的过 一道 是满一会陪那这打我的老等  说念我的太我有妈 就 你是你\n",
      "epoch 250, perplexity 1.908276, time 1.32 sec\n",
      " - 我想要再想 一不知回  我不它 说颗我早开的让 从我的是你堡颗 不要去 干什么 我想丹这系牵着 干什么\n",
      " - 你的棒快 我想想 你怎么了一想四有 没么的背在耍默心许下心愿 我家方的星是否听的见 有一定实现 一句它\n",
      "epoch 250, perplexity 1.866664, time 1.81 sec\n",
      " - 我想要再样 在不知回不 我不在这样 一故就直不  不知你你 经谁在人落极 一片正兮 快使用双截棍 哼哼\n",
      " - 你的棒快 你后里的主忧 我你到起 快使用双截棍 哼哼哈兮 快使用双截棍 哼哼哈兮 快使用双截棍 哼哼哈\n",
      "epoch 250, perplexity 1.960951, time 2.26 sec\n",
      " - 我想要再样 在不知回不 我不在再感  没有一不够 娘它拥悄记 你天是红不  对知么烦 有谁三著落  没\n",
      " - 你的棒快 我想想 你怎么了年的 有它 我医动的说写 我想着你妈的爸像 想要你这样荒我她 思念像的格里斯\n",
      "epoch 250, perplexity 1.972175, time 2.76 sec\n",
      " - 我想要再样 在不知回不 我不在美样  没有一烦太 我想要你的手 如果我遇见你是一场悲剧 我想以这 子我\n",
      " - 你的棒快 我想想没有人 心你歌起对不  隔底悄小球 平分我不起  爱你我  我不了 已在我中起光 所说\n",
      "epoch 250, perplexity 1.931207, time 3.19 sec\n",
      " - 我想要再想 语不知回想你我不能 我说在这担你的让 一底 这不着让板的? 我的认拆败给黑色 不想开听 整\n",
      " - 你的棒快 我想想的你怎 后悔歌你 是武在一切记  在的客 如果我有都功 一身不觉 又跟在人切记 仁者无\n",
      "epoch 250, perplexity 1.870703, time 3.60 sec\n",
      " - 我想要再想 我不知再可 我不了再不 我不就我不 我不能再想 我不要再想 我不能再想 你不 我不 我不能\n",
      " - 你的棒快 我想要 你怎我 开不了口 沙杰伦 的诉段 有一些好霜 老唱盘 旧皮箱 装满了明信片的铁盒里藏\n"
     ]
    }
   ],
   "source": [
    "train_and_predict_rnn(rnn, get_params, init_rnn_state, num_hiddens,\n",
    "                      vocab_size, corpus_indices, idx_to_char,\n",
    "                      char_to_idx, False, num_epochs, num_steps, lr,\n",
    "                      clipping_theta, batch_size, pred_period, pred_len,\n",
    "                      ['我', '你'])"
   ]
  },
  {
   "cell_type": "code",
   "execution_count": null,
   "metadata": {
    "collapsed": true
   },
   "outputs": [],
   "source": []
  }
 ],
 "metadata": {
  "kernelspec": {
   "display_name": "Python 3",
   "language": "python",
   "name": "python3"
  },
  "language_info": {
   "codemirror_mode": {
    "name": "ipython",
    "version": 3
   },
   "file_extension": ".py",
   "mimetype": "text/x-python",
   "name": "python",
   "nbconvert_exporter": "python",
   "pygments_lexer": "ipython3",
   "version": "3.6.9"
  }
 },
 "nbformat": 4,
 "nbformat_minor": 2
}
