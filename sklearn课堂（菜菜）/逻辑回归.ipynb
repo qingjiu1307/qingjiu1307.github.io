{
 "cells": [
  {
   "cell_type": "code",
   "execution_count": 2,
   "metadata": {},
   "outputs": [],
   "source": [
    "from sklearn.linear_model import LogisticRegression\n",
    "from sklearn.datasets import load_breast_cancer\n",
    "from sklearn.model_selection import train_test_split\n",
    "from sklearn.metrics import accuracy_score\n",
    "import numpy as np\n",
    "import matplotlib.pyplot as plt"
   ]
  },
  {
   "cell_type": "code",
   "execution_count": 3,
   "metadata": {},
   "outputs": [],
   "source": [
    "data = load_breast_cancer()"
   ]
  },
  {
   "cell_type": "code",
   "execution_count": 5,
   "metadata": {},
   "outputs": [],
   "source": [
    "x = data.data\n",
    "y = data.target"
   ]
  },
  {
   "cell_type": "code",
   "execution_count": 6,
   "metadata": {},
   "outputs": [],
   "source": [
    "lr1 = LogisticRegression(penalty='l1', solver='liblinear', C=.5, max_iter=1000)\n",
    "lr2 = LogisticRegression(penalty='l2', solver='liblinear', C=.5, max_iter=1000)"
   ]
  },
  {
   "cell_type": "code",
   "execution_count": 9,
   "metadata": {},
   "outputs": [
    {
     "data": {
      "text/plain": [
       "LogisticRegression(C=0.5, class_weight=None, dual=False, fit_intercept=True,\n",
       "                   intercept_scaling=1, l1_ratio=None, max_iter=1000,\n",
       "                   multi_class='auto', n_jobs=None, penalty='l2',\n",
       "                   random_state=None, solver='liblinear', tol=0.0001, verbose=0,\n",
       "                   warm_start=False)"
      ]
     },
     "execution_count": 9,
     "metadata": {},
     "output_type": "execute_result"
    }
   ],
   "source": [
    "lr1.fit(x, y)\n",
    "lr2.fit(x, y)"
   ]
  },
  {
   "cell_type": "code",
   "execution_count": 12,
   "metadata": {},
   "outputs": [
    {
     "data": {
      "text/plain": [
       "array([[ 3.99740768,  0.03193645, -0.13677687, -0.01621841,  0.        ,\n",
       "         0.        ,  0.        ,  0.        ,  0.        ,  0.        ,\n",
       "         0.        ,  0.50484928,  0.        , -0.07127663,  0.        ,\n",
       "         0.        ,  0.        ,  0.        ,  0.        ,  0.        ,\n",
       "         0.        , -0.24575323, -0.12846797, -0.01441062,  0.        ,\n",
       "         0.        , -2.04410239,  0.        ,  0.        ,  0.        ]])"
      ]
     },
     "execution_count": 12,
     "metadata": {},
     "output_type": "execute_result"
    }
   ],
   "source": [
    "#查看逻辑回归每个特征对应的参数\n",
    "lr1.coef_"
   ]
  },
  {
   "cell_type": "code",
   "execution_count": 17,
   "metadata": {},
   "outputs": [
    {
     "data": {
      "text/plain": [
       "10"
      ]
     },
     "execution_count": 17,
     "metadata": {},
     "output_type": "execute_result"
    }
   ],
   "source": [
    "(lr1.coef_ != 0).sum()"
   ]
  },
  {
   "cell_type": "code",
   "execution_count": 16,
   "metadata": {},
   "outputs": [
    {
     "data": {
      "text/plain": [
       "30"
      ]
     },
     "execution_count": 16,
     "metadata": {},
     "output_type": "execute_result"
    }
   ],
   "source": [
    "(lr2.coef_ != 0).sum()"
   ]
  },
  {
   "cell_type": "code",
   "execution_count": 24,
   "metadata": {},
   "outputs": [],
   "source": [
    "#画出L1和L2的学习曲线来对比\n",
    "L1score_tr = []\n",
    "L1score_te = []\n",
    "L2score_tr = []\n",
    "L2score_te = []\n",
    "xtrain, xtest, ytrain, ytest = train_test_split(x, y)\n",
    "for i in np.linspace(0.05, 1, 19):#在0.05到1之间选取19个数字\n",
    "    lrl1 = LogisticRegression(penalty='l1', solver='liblinear', C=i, max_iter=1000)\n",
    "    lrl2 = LogisticRegression(penalty='l2', solver='liblinear', C=i, max_iter=1000)\n",
    "    lrl1.fit(xtrain, ytrain)\n",
    "    lrl2.fit(xtrain, ytrain)\n",
    "    L1score_tr.append(accuracy_score(lrl1.predict(xtrain), ytrain))\n",
    "    L1score_te.append(accuracy_score(lrl1.predict(xtest), ytest))\n",
    "    L2score_tr.append(accuracy_score(lrl2.predict(xtrain), ytrain))\n",
    "    L2score_te.append(accuracy_score(lrl2.predict(xtest), ytest))"
   ]
  },
  {
   "cell_type": "code",
   "execution_count": 27,
   "metadata": {},
   "outputs": [
    {
     "data": {
      "image/png": "[encoded data removed]",
      "text/plain": [
       "<Figure size 432x432 with 1 Axes>"
      ]
     },
     "metadata": {
      "needs_background": "light"
     },
     "output_type": "display_data"
    }
   ],
   "source": [
    "graph = [L1score_tr, L2score_tr, L1score_te, L2score_te]\n",
    "color = ['green', 'black', 'lightgreen', 'gray']\n",
    "label = ['L1', 'L2', 'L1test', 'L2test']\n",
    "plt.figure(figsize=[6,6])\n",
    "for i in range(0, 4):\n",
    "    plt.plot(np.linspace(0.05, 1, 19), graph[i], color[i], label=label[i])\n",
    "    plt.legend(loc=4)#指出下标的位置在哪里，默认左上角，4则代表右下角\n",
    "plt.show()"
   ]
  },
  {
   "cell_type": "markdown",
   "metadata": {},
   "source": [
    "## 逻辑回归中的特征选择\n",
    "一般对特征进行清洗，而后选择</p>一般对于逻辑回归而言不用PCA和SVD，因为缺乏可解释性"
   ]
  },
  {
   "cell_type": "code",
   "execution_count": 28,
   "metadata": {},
   "outputs": [
    {
     "name": "stdout",
     "output_type": "stream",
     "text": [
      "The Zen of Python, by Tim Peters\n",
      "\n",
      "Beautiful is better than ugly.\n",
      "Explicit is better than implicit.\n",
      "Simple is better than complex.\n",
      "Complex is better than complicated.\n",
      "Flat is better than nested.\n",
      "Sparse is better than dense.\n",
      "Readability counts.\n",
      "Special cases aren't special enough to break the rules.\n",
      "Although practicality beats purity.\n",
      "Errors should never pass silently.\n",
      "Unless explicitly silenced.\n",
      "In the face of ambiguity, refuse the temptation to guess.\n",
      "There should be one-- and preferably only one --obvious way to do it.\n",
      "Although that way may not be obvious at first unless you're Dutch.\n",
      "Now is better than never.\n",
      "Although never is often better than *right* now.\n",
      "If the implementation is hard to explain, it's a bad idea.\n",
      "If the implementation is easy to explain, it may be a good idea.\n",
      "Namespaces are one honking great idea -- let's do more of those!\n"
     ]
    }
   ],
   "source": [
    "import this"
   ]
  },
  {
   "cell_type": "markdown",
   "metadata": {},
   "source": [
    "## 使用潜入法Embedded来选择特征"
   ]
  },
  {
   "cell_type": "code",
   "execution_count": 29,
   "metadata": {},
   "outputs": [],
   "source": [
    "from sklearn.linear_model import LogisticRegression\n",
    "from sklearn.feature_selection import SelectFromModel\n",
    "from sklearn.datasets import load_breast_cancer\n",
    "from sklearn.model_selection import cross_val_score\n",
    "import numpy as np\n",
    "import matplotlib.pyplot as plt"
   ]
  },
  {
   "cell_type": "code",
   "execution_count": 33,
   "metadata": {},
   "outputs": [
    {
     "data": {
      "text/plain": [
       "(569, 9)"
      ]
     },
     "execution_count": 33,
     "metadata": {},
     "output_type": "execute_result"
    }
   ],
   "source": [
    "data = load_breast_cancer()\n",
    "LR = LogisticRegression(penalty='l2', solver='liblinear', C=.9, random_state=420)\n",
    "score_ = cross_val_score(LR, data.data, data.target, cv=10).mean()\n",
    "x_embedded = SelectFromModel(estimator=LR, norm_order=1).fit_transform(data.data, data.target)\n",
    "x_embedded.shape"
   ]
  },
  {
   "cell_type": "code",
   "execution_count": 34,
   "metadata": {},
   "outputs": [
    {
     "data": {
      "text/plain": [
       "0.9508145363408522"
      ]
     },
     "execution_count": 34,
     "metadata": {},
     "output_type": "execute_result"
    }
   ],
   "source": [
    "score_"
   ]
  },
  {
   "cell_type": "code",
   "execution_count": 36,
   "metadata": {},
   "outputs": [
    {
     "data": {
      "text/plain": [
       "0.9368107769423559"
      ]
     },
     "execution_count": 36,
     "metadata": {},
     "output_type": "execute_result"
    }
   ],
   "source": [
    "cross_val_score(LR, x_embedded, y, cv=10).mean()"
   ]
  },
  {
   "cell_type": "code",
   "execution_count": 37,
   "metadata": {},
   "outputs": [],
   "source": [
    "#如何使得效果更好\n",
    "#改变SelectFromModel的门槛值来筛选特征重要值"
   ]
  },
  {
   "cell_type": "code",
   "execution_count": 38,
   "metadata": {},
   "outputs": [],
   "source": [
    "threshold = LR.fit(data.data, data.target).coef_"
   ]
  },
  {
   "cell_type": "code",
   "execution_count": 40,
   "metadata": {},
   "outputs": [
    {
     "data": {
      "text/plain": [
       "array([[ 2.04828506e+00,  1.13949135e-01, -5.37249403e-02,\n",
       "        -3.07869489e-03, -1.47049397e-01, -3.90471960e-01,\n",
       "        -6.23291295e-01, -3.26992364e-01, -2.14937386e-01,\n",
       "        -2.50489446e-02, -1.79583450e-02,  1.20062544e+00,\n",
       "         3.14754506e-02, -9.50620651e-02, -1.60852341e-02,\n",
       "         1.66511786e-03, -4.88292522e-02, -3.86233127e-02,\n",
       "        -4.05130496e-02,  5.64106122e-03,  1.26257281e+00,\n",
       "        -3.35753532e-01, -1.27853932e-01, -2.41403548e-02,\n",
       "        -2.72165942e-01, -1.10559135e+00, -1.53602860e+00,\n",
       "        -6.29209259e-01, -6.59420601e-01, -1.10964418e-01]])"
      ]
     },
     "execution_count": 40,
     "metadata": {},
     "output_type": "execute_result"
    }
   ],
   "source": [
    "#由于在逻辑回归中重要性在回归系数中体现，因而重要性门槛在\n",
    "#逻辑回归重要性的max值之间选择\n",
    "threshold"
   ]
  },
  {
   "cell_type": "code",
   "execution_count": 45,
   "metadata": {},
   "outputs": [
    {
     "name": "stdout",
     "output_type": "stream",
     "text": [
      "(0.0, 30)\n",
      "(0.10780447680934656, 17)\n",
      "(0.21560895361869312, 12)\n",
      "(0.32341343042803966, 11)\n",
      "(0.43121790723738623, 8)\n",
      "(0.5390223840467327, 8)\n",
      "(0.6468268608560793, 6)\n",
      "(0.7546313376654259, 5)\n",
      "(0.8624358144747725, 5)\n",
      "(0.970240291284119, 5)\n",
      "(1.0780447680934655, 5)\n",
      "(1.1858492449028122, 4)\n",
      "(1.2936537217121586, 2)\n",
      "(1.4014581985215053, 2)\n",
      "(1.5092626753308518, 2)\n",
      "(1.6170671521401985, 1)\n",
      "(1.724871628949545, 1)\n",
      "(1.8326761057588914, 1)\n",
      "(1.940480582568238, 1)\n",
      "(2.0482850593775845, 1)\n"
     ]
    },
    {
     "data": {
      "image/png": "[encoded data removed]",
      "text/plain": [
       "<Figure size 1440x360 with 1 Axes>"
      ]
     },
     "metadata": {
      "needs_background": "light"
     },
     "output_type": "display_data"
    }
   ],
   "source": [
    "full_x = []\n",
    "embed_x = []\n",
    "k = 0\n",
    "threshold = np.linspace(0, abs(threshold).max(), 20)\n",
    "for i in threshold:\n",
    "    x_embedded = SelectFromModel(LR, threshold=i).fit_transform(data.data, data.target)\n",
    "    full_x.append(cross_val_score(LR, data.data, data.target,cv=10).mean())\n",
    "    embed_x.append(cross_val_score(LR, x_embedded, data.target, cv=10).mean())\n",
    "    print((threshold[k], x_embedded.shape[1]))\n",
    "    k+=1\n",
    "plt.figure(figsize=(20, 5))\n",
    "plt.plot(threshold, full_x, label=\"full\")\n",
    "plt.plot(threshold, embed_x, label=\"embedded\")\n",
    "plt.xticks(threshold)\n",
    "plt.legend()\n",
    "plt.show()"
   ]
  },
  {
   "cell_type": "code",
   "execution_count": 50,
   "metadata": {},
   "outputs": [
    {
     "name": "stdout",
     "output_type": "stream",
     "text": [
      "(0.0, 30)\n",
      "(0.005684210526315789, 27)\n",
      "(0.011368421052631578, 27)\n",
      "(0.017052631578947368, 26)\n",
      "(0.022736842105263156, 25)\n",
      "(0.028421052631578944, 23)\n",
      "(0.034105263157894736, 22)\n",
      "(0.03978947368421052, 21)\n",
      "(0.04547368421052631, 20)\n",
      "(0.051157894736842104, 19)\n",
      "(0.05684210526315789, 18)\n",
      "(0.06252631578947368, 18)\n",
      "(0.06821052631578947, 18)\n",
      "(0.07389473684210526, 18)\n",
      "(0.07957894736842104, 18)\n",
      "(0.08526315789473683, 18)\n",
      "(0.09094736842105262, 18)\n",
      "(0.09663157894736842, 17)\n",
      "(0.10231578947368421, 17)\n",
      "(0.108, 17)\n"
     ]
    },
    {
     "data": {
      "image/png": "[encoded data removed]",
      "text/plain": [
       "<Figure size 1440x360 with 1 Axes>"
      ]
     },
     "metadata": {
      "needs_background": "light"
     },
     "output_type": "display_data"
    }
   ],
   "source": [
    "full_x = []\n",
    "embedded_x = []\n",
    "thresh = np.linspace(0 ,0.108, 20)\n",
    "k = 0\n",
    "for i in thresh:\n",
    "    x_em = SelectFromModel(LR, threshold=i).fit_transform(data.data, data.target)\n",
    "    full_x.append(cross_val_score(LR, data.data, data.target, cv=10).mean())\n",
    "    embedded_x.append(cross_val_score(LR, x_em, data.target, cv=10).mean())\n",
    "    print((thresh[k], x_em.shape[1]))\n",
    "    k += 1\n",
    "plt.figure(figsize=(20, 5))\n",
    "plt.plot(thresh, full_x, label=\"full\")\n",
    "plt.plot(thresh, embedded_x, label=\"embedded\")\n",
    "plt.legend()\n",
    "plt.show()"
   ]
  },
  {
   "cell_type": "markdown",
   "metadata": {},
   "source": [
    "## 对C调整学习曲线 "
   ]
  },
  {
   "cell_type": "code",
   "execution_count": 53,
   "metadata": {},
   "outputs": [
    {
     "name": "stdout",
     "output_type": "stream",
     "text": [
      "0.8822994987468672 0.01 8\n",
      "0.9244987468671677 0.51 8\n",
      "0.9368107769423559 1.01 9\n",
      "0.9438283208020051 1.51 9\n",
      "0.9473370927318296 2.01 9\n",
      "0.9473370927318296 2.01 9\n",
      "0.9473370927318296 2.01 9\n",
      "0.9508458646616542 3.51 10\n",
      "0.9526002506265664 4.01 9\n",
      "0.9543546365914788 4.51 10\n",
      "0.9543546365914788 4.51 9\n",
      "0.9543546365914788 4.51 10\n",
      "0.9543546365914788 4.51 9\n",
      "0.9543546365914788 4.51 9\n",
      "0.9543546365914788 4.51 9\n",
      "0.9543546365914788 4.51 10\n",
      "0.9561090225563911 8.01 9\n",
      "0.9561090225563911 8.01 10\n",
      "0.9561090225563911 8.01 10\n",
      "0.9561090225563911 8.01 10\n"
     ]
    },
    {
     "data": {
      "image/png": "[encoded data removed]",
      "text/plain": [
       "<Figure size 1440x360 with 1 Axes>"
      ]
     },
     "metadata": {
      "needs_background": "light"
     },
     "output_type": "display_data"
    }
   ],
   "source": [
    "fullx = []\n",
    "fsx = []\n",
    "C = np.arange(0.01, 10.01, 0.5)\n",
    "for c in C:\n",
    "    LR_ = LogisticRegression(solver='liblinear', C=c, random_state=420)\n",
    "    fullx.append(cross_val_score(LR_, data.data, data.target, cv=10).mean())\n",
    "    xembedded = SelectFromModel(LR_,norm_order=1).fit_transform(data.data, data.target)\n",
    "    fsx.append(cross_val_score(LR_, xembedded, data.target, cv=10).mean())\n",
    "    print(max(fsx), C[fsx.index(max(fsx))], xembedded.shape[1])\n",
    "plt.figure(figsize=(20, 5))\n",
    "plt.plot(C, fullx, label='full')\n",
    "plt.plot(C, fsx, label='feature selection')\n",
    "plt.legend()\n",
    "plt.show()"
   ]
  },
  {
   "cell_type": "markdown",
   "metadata": {},
   "source": [
    "## 重要参数max_iter \n",
    "使用梯度下降法迭代最大次数"
   ]
  },
  {
   "cell_type": "markdown",
   "metadata": {},
   "source": [
    "## 二元回归与多元回归 \n",
    "multi_class 处理分类问题类型， ovr则为二分类，也为一对多</p>\n",
    "multinomial 多分类问题"
   ]
  },
  {
   "cell_type": "markdown",
   "metadata": {},
   "source": [
    "## solver求解方法\n",
    "liblinear:梯度下降法</p>\n",
    "lbfgs:拟牛顿法一种</p>\n",
    "newton-cg:牛顿法一种</p>\n",
    "sag:随机平均梯度下降</p>\n",
    "saga:"
   ]
  },
  {
   "cell_type": "code",
   "execution_count": 56,
   "metadata": {},
   "outputs": [],
   "source": [
    "from sklearn.datasets import load_iris"
   ]
  },
  {
   "cell_type": "code",
   "execution_count": 57,
   "metadata": {},
   "outputs": [
    {
     "name": "stdout",
     "output_type": "stream",
     "text": [
      "training score:  0.987(multinomial)\n",
      "training score:  0.960(ovr)\n"
     ]
    },
    {
     "name": "stderr",
     "output_type": "stream",
     "text": [
      "C:\\Users\\Administrator\\Anaconda3\\lib\\site-packages\\sklearn\\linear_model\\_sag.py:330: ConvergenceWarning: The max_iter was reached which means the coef_ did not converge\n",
      "  \"the coef_ did not converge\", ConvergenceWarning)\n",
      "C:\\Users\\Administrator\\Anaconda3\\lib\\site-packages\\sklearn\\linear_model\\_sag.py:330: ConvergenceWarning: The max_iter was reached which means the coef_ did not converge\n",
      "  \"the coef_ did not converge\", ConvergenceWarning)\n",
      "C:\\Users\\Administrator\\Anaconda3\\lib\\site-packages\\sklearn\\linear_model\\_sag.py:330: ConvergenceWarning: The max_iter was reached which means the coef_ did not converge\n",
      "  \"the coef_ did not converge\", ConvergenceWarning)\n",
      "C:\\Users\\Administrator\\Anaconda3\\lib\\site-packages\\sklearn\\linear_model\\_sag.py:330: ConvergenceWarning: The max_iter was reached which means the coef_ did not converge\n",
      "  \"the coef_ did not converge\", ConvergenceWarning)\n"
     ]
    }
   ],
   "source": [
    "iris = load_iris()\n",
    "for multi in ('multinomial', 'ovr'):\n",
    "    lr = LogisticRegression(solver='sag', max_iter=100, random_state=2\n",
    "                           , multi_class = multi).fit(iris.data, iris.target)\n",
    "    print(\"training score: % .3f(%s)\"%(lr.score(iris.data,iris.target), multi))"
   ]
  },
  {
   "cell_type": "code",
   "execution_count": 59,
   "metadata": {},
   "outputs": [
    {
     "name": "stderr",
     "output_type": "stream",
     "text": [
      "C:\\Users\\Administrator\\Anaconda3\\lib\\site-packages\\sklearn\\linear_model\\_sag.py:330: ConvergenceWarning: The max_iter was reached which means the coef_ did not converge\n",
      "  \"the coef_ did not converge\", ConvergenceWarning)\n"
     ]
    }
   ],
   "source": [
    "lr1 = LogisticRegression(solver='sag', max_iter=100, random_state=20\n",
    "                        , multi_class='multinomial').fit(iris.data, iris.target)"
   ]
  },
  {
   "cell_type": "code",
   "execution_count": 60,
   "metadata": {},
   "outputs": [
    {
     "data": {
      "text/plain": [
       "array([0, 0, 0, 0, 0, 0, 0, 0, 0, 0, 0, 0, 0, 0, 0, 0, 0, 0, 0, 0, 0, 0,\n",
       "       0, 0, 0, 0, 0, 0, 0, 0, 0, 0, 0, 0, 0, 0, 0, 0, 0, 0, 0, 0, 0, 0,\n",
       "       0, 0, 0, 0, 0, 0, 1, 1, 1, 1, 1, 1, 1, 1, 1, 1, 1, 1, 1, 1, 1, 1,\n",
       "       1, 1, 1, 1, 2, 1, 1, 1, 1, 1, 1, 1, 1, 1, 1, 1, 1, 2, 1, 1, 1, 1,\n",
       "       1, 1, 1, 1, 1, 1, 1, 1, 1, 1, 1, 1, 2, 2, 2, 2, 2, 2, 2, 2, 2, 2,\n",
       "       2, 2, 2, 2, 2, 2, 2, 2, 2, 2, 2, 2, 2, 2, 2, 2, 2, 2, 2, 2, 2, 2,\n",
       "       2, 2, 2, 2, 2, 2, 2, 2, 2, 2, 2, 2, 2, 2, 2, 2, 2, 2])"
      ]
     },
     "execution_count": 60,
     "metadata": {},
     "output_type": "execute_result"
    }
   ],
   "source": [
    "lr1.predict(iris.data)"
   ]
  },
  {
   "cell_type": "markdown",
   "metadata": {},
   "source": [
    "## 样本不平衡与参数 "
   ]
  }
 ],
 "metadata": {
  "kernelspec": {
   "display_name": "Python 3",
   "language": "python",
   "name": "python3"
  },
  "language_info": {
   "codemirror_mode": {
    "name": "ipython",
    "version": 3
   },
   "file_extension": ".py",
   "mimetype": "text/x-python",
   "name": "python",
   "nbconvert_exporter": "python",
   "pygments_lexer": "ipython3",
   "version": "3.7.0"
  }
 },
 "nbformat": 4,
 "nbformat_minor": 2
}
