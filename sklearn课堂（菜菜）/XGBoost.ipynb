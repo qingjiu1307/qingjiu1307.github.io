{
 "cells": [
  {
   "cell_type": "code",
   "execution_count": 1,
   "metadata": {},
   "outputs": [],
   "source": [
    "import xgboost as xgb"
   ]
  },
  {
   "cell_type": "code",
   "execution_count": 2,
   "metadata": {},
   "outputs": [],
   "source": [
    "from xgboost import XGBRegressor as XGBR"
   ]
  },
  {
   "cell_type": "code",
   "execution_count": 3,
   "metadata": {},
   "outputs": [],
   "source": [
    "from sklearn.ensemble import RandomForestRegressor as RFR\n",
    "from sklearn.linear_model import LinearRegression as LinearR\n",
    "from sklearn.datasets import load_boston\n",
    "from sklearn.model_selection import KFold, cross_val_score, train_test_split\n",
    "from sklearn.metrics import mean_squared_error\n",
    "import pandas as pd\n",
    "import numpy as np\n",
    "import matplotlib.pyplot as plt"
   ]
  },
  {
   "cell_type": "code",
   "execution_count": 4,
   "metadata": {},
   "outputs": [],
   "source": [
    "data = load_boston()\n",
    "x = data.data\n",
    "y = data.target"
   ]
  },
  {
   "cell_type": "code",
   "execution_count": 5,
   "metadata": {},
   "outputs": [],
   "source": [
    "xtrain, xtest, ytrain, ytest = train_test_split(x, y, test_size=.3, random_state=42)"
   ]
  },
  {
   "cell_type": "code",
   "execution_count": 6,
   "metadata": {
    "collapsed": true
   },
   "outputs": [
    {
     "data": {
      "text/plain": [
       "array([24.778605 , 33.81824  , 16.406372 , 21.919922 , 16.906565 ,\n",
       "       22.777987 , 17.356476 , 13.187293 , 20.986588 , 21.142221 ,\n",
       "       20.54319  , 17.121996 ,  9.536354 , 21.091463 , 19.060402 ,\n",
       "       25.708874 , 20.233723 , 10.601594 , 47.86842  , 15.67546  ,\n",
       "       24.634136 , 24.914402 , 13.297937 , 23.103683 , 17.29109  ,\n",
       "       14.3942995, 21.942911 , 12.735511 , 19.092672 , 20.922606 ,\n",
       "       20.738443 , 23.78592  , 23.2116   , 21.518799 , 13.740487 ,\n",
       "       16.88793  , 31.67158  , 18.544281 , 22.393078 , 24.590498 ,\n",
       "       14.612399 , 27.65536  , 48.32444  , 18.866236 , 22.937452 ,\n",
       "       13.490369 , 15.246323 , 24.50742  , 19.210526 , 28.331783 ,\n",
       "       22.187742 , 34.691166 , 16.465988 , 27.75426  , 48.369026 ,\n",
       "       21.04288  , 16.283424 , 32.370743 , 22.358805 , 18.022444 ,\n",
       "       22.479692 , 34.404564 , 30.451216 , 17.837831 , 24.42846  ,\n",
       "       15.181897 , 13.548869 , 22.872335 , 29.11238  , 14.93678  ,\n",
       "       20.495413 , 29.009253 , 10.46218  , 19.606798 , 21.016764 ,\n",
       "        6.3216386, 19.382124 , 48.193783 , 12.529642 , 12.637359 ,\n",
       "       21.716196 , 13.153505 , 19.731611 ,  9.639965 , 19.839895 ,\n",
       "       26.910765 , 15.207633 , 23.79186  , 23.760365 , 16.785551 ,\n",
       "       22.563946 ,  6.0364614, 20.06593  , 18.818481 , 21.23965  ,\n",
       "       20.136358 , 38.165085 , 14.082957 , 13.211542 , 12.796476 ,\n",
       "       19.882042 , 24.067139 , 12.3613615, 20.309319 , 19.584806 ,\n",
       "       13.509992 , 19.148417 , 23.937788 , 19.664902 , 24.751404 ,\n",
       "        8.849189 , 14.36905  , 21.745792 , 24.0242   , 35.71102  ,\n",
       "       15.534048 , 40.57538  , 12.820582 , 21.222338 , 24.212372 ,\n",
       "       19.074104 , 22.826931 ,  6.2479396, 20.151781 , 22.150446 ,\n",
       "       21.898823 , 23.191238 , 42.06873  , 19.587133 , 45.691677 ,\n",
       "       15.803028 , 23.78663  , 19.260101 , 18.045813 , 13.751815 ,\n",
       "       21.397385 , 19.502073 , 30.071861 , 29.207659 , 16.595743 ,\n",
       "       18.815277 , 24.796328 , 19.390623 , 15.118903 ,  5.17022  ,\n",
       "       21.148966 , 18.291183 , 14.59484  , 15.441049 , 41.34686  ,\n",
       "       14.055554 , 15.716433 ], dtype=float32)"
      ]
     },
     "execution_count": 6,
     "metadata": {},
     "output_type": "execute_result"
    }
   ],
   "source": [
    "xgbr = XGBR(n_estimators=100).fit(xtrain, ytrain)\n",
    "xgbr.predict(xtest)"
   ]
  },
  {
   "cell_type": "code",
   "execution_count": 8,
   "metadata": {},
   "outputs": [
    {
     "data": {
      "text/plain": [
       "9.238913100991956"
      ]
     },
     "execution_count": 8,
     "metadata": {},
     "output_type": "execute_result"
    }
   ],
   "source": [
    "mean_squared_error(ytest, xgbr.predict(xtest))"
   ]
  },
  {
   "cell_type": "code",
   "execution_count": 9,
   "metadata": {},
   "outputs": [
    {
     "data": {
      "text/plain": [
       "array([0.01608741, 0.00313967, 0.01446396, 0.00320105, 0.01002821,\n",
       "       0.19327447, 0.01416495, 0.05734036, 0.00761811, 0.02587119,\n",
       "       0.06298784, 0.00853149, 0.58329135], dtype=float32)"
      ]
     },
     "execution_count": 9,
     "metadata": {},
     "output_type": "execute_result"
    }
   ],
   "source": [
    "xgbr.feature_importances_"
   ]
  },
  {
   "cell_type": "code",
   "execution_count": 10,
   "metadata": {},
   "outputs": [],
   "source": [
    "from sklearn.feature_selection import SelectFromModel"
   ]
  },
  {
   "cell_type": "code",
   "execution_count": 11,
   "metadata": {},
   "outputs": [
    {
     "data": {
      "text/plain": [
       "(354, 13)"
      ]
     },
     "execution_count": 11,
     "metadata": {},
     "output_type": "execute_result"
    }
   ],
   "source": [
    "xtrain.shape"
   ]
  },
  {
   "cell_type": "code",
   "execution_count": 18,
   "metadata": {},
   "outputs": [
    {
     "data": {
      "text/plain": [
       "0.6460769822362151"
      ]
     },
     "execution_count": 18,
     "metadata": {},
     "output_type": "execute_result"
    }
   ],
   "source": [
    "XGB = XGBR(n_estimators=100)\n",
    "cross_val_score(XGB, x, y, cv=5).mean()"
   ]
  },
  {
   "cell_type": "code",
   "execution_count": 23,
   "metadata": {},
   "outputs": [
    {
     "data": {
      "text/plain": [
       "0.8224925637090423"
      ]
     },
     "execution_count": 23,
     "metadata": {},
     "output_type": "execute_result"
    }
   ],
   "source": [
    "cross_val_score(XGB, xtrain, ytrain, cv=5).mean()"
   ]
  },
  {
   "cell_type": "code",
   "execution_count": 29,
   "metadata": {},
   "outputs": [
    {
     "data": {
      "text/plain": [
       "0.6418815146472963"
      ]
     },
     "execution_count": 29,
     "metadata": {},
     "output_type": "execute_result"
    }
   ],
   "source": [
    "RF = RFR()\n",
    "cross_val_score(RF, x, y, cv=5).mean()"
   ]
  },
  {
   "cell_type": "code",
   "execution_count": 40,
   "metadata": {},
   "outputs": [
    {
     "data": {
      "text/plain": [
       "-14.308849971080736"
      ]
     },
     "execution_count": 40,
     "metadata": {},
     "output_type": "execute_result"
    }
   ],
   "source": [
    "xgbr = XGBR(n_estimator=10, silent=True)\n",
    "cross_val_score(xgbr, xtrain, ytrain, cv=5, scoring=\"neg_mean_squared_error\").mean()\n",
    "#xgbr.fit(xtrain, ytrain)"
   ]
  },
  {
   "cell_type": "code",
   "execution_count": null,
   "metadata": {},
   "outputs": [],
   "source": [
    "from sklearn.model_selection import learning_curve"
   ]
  },
  {
   "cell_type": "code",
   "execution_count": 48,
   "metadata": {},
   "outputs": [],
   "source": [
    "def plot(clf, x, y\n",
    "        ,ax=None\n",
    "        ,ylim=None\n",
    "        ,cv=None\n",
    "        ,n_jobs=None):\n",
    "    import matplotlib.pyplot as plt\n",
    "    from sklearn.model_selection import learning_curve\n",
    "    import numpy as np\n",
    "    n_train, train_score, test_score = learning_curve(clf, x, y\n",
    "                                                      , shuffle=True\n",
    "                                                      , cv=cv\n",
    "                                                      , n_jobs=n_jobs )\n",
    "    if ax == None:\n",
    "        ax = plt.gca()\n",
    "    else:\n",
    "        ax = plt.figure()\n",
    "    if ylim is not None:\n",
    "        ax.set_ylim(ylim)\n",
    "    ax.set_xlabel(\"Training examples\")\n",
    "    ax.set_ylabel(\"Score\")\n",
    "    ax.grid()\n",
    "    ax.plot(n_train, np.mean(train_score, axis=1)\n",
    "           , \"o-\", color=\"r\", label=\"Training score\")\n",
    "    ax.plot(n_train, np.mean(test_score, axis=1)\n",
    "           , \"o-\", color=\"g\", label=\"Test score\")\n",
    "    ax.legend(loc=\"best\")\n",
    "    return ax"
   ]
  },
  {
   "cell_type": "code",
   "execution_count": 50,
   "metadata": {},
   "outputs": [
    {
     "data": {
      "image/png": "[encoded data removed]",
      "text/plain": [
       "<Figure size 432x288 with 1 Axes>"
      ]
     },
     "metadata": {
      "needs_background": "light"
     },
     "output_type": "display_data"
    }
   ],
   "source": [
    "cv = KFold(n_splits=5, shuffle=True, random_state=42)\n",
    "plot(XGBR(n_estimators=100, random_state=42), xtrain, ytrain\n",
    "    , ax=None, cv=cv)\n",
    "plt.show()\n",
    "#可以看出来为过拟合"
   ]
  },
  {
   "cell_type": "code",
   "execution_count": 51,
   "metadata": {},
   "outputs": [
    {
     "data": {
      "image/png": "[encoded data removed]",
      "text/plain": [
       "<Figure size 432x288 with 1 Axes>"
      ]
     },
     "metadata": {
      "needs_background": "light"
     },
     "output_type": "display_data"
    }
   ],
   "source": [
    "#画出n_estimators的学习曲线\n",
    "rs = []\n",
    "for i in range(10, 1010, 20):\n",
    "    clf = XGBR(n_estimators=i, random_state=42)\n",
    "    rs.append(cross_val_score(clf, xtrain, ytrain, cv=cv).mean())\n",
    "plt.plot(range(10, 1010, 20), rs, c=\"red\", label=\"XGB\")\n",
    "plt.show()"
   ]
  },
  {
   "cell_type": "code",
   "execution_count": 54,
   "metadata": {},
   "outputs": [
    {
     "data": {
      "image/png": "[encoded data removed]",
      "text/plain": [
       "<Figure size 432x288 with 1 Axes>"
      ]
     },
     "metadata": {
      "needs_background": "light"
     },
     "output_type": "display_data"
    }
   ],
   "source": [
    "rs = []\n",
    "lr = np.linspace(0.01, .2, 20)\n",
    "for i in lr:\n",
    "    clf = XGBR(n_estimators=100, learning_rate=i, random_state=42)\n",
    "    rs.append(cross_val_score(clf, xtrain, ytrain, cv=cv).mean())\n",
    "plt.plot(lr, rs, c=\"red\", label=\"XGB\")\n",
    "plt.show()"
   ]
  },
  {
   "cell_type": "markdown",
   "metadata": {},
   "source": [
    "### 使用xgboost来实现 "
   ]
  },
  {
   "cell_type": "code",
   "execution_count": 55,
   "metadata": {},
   "outputs": [],
   "source": [
    "import xgboost as xgb"
   ]
  },
  {
   "cell_type": "code",
   "execution_count": 56,
   "metadata": {},
   "outputs": [],
   "source": [
    "dtrain = xgb.DMatrix(xtrain, ytrain)\n",
    "dtest = xgb.DMatrix(xtest, ytest)"
   ]
  },
  {
   "cell_type": "code",
   "execution_count": 59,
   "metadata": {},
   "outputs": [],
   "source": [
    "params = {\"silent\":False, \"objective\":\"reg:linear\", \"eta\":.1}\n",
    "num_round = 180"
   ]
  },
  {
   "cell_type": "code",
   "execution_count": 61,
   "metadata": {},
   "outputs": [
    {
     "name": "stdout",
     "output_type": "stream",
     "text": [
      "[23:54:58] WARNING: C:/Users/Administrator/workspace/xgboost-win64_release_1.0.0/src/objective/regression_obj.cu:167: reg:linear is now deprecated in favor of reg:squarederror.\n",
      "[23:54:58] WARNING: C:\\Users\\Administrator\\workspace\\xgboost-win64_release_1.0.0\\src\\learner.cc:328: \n",
      "Parameters: { silent } might not be used.\n",
      "\n",
      "  This may not be accurate due to some parameters are only used in language bindings but\n",
      "  passed down to XGBoost core.  Or some parameters are not used but slip through this\n",
      "  verification. Please open an issue if you find above cases.\n",
      "\n",
      "\n"
     ]
    }
   ],
   "source": [
    "bst = xgb.train(params, dtrain, num_round)"
   ]
  },
  {
   "cell_type": "code",
   "execution_count": 62,
   "metadata": {},
   "outputs": [],
   "source": [
    "preds = bst.predict(dtest)"
   ]
  },
  {
   "cell_type": "code",
   "execution_count": 64,
   "metadata": {},
   "outputs": [],
   "source": [
    "from sklearn.metrics import r2_score"
   ]
  },
  {
   "cell_type": "code",
   "execution_count": 65,
   "metadata": {},
   "outputs": [
    {
     "data": {
      "text/plain": [
       "0.8811657213989036"
      ]
     },
     "execution_count": 65,
     "metadata": {},
     "output_type": "execute_result"
    }
   ],
   "source": [
    "r2_score(ytest, preds)"
   ]
  },
  {
   "cell_type": "code",
   "execution_count": null,
   "metadata": {},
   "outputs": [],
   "source": []
  }
 ],
 "metadata": {
  "kernelspec": {
   "display_name": "Python 3",
   "language": "python",
   "name": "python3"
  },
  "language_info": {
   "codemirror_mode": {
    "name": "ipython",
    "version": 3
   },
   "file_extension": ".py",
   "mimetype": "text/x-python",
   "name": "python",
   "nbconvert_exporter": "python",
   "pygments_lexer": "ipython3",
   "version": "3.7.0"
  }
 },
 "nbformat": 4,
 "nbformat_minor": 2
}
