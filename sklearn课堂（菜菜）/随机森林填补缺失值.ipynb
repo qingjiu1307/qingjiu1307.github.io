{
 "cells": [
  {
   "cell_type": "code",
   "execution_count": 46,
   "metadata": {},
   "outputs": [],
   "source": [
    "import numpy as np\n",
    "import pandas as pd\n",
    "import matplotlib.pyplot as plt\n",
    "from sklearn.datasets import load_boston\n",
    "from sklearn.impute import  SimpleImputer #用来填补缺失值\n",
    "from sklearn.ensemble import RandomForestRegressor\n",
    "from sklearn.model_selection import cross_val_score"
   ]
  },
  {
   "cell_type": "code",
   "execution_count": 47,
   "metadata": {},
   "outputs": [],
   "source": [
    "boston = load_boston()"
   ]
  },
  {
   "cell_type": "code",
   "execution_count": 48,
   "metadata": {},
   "outputs": [],
   "source": [
    "xfull, yfull = boston.data, boston.target#无缺失值"
   ]
  },
  {
   "cell_type": "code",
   "execution_count": 49,
   "metadata": {},
   "outputs": [],
   "source": [
    "n_samples, n_features = xfull.shape"
   ]
  },
  {
   "cell_type": "code",
   "execution_count": 50,
   "metadata": {},
   "outputs": [],
   "source": [
    "#确定放入缺失值的比例，在这里，我们选取缺失的比例为50％\n",
    "rng = np.random.RandomState(0)\n",
    "missing_rate = 0.5\n",
    "n_missing_samples = int(np.floor(n_samples * n_features * missing_rate))"
   ]
  },
  {
   "cell_type": "code",
   "execution_count": 51,
   "metadata": {},
   "outputs": [],
   "source": [
    "#随机选择特征值将其赋空值，选取missing_samples个缺失值\n",
    "#在上下限之间选取n个数值\n",
    "missing_features = rng.randint(0, n_features, n_missing_samples)\n",
    "\n",
    "missing_samples = rng.randint(0, n_samples, n_missing_samples)"
   ]
  },
  {
   "cell_type": "code",
   "execution_count": 52,
   "metadata": {},
   "outputs": [
    {
     "ename": "ValueError",
     "evalue": "Cannot take a larger sample than population when 'replace=False'",
     "output_type": "error",
     "traceback": [
      "\u001b[1;31m---------------------------------------------------------------------------\u001b[0m",
      "\u001b[1;31mValueError\u001b[0m                                Traceback (most recent call last)",
      "\u001b[1;32m<ipython-input-52-fe57fe611342>\u001b[0m in \u001b[0;36m<module>\u001b[1;34m()\u001b[0m\n\u001b[0;32m      2\u001b[0m \u001b[1;31m#希望在样本中的随机抽取的值不要重复，而使用 .choice\u001b[0m\u001b[1;33m\u001b[0m\u001b[1;33m\u001b[0m\u001b[0m\n\u001b[0;32m      3\u001b[0m rng.choice(n_samples, n_missing_samples#在这里缺失值少于上限\n\u001b[1;32m----> 4\u001b[1;33m            \u001b[1;33m,\u001b[0m \u001b[0mreplace\u001b[0m\u001b[1;33m=\u001b[0m\u001b[1;32mFalse\u001b[0m\u001b[1;33m\u001b[0m\u001b[0m\n\u001b[0m\u001b[0;32m      5\u001b[0m           )\n",
      "\u001b[1;32mmtrand.pyx\u001b[0m in \u001b[0;36mnumpy.random.mtrand.RandomState.choice\u001b[1;34m()\u001b[0m\n",
      "\u001b[1;31mValueError\u001b[0m: Cannot take a larger sample than population when 'replace=False'"
     ]
    }
   ],
   "source": [
    "#在这里我们选择的缺失数量为3289，但是若是缺失值少于506样本数量时候，我们会\n",
    "#希望在样本中的随机抽取的值不要重复，而使用 .choice\n",
    "rng.choice(n_samples, n_missing_samples#在这里缺失值少于上限\n",
    "           , replace=False\n",
    "          )"
   ]
  },
  {
   "cell_type": "code",
   "execution_count": 93,
   "metadata": {},
   "outputs": [],
   "source": [
    "xmissing = xfull.copy()\n",
    "ymissing = yfull.copy()"
   ]
  },
  {
   "cell_type": "code",
   "execution_count": 94,
   "metadata": {},
   "outputs": [],
   "source": [
    "xmissing[missing_samples, missing_features] = np.nan"
   ]
  },
  {
   "cell_type": "code",
   "execution_count": 95,
   "metadata": {},
   "outputs": [],
   "source": [
    "xmissing = pd.DataFrame(xmissing)"
   ]
  },
  {
   "cell_type": "code",
   "execution_count": 103,
   "metadata": {},
   "outputs": [],
   "source": [
    "# 利用均值填补,实例化再训练导出\n",
    "imp_mean = SimpleImputer(missing_values=np.nan, strategy=\"mean\")\n",
    "X_missing_mean = imp_mean.fit_transform(xmissing)"
   ]
  },
  {
   "cell_type": "code",
   "execution_count": 88,
   "metadata": {
    "scrolled": true
   },
   "outputs": [
    {
     "data": {
      "text/plain": [
       "0     0\n",
       "1     0\n",
       "2     0\n",
       "3     0\n",
       "4     0\n",
       "5     0\n",
       "6     0\n",
       "7     0\n",
       "8     0\n",
       "9     0\n",
       "10    0\n",
       "11    0\n",
       "12    0\n",
       "dtype: int64"
      ]
     },
     "execution_count": 88,
     "metadata": {},
     "output_type": "execute_result"
    }
   ],
   "source": [
    "#用来查看是否还存在空值\n",
    "pd.DataFrame(X_missing_mean).isnull().sum()"
   ]
  },
  {
   "cell_type": "code",
   "execution_count": 102,
   "metadata": {},
   "outputs": [],
   "source": [
    "#使用固定值填充\n",
    "imp_zero = SimpleImputer(missing_values=np.nan, strategy='constant',fill_value=0)\n",
    "X_missing_zero = imp_zero.fit_transform(xmissing)"
   ]
  },
  {
   "cell_type": "code",
   "execution_count": 96,
   "metadata": {},
   "outputs": [],
   "source": [
    "#使用随机森林填补缺失值,从缺失值最少开始\n",
    "xmissingreg = xmissing.copy()"
   ]
  },
  {
   "cell_type": "code",
   "execution_count": 97,
   "metadata": {},
   "outputs": [],
   "source": [
    "#找出缺失值从小到大排列，用argsort是对索引排序\n",
    "sortindex = np.argsort(xmissingreg.isnull().sum(axis=0)).values"
   ]
  },
  {
   "cell_type": "code",
   "execution_count": 98,
   "metadata": {},
   "outputs": [],
   "source": [
    "s = []\n",
    "for i in sortindex:\n",
    "    #构建新特征矩阵和标签\n",
    "    df = xmissingreg\n",
    "    fillc = df.iloc[:, i]\n",
    "    df = pd.concat([df.iloc[:, df.columns != i], pd.DataFrame(yfull)], axis=1)\n",
    "    #注意到fit_transform否则会报错\n",
    "    df_0 = SimpleImputer(missing_values=np.nan, strategy=\"constant\", fill_value=0).fit_transform(df)\n",
    "    ytrain = fillc[fillc.notnull()]\n",
    "    ytest = xfull[fillc.isnull(), i]\n",
    "    xtrain = df_0[fillc.notnull(), :]\n",
    "    xtest = df_0[fillc.isnull(), :]\n",
    "    rfc = RandomForestRegressor(n_estimators=100)\n",
    "    rfc = rfc.fit(xtrain, ytrain)\n",
    "    ypredict = rfc.predict(xtest)\n",
    "    score = rfc.score(xtest, ytest).mean()\n",
    "    s.append(score)\n",
    "    xmissingreg.loc[xmissingreg.iloc[:,i].isnull(), i] = ypredict"
   ]
  },
  {
   "cell_type": "code",
   "execution_count": 99,
   "metadata": {},
   "outputs": [
    {
     "data": {
      "text/plain": [
       "[0.7170656767164376,\n",
       " 0.7486613304728691,\n",
       " 0.9083422554122969,\n",
       " 0.6672213237804563,\n",
       " 0.8560749891513382,\n",
       " 0.60546999147995,\n",
       " 0.8151701582968794,\n",
       " 0.7002742869537676,\n",
       " 0.5148492238249522,\n",
       " 0.7833475429348631,\n",
       " -0.08239312056737581,\n",
       " 0.6834643503299616,\n",
       " 0.18182942457524154]"
      ]
     },
     "execution_count": 99,
     "metadata": {},
     "output_type": "execute_result"
    }
   ],
   "source": [
    "s"
   ]
  },
  {
   "cell_type": "code",
   "execution_count": 101,
   "metadata": {},
   "outputs": [
    {
     "data": {
      "text/plain": [
       "0     506\n",
       "1     506\n",
       "2     506\n",
       "3     506\n",
       "4     506\n",
       "5     506\n",
       "6     506\n",
       "7     506\n",
       "8     506\n",
       "9     506\n",
       "10    506\n",
       "11    506\n",
       "12    506\n",
       "dtype: int64"
      ]
     },
     "execution_count": 101,
     "metadata": {},
     "output_type": "execute_result"
    }
   ],
   "source": [
    "xmissingreg.notnull().sum()"
   ]
  },
  {
   "cell_type": "code",
   "execution_count": 110,
   "metadata": {},
   "outputs": [],
   "source": [
    "#对使用均值，常数0， 随机森林填充完之后进行交叉验证\n",
    "X = [xfull, X_missing_mean, X_missing_zero, xmissingreg]\n",
    "mse=[]\n",
    "for x in X:\n",
    "    rfc = RandomForestRegressor(n_estimators=100, random_state=10)\n",
    "    scores = cross_val_score(rfc, x, yfull, scoring=\"neg_mean_squared_error\", cv=10).mean()\n",
    "    mse.append(scores * -1)\n"
   ]
  },
  {
   "cell_type": "code",
   "execution_count": 111,
   "metadata": {},
   "outputs": [
    {
     "data": {
      "text/plain": [
       "[22.068120025176466, 41.65513931886275, 45.18132287070587, 19.253397014196082]"
      ]
     },
     "execution_count": 111,
     "metadata": {},
     "output_type": "execute_result"
    }
   ],
   "source": [
    "mse"
   ]
  },
  {
   "cell_type": "code",
   "execution_count": 113,
   "metadata": {},
   "outputs": [
    {
     "data": {
      "text/plain": [
       "[('xfull', 22.068120025176466),\n",
       " ('x_missing_mean', 41.65513931886275),\n",
       " ('x_missing_zeror', 45.18132287070587),\n",
       " ('xmissingreg', 19.253397014196082)]"
      ]
     },
     "execution_count": 113,
     "metadata": {},
     "output_type": "execute_result"
    }
   ],
   "source": [
    "[*zip([\"xfull\", \"x_missing_mean\", \"x_missing_zeror\", \"xmissingreg\"], mse)]"
   ]
  }
 ],
 "metadata": {
  "kernelspec": {
   "display_name": "Python 3",
   "language": "python",
   "name": "python3"
  },
  "language_info": {
   "codemirror_mode": {
    "name": "ipython",
    "version": 3
   },
   "file_extension": ".py",
   "mimetype": "text/x-python",
   "name": "python",
   "nbconvert_exporter": "python",
   "pygments_lexer": "ipython3",
   "version": "3.7.0"
  }
 },
 "nbformat": 4,
 "nbformat_minor": 2
}
