{
 "cells": [
  {
   "cell_type": "code",
   "execution_count": 1,
   "metadata": {},
   "outputs": [
    {
     "name": "stderr",
     "output_type": "stream",
     "text": [
      "C:\\Users\\Administrator\\Anaconda3\\lib\\importlib\\_bootstrap.py:219: RuntimeWarning: numpy.ufunc size changed, may indicate binary incompatibility. Expected 192 from C header, got 216 from PyObject\n",
      "  return f(*args, **kwds)\n"
     ]
    }
   ],
   "source": [
    "%matplotlib inline\n",
    "import numpy as np\n",
    "import pandas as pd\n",
    "from sklearn.linear_model import LogisticRegression as LR"
   ]
  },
  {
   "cell_type": "code",
   "execution_count": 3,
   "metadata": {},
   "outputs": [],
   "source": [
    "data = pd.read_csv(r'E:\\Download\\2019机器学习sklearn课堂\\rankingcard.csv', index_col=0)"
   ]
  },
  {
   "cell_type": "code",
   "execution_count": 5,
   "metadata": {},
   "outputs": [
    {
     "name": "stdout",
     "output_type": "stream",
     "text": [
      "<class 'pandas.core.frame.DataFrame'>\n",
      "Int64Index: 150000 entries, 1 to 150000\n",
      "Data columns (total 11 columns):\n",
      "SeriousDlqin2yrs                        150000 non-null int64\n",
      "RevolvingUtilizationOfUnsecuredLines    150000 non-null float64\n",
      "age                                     150000 non-null int64\n",
      "NumberOfTime30-59DaysPastDueNotWorse    150000 non-null int64\n",
      "DebtRatio                               150000 non-null float64\n",
      "MonthlyIncome                           120269 non-null float64\n",
      "NumberOfOpenCreditLinesAndLoans         150000 non-null int64\n",
      "NumberOfTimes90DaysLate                 150000 non-null int64\n",
      "NumberRealEstateLoansOrLines            150000 non-null int64\n",
      "NumberOfTime60-89DaysPastDueNotWorse    150000 non-null int64\n",
      "NumberOfDependents                      146076 non-null float64\n",
      "dtypes: float64(4), int64(7)\n",
      "memory usage: 13.7 MB\n"
     ]
    }
   ],
   "source": [
    "data.info()"
   ]
  },
  {
   "cell_type": "code",
   "execution_count": 7,
   "metadata": {},
   "outputs": [
    {
     "data": {
      "text/html": [
       "<div>\n",
       "<style scoped>\n",
       "    .dataframe tbody tr th:only-of-type {\n",
       "        vertical-align: middle;\n",
       "    }\n",
       "\n",
       "    .dataframe tbody tr th {\n",
       "        vertical-align: top;\n",
       "    }\n",
       "\n",
       "    .dataframe thead th {\n",
       "        text-align: right;\n",
       "    }\n",
       "</style>\n",
       "<table border=\"1\" class=\"dataframe\">\n",
       "  <thead>\n",
       "    <tr style=\"text-align: right;\">\n",
       "      <th></th>\n",
       "      <th>SeriousDlqin2yrs</th>\n",
       "      <th>RevolvingUtilizationOfUnsecuredLines</th>\n",
       "      <th>age</th>\n",
       "      <th>NumberOfTime30-59DaysPastDueNotWorse</th>\n",
       "      <th>DebtRatio</th>\n",
       "      <th>MonthlyIncome</th>\n",
       "      <th>NumberOfOpenCreditLinesAndLoans</th>\n",
       "      <th>NumberOfTimes90DaysLate</th>\n",
       "      <th>NumberRealEstateLoansOrLines</th>\n",
       "      <th>NumberOfTime60-89DaysPastDueNotWorse</th>\n",
       "      <th>NumberOfDependents</th>\n",
       "    </tr>\n",
       "  </thead>\n",
       "  <tbody>\n",
       "    <tr>\n",
       "      <th>1</th>\n",
       "      <td>1</td>\n",
       "      <td>0.766127</td>\n",
       "      <td>45</td>\n",
       "      <td>2</td>\n",
       "      <td>0.802982</td>\n",
       "      <td>9120.0</td>\n",
       "      <td>13</td>\n",
       "      <td>0</td>\n",
       "      <td>6</td>\n",
       "      <td>0</td>\n",
       "      <td>2.0</td>\n",
       "    </tr>\n",
       "    <tr>\n",
       "      <th>2</th>\n",
       "      <td>0</td>\n",
       "      <td>0.957151</td>\n",
       "      <td>40</td>\n",
       "      <td>0</td>\n",
       "      <td>0.121876</td>\n",
       "      <td>2600.0</td>\n",
       "      <td>4</td>\n",
       "      <td>0</td>\n",
       "      <td>0</td>\n",
       "      <td>0</td>\n",
       "      <td>1.0</td>\n",
       "    </tr>\n",
       "    <tr>\n",
       "      <th>3</th>\n",
       "      <td>0</td>\n",
       "      <td>0.658180</td>\n",
       "      <td>38</td>\n",
       "      <td>1</td>\n",
       "      <td>0.085113</td>\n",
       "      <td>3042.0</td>\n",
       "      <td>2</td>\n",
       "      <td>1</td>\n",
       "      <td>0</td>\n",
       "      <td>0</td>\n",
       "      <td>0.0</td>\n",
       "    </tr>\n",
       "    <tr>\n",
       "      <th>4</th>\n",
       "      <td>0</td>\n",
       "      <td>0.233810</td>\n",
       "      <td>30</td>\n",
       "      <td>0</td>\n",
       "      <td>0.036050</td>\n",
       "      <td>3300.0</td>\n",
       "      <td>5</td>\n",
       "      <td>0</td>\n",
       "      <td>0</td>\n",
       "      <td>0</td>\n",
       "      <td>0.0</td>\n",
       "    </tr>\n",
       "    <tr>\n",
       "      <th>5</th>\n",
       "      <td>0</td>\n",
       "      <td>0.907239</td>\n",
       "      <td>49</td>\n",
       "      <td>1</td>\n",
       "      <td>0.024926</td>\n",
       "      <td>63588.0</td>\n",
       "      <td>7</td>\n",
       "      <td>0</td>\n",
       "      <td>1</td>\n",
       "      <td>0</td>\n",
       "      <td>0.0</td>\n",
       "    </tr>\n",
       "  </tbody>\n",
       "</table>\n",
       "</div>"
      ],
      "text/plain": [
       "   SeriousDlqin2yrs  RevolvingUtilizationOfUnsecuredLines  age  \\\n",
       "1                 1                              0.766127   45   \n",
       "2                 0                              0.957151   40   \n",
       "3                 0                              0.658180   38   \n",
       "4                 0                              0.233810   30   \n",
       "5                 0                              0.907239   49   \n",
       "\n",
       "   NumberOfTime30-59DaysPastDueNotWorse  DebtRatio  MonthlyIncome  \\\n",
       "1                                     2   0.802982         9120.0   \n",
       "2                                     0   0.121876         2600.0   \n",
       "3                                     1   0.085113         3042.0   \n",
       "4                                     0   0.036050         3300.0   \n",
       "5                                     1   0.024926        63588.0   \n",
       "\n",
       "   NumberOfOpenCreditLinesAndLoans  NumberOfTimes90DaysLate  \\\n",
       "1                               13                        0   \n",
       "2                                4                        0   \n",
       "3                                2                        1   \n",
       "4                                5                        0   \n",
       "5                                7                        0   \n",
       "\n",
       "   NumberRealEstateLoansOrLines  NumberOfTime60-89DaysPastDueNotWorse  \\\n",
       "1                             6                                     0   \n",
       "2                             0                                     0   \n",
       "3                             0                                     0   \n",
       "4                             0                                     0   \n",
       "5                             1                                     0   \n",
       "\n",
       "   NumberOfDependents  \n",
       "1                 2.0  \n",
       "2                 1.0  \n",
       "3                 0.0  \n",
       "4                 0.0  \n",
       "5                 0.0  "
      ]
     },
     "execution_count": 7,
     "metadata": {},
     "output_type": "execute_result"
    }
   ],
   "source": [
    "data.head()"
   ]
  },
  {
   "cell_type": "markdown",
   "metadata": {},
   "source": [
    "## 去除重复值 "
   ]
  },
  {
   "cell_type": "code",
   "execution_count": 8,
   "metadata": {},
   "outputs": [
    {
     "name": "stdout",
     "output_type": "stream",
     "text": [
      "<class 'pandas.core.frame.DataFrame'>\n",
      "Int64Index: 149391 entries, 1 to 150000\n",
      "Data columns (total 11 columns):\n",
      "SeriousDlqin2yrs                        149391 non-null int64\n",
      "RevolvingUtilizationOfUnsecuredLines    149391 non-null float64\n",
      "age                                     149391 non-null int64\n",
      "NumberOfTime30-59DaysPastDueNotWorse    149391 non-null int64\n",
      "DebtRatio                               149391 non-null float64\n",
      "MonthlyIncome                           120170 non-null float64\n",
      "NumberOfOpenCreditLinesAndLoans         149391 non-null int64\n",
      "NumberOfTimes90DaysLate                 149391 non-null int64\n",
      "NumberRealEstateLoansOrLines            149391 non-null int64\n",
      "NumberOfTime60-89DaysPastDueNotWorse    149391 non-null int64\n",
      "NumberOfDependents                      145563 non-null float64\n",
      "dtypes: float64(4), int64(7)\n",
      "memory usage: 13.7 MB\n"
     ]
    }
   ],
   "source": [
    "data.drop_duplicates(inplace=True)\n",
    "data.info()"
   ]
  },
  {
   "cell_type": "code",
   "execution_count": 10,
   "metadata": {},
   "outputs": [
    {
     "name": "stdout",
     "output_type": "stream",
     "text": [
      "<class 'pandas.core.frame.DataFrame'>\n",
      "RangeIndex: 149391 entries, 0 to 149390\n",
      "Data columns (total 11 columns):\n",
      "SeriousDlqin2yrs                        149391 non-null int64\n",
      "RevolvingUtilizationOfUnsecuredLines    149391 non-null float64\n",
      "age                                     149391 non-null int64\n",
      "NumberOfTime30-59DaysPastDueNotWorse    149391 non-null int64\n",
      "DebtRatio                               149391 non-null float64\n",
      "MonthlyIncome                           120170 non-null float64\n",
      "NumberOfOpenCreditLinesAndLoans         149391 non-null int64\n",
      "NumberOfTimes90DaysLate                 149391 non-null int64\n",
      "NumberRealEstateLoansOrLines            149391 non-null int64\n",
      "NumberOfTime60-89DaysPastDueNotWorse    149391 non-null int64\n",
      "NumberOfDependents                      145563 non-null float64\n",
      "dtypes: float64(4), int64(7)\n",
      "memory usage: 12.5 MB\n"
     ]
    }
   ],
   "source": [
    "#由于删除之后索引仍保持不变，因而需要重新赋予值\n",
    "data.index = range(data.shape[0])\n",
    "data.info()"
   ]
  },
  {
   "cell_type": "markdown",
   "metadata": {},
   "source": [
    "## 填补缺失值 "
   ]
  },
  {
   "cell_type": "code",
   "execution_count": 11,
   "metadata": {},
   "outputs": [
    {
     "data": {
      "text/plain": [
       "SeriousDlqin2yrs                            0\n",
       "RevolvingUtilizationOfUnsecuredLines        0\n",
       "age                                         0\n",
       "NumberOfTime30-59DaysPastDueNotWorse        0\n",
       "DebtRatio                                   0\n",
       "MonthlyIncome                           29221\n",
       "NumberOfOpenCreditLinesAndLoans             0\n",
       "NumberOfTimes90DaysLate                     0\n",
       "NumberRealEstateLoansOrLines                0\n",
       "NumberOfTime60-89DaysPastDueNotWorse        0\n",
       "NumberOfDependents                       3828\n",
       "dtype: int64"
      ]
     },
     "execution_count": 11,
     "metadata": {},
     "output_type": "execute_result"
    }
   ],
   "source": [
    "data.isnull().sum()"
   ]
  },
  {
   "cell_type": "code",
   "execution_count": 12,
   "metadata": {},
   "outputs": [],
   "source": [
    "data.NumberOfDependents.fillna(data.NumberOfDependents.mean(), inplace=True)"
   ]
  },
  {
   "cell_type": "code",
   "execution_count": 14,
   "metadata": {},
   "outputs": [
    {
     "name": "stdout",
     "output_type": "stream",
     "text": [
      "<class 'pandas.core.frame.DataFrame'>\n",
      "RangeIndex: 149391 entries, 0 to 149390\n",
      "Data columns (total 11 columns):\n",
      "SeriousDlqin2yrs                        149391 non-null int64\n",
      "RevolvingUtilizationOfUnsecuredLines    149391 non-null float64\n",
      "age                                     149391 non-null int64\n",
      "NumberOfTime30-59DaysPastDueNotWorse    149391 non-null int64\n",
      "DebtRatio                               149391 non-null float64\n",
      "MonthlyIncome                           120170 non-null float64\n",
      "NumberOfOpenCreditLinesAndLoans         149391 non-null int64\n",
      "NumberOfTimes90DaysLate                 149391 non-null int64\n",
      "NumberRealEstateLoansOrLines            149391 non-null int64\n",
      "NumberOfTime60-89DaysPastDueNotWorse    149391 non-null int64\n",
      "NumberOfDependents                      149391 non-null float64\n",
      "dtypes: float64(4), int64(7)\n",
      "memory usage: 12.5 MB\n"
     ]
    }
   ],
   "source": [
    "#均值填补家属人数\n",
    "data.info()"
   ]
  },
  {
   "cell_type": "code",
   "execution_count": 121,
   "metadata": {},
   "outputs": [],
   "source": [
    "#使用随机森林填补月收入的缺失值\n",
    "def fill_x(data, to_fill):\n",
    "    df = data.copy()\n",
    "    fill = df.loc[:, to_fill]\n",
    "    df = df.iloc[:, df.columns != to_fill]\n",
    "\n",
    "    Ytrain = fill[fill.notnull()]\n",
    "    Ytest = fill[fill.isnull()]\n",
    "    Xtrain = df.iloc[Ytrain.index, :]\n",
    "    Xtest = df.iloc[Ytest.index, :]\n",
    "    \n",
    "    from sklearn.ensemble import RandomForestRegressor as rfr\n",
    "    rfr = rfr(n_estimators=100).fit(Xtrain, Ytrain)\n",
    "    Ypred = rfr.predict(Xtest)\n",
    "    return Ypred"
   ]
  },
  {
   "cell_type": "code",
   "execution_count": 124,
   "metadata": {},
   "outputs": [],
   "source": [
    "y_pred = fill_x(data, 'MonthlyIncome')"
   ]
  },
  {
   "cell_type": "code",
   "execution_count": 142,
   "metadata": {},
   "outputs": [],
   "source": [
    "data.loc[data.MonthlyIncome.isnull(), 'MonthlyIncome'] = y_pred"
   ]
  },
  {
   "cell_type": "code",
   "execution_count": 143,
   "metadata": {},
   "outputs": [
    {
     "name": "stdout",
     "output_type": "stream",
     "text": [
      "<class 'pandas.core.frame.DataFrame'>\n",
      "RangeIndex: 149391 entries, 0 to 149390\n",
      "Data columns (total 11 columns):\n",
      "SeriousDlqin2yrs                        149391 non-null int64\n",
      "RevolvingUtilizationOfUnsecuredLines    149391 non-null float64\n",
      "age                                     149391 non-null int64\n",
      "NumberOfTime30-59DaysPastDueNotWorse    149391 non-null int64\n",
      "DebtRatio                               149391 non-null float64\n",
      "MonthlyIncome                           149391 non-null float64\n",
      "NumberOfOpenCreditLinesAndLoans         149391 non-null int64\n",
      "NumberOfTimes90DaysLate                 149391 non-null int64\n",
      "NumberRealEstateLoansOrLines            149391 non-null int64\n",
      "NumberOfTime60-89DaysPastDueNotWorse    149391 non-null int64\n",
      "NumberOfDependents                      149391 non-null float64\n",
      "dtypes: float64(4), int64(7)\n",
      "memory usage: 12.5 MB\n"
     ]
    }
   ],
   "source": [
    "data.info()"
   ]
  },
  {
   "cell_type": "markdown",
   "metadata": {},
   "source": [
    "## 处理异常值\n",
    "使用箱线图或者3sigma法则"
   ]
  },
  {
   "cell_type": "code",
   "execution_count": 146,
   "metadata": {},
   "outputs": [
    {
     "data": {
      "text/html": [
       "<div>\n",
       "<style scoped>\n",
       "    .dataframe tbody tr th:only-of-type {\n",
       "        vertical-align: middle;\n",
       "    }\n",
       "\n",
       "    .dataframe tbody tr th {\n",
       "        vertical-align: top;\n",
       "    }\n",
       "\n",
       "    .dataframe thead th {\n",
       "        text-align: right;\n",
       "    }\n",
       "</style>\n",
       "<table border=\"1\" class=\"dataframe\">\n",
       "  <thead>\n",
       "    <tr style=\"text-align: right;\">\n",
       "      <th></th>\n",
       "      <th>count</th>\n",
       "      <th>mean</th>\n",
       "      <th>std</th>\n",
       "      <th>min</th>\n",
       "      <th>1%</th>\n",
       "      <th>10%</th>\n",
       "      <th>25%</th>\n",
       "      <th>50%</th>\n",
       "      <th>75%</th>\n",
       "      <th>99%</th>\n",
       "      <th>max</th>\n",
       "    </tr>\n",
       "  </thead>\n",
       "  <tbody>\n",
       "    <tr>\n",
       "      <th>SeriousDlqin2yrs</th>\n",
       "      <td>149391.0</td>\n",
       "      <td>0.066999</td>\n",
       "      <td>0.250021</td>\n",
       "      <td>0.0</td>\n",
       "      <td>0.0</td>\n",
       "      <td>0.000000</td>\n",
       "      <td>0.000000</td>\n",
       "      <td>0.000000</td>\n",
       "      <td>0.000000</td>\n",
       "      <td>1.000000</td>\n",
       "      <td>1.0</td>\n",
       "    </tr>\n",
       "    <tr>\n",
       "      <th>RevolvingUtilizationOfUnsecuredLines</th>\n",
       "      <td>149391.0</td>\n",
       "      <td>6.071087</td>\n",
       "      <td>250.263672</td>\n",
       "      <td>0.0</td>\n",
       "      <td>0.0</td>\n",
       "      <td>0.003199</td>\n",
       "      <td>0.030132</td>\n",
       "      <td>0.154235</td>\n",
       "      <td>0.556494</td>\n",
       "      <td>1.093922</td>\n",
       "      <td>50708.0</td>\n",
       "    </tr>\n",
       "    <tr>\n",
       "      <th>age</th>\n",
       "      <td>149391.0</td>\n",
       "      <td>52.306237</td>\n",
       "      <td>14.725962</td>\n",
       "      <td>0.0</td>\n",
       "      <td>24.0</td>\n",
       "      <td>33.000000</td>\n",
       "      <td>41.000000</td>\n",
       "      <td>52.000000</td>\n",
       "      <td>63.000000</td>\n",
       "      <td>87.000000</td>\n",
       "      <td>109.0</td>\n",
       "    </tr>\n",
       "    <tr>\n",
       "      <th>NumberOfTime30-59DaysPastDueNotWorse</th>\n",
       "      <td>149391.0</td>\n",
       "      <td>0.393886</td>\n",
       "      <td>3.852953</td>\n",
       "      <td>0.0</td>\n",
       "      <td>0.0</td>\n",
       "      <td>0.000000</td>\n",
       "      <td>0.000000</td>\n",
       "      <td>0.000000</td>\n",
       "      <td>0.000000</td>\n",
       "      <td>4.000000</td>\n",
       "      <td>98.0</td>\n",
       "    </tr>\n",
       "    <tr>\n",
       "      <th>DebtRatio</th>\n",
       "      <td>149391.0</td>\n",
       "      <td>354.436740</td>\n",
       "      <td>2041.843455</td>\n",
       "      <td>0.0</td>\n",
       "      <td>0.0</td>\n",
       "      <td>0.034991</td>\n",
       "      <td>0.177441</td>\n",
       "      <td>0.368234</td>\n",
       "      <td>0.875279</td>\n",
       "      <td>4985.100000</td>\n",
       "      <td>329664.0</td>\n",
       "    </tr>\n",
       "    <tr>\n",
       "      <th>MonthlyIncome</th>\n",
       "      <td>149391.0</td>\n",
       "      <td>5427.757184</td>\n",
       "      <td>13254.149276</td>\n",
       "      <td>0.0</td>\n",
       "      <td>0.0</td>\n",
       "      <td>0.180000</td>\n",
       "      <td>1800.000000</td>\n",
       "      <td>4426.000000</td>\n",
       "      <td>7416.000000</td>\n",
       "      <td>23250.000000</td>\n",
       "      <td>3008750.0</td>\n",
       "    </tr>\n",
       "    <tr>\n",
       "      <th>NumberOfOpenCreditLinesAndLoans</th>\n",
       "      <td>149391.0</td>\n",
       "      <td>8.480892</td>\n",
       "      <td>5.136515</td>\n",
       "      <td>0.0</td>\n",
       "      <td>0.0</td>\n",
       "      <td>3.000000</td>\n",
       "      <td>5.000000</td>\n",
       "      <td>8.000000</td>\n",
       "      <td>11.000000</td>\n",
       "      <td>24.000000</td>\n",
       "      <td>58.0</td>\n",
       "    </tr>\n",
       "    <tr>\n",
       "      <th>NumberOfTimes90DaysLate</th>\n",
       "      <td>149391.0</td>\n",
       "      <td>0.238120</td>\n",
       "      <td>3.826165</td>\n",
       "      <td>0.0</td>\n",
       "      <td>0.0</td>\n",
       "      <td>0.000000</td>\n",
       "      <td>0.000000</td>\n",
       "      <td>0.000000</td>\n",
       "      <td>0.000000</td>\n",
       "      <td>3.000000</td>\n",
       "      <td>98.0</td>\n",
       "    </tr>\n",
       "    <tr>\n",
       "      <th>NumberRealEstateLoansOrLines</th>\n",
       "      <td>149391.0</td>\n",
       "      <td>1.022391</td>\n",
       "      <td>1.130196</td>\n",
       "      <td>0.0</td>\n",
       "      <td>0.0</td>\n",
       "      <td>0.000000</td>\n",
       "      <td>0.000000</td>\n",
       "      <td>1.000000</td>\n",
       "      <td>2.000000</td>\n",
       "      <td>4.000000</td>\n",
       "      <td>54.0</td>\n",
       "    </tr>\n",
       "    <tr>\n",
       "      <th>NumberOfTime60-89DaysPastDueNotWorse</th>\n",
       "      <td>149391.0</td>\n",
       "      <td>0.212503</td>\n",
       "      <td>3.810523</td>\n",
       "      <td>0.0</td>\n",
       "      <td>0.0</td>\n",
       "      <td>0.000000</td>\n",
       "      <td>0.000000</td>\n",
       "      <td>0.000000</td>\n",
       "      <td>0.000000</td>\n",
       "      <td>2.000000</td>\n",
       "      <td>98.0</td>\n",
       "    </tr>\n",
       "    <tr>\n",
       "      <th>NumberOfDependents</th>\n",
       "      <td>149391.0</td>\n",
       "      <td>0.759863</td>\n",
       "      <td>1.101749</td>\n",
       "      <td>0.0</td>\n",
       "      <td>0.0</td>\n",
       "      <td>0.000000</td>\n",
       "      <td>0.000000</td>\n",
       "      <td>0.000000</td>\n",
       "      <td>1.000000</td>\n",
       "      <td>4.000000</td>\n",
       "      <td>20.0</td>\n",
       "    </tr>\n",
       "  </tbody>\n",
       "</table>\n",
       "</div>"
      ],
      "text/plain": [
       "                                         count         mean           std  \\\n",
       "SeriousDlqin2yrs                      149391.0     0.066999      0.250021   \n",
       "RevolvingUtilizationOfUnsecuredLines  149391.0     6.071087    250.263672   \n",
       "age                                   149391.0    52.306237     14.725962   \n",
       "NumberOfTime30-59DaysPastDueNotWorse  149391.0     0.393886      3.852953   \n",
       "DebtRatio                             149391.0   354.436740   2041.843455   \n",
       "MonthlyIncome                         149391.0  5427.757184  13254.149276   \n",
       "NumberOfOpenCreditLinesAndLoans       149391.0     8.480892      5.136515   \n",
       "NumberOfTimes90DaysLate               149391.0     0.238120      3.826165   \n",
       "NumberRealEstateLoansOrLines          149391.0     1.022391      1.130196   \n",
       "NumberOfTime60-89DaysPastDueNotWorse  149391.0     0.212503      3.810523   \n",
       "NumberOfDependents                    149391.0     0.759863      1.101749   \n",
       "\n",
       "                                      min    1%        10%          25%  \\\n",
       "SeriousDlqin2yrs                      0.0   0.0   0.000000     0.000000   \n",
       "RevolvingUtilizationOfUnsecuredLines  0.0   0.0   0.003199     0.030132   \n",
       "age                                   0.0  24.0  33.000000    41.000000   \n",
       "NumberOfTime30-59DaysPastDueNotWorse  0.0   0.0   0.000000     0.000000   \n",
       "DebtRatio                             0.0   0.0   0.034991     0.177441   \n",
       "MonthlyIncome                         0.0   0.0   0.180000  1800.000000   \n",
       "NumberOfOpenCreditLinesAndLoans       0.0   0.0   3.000000     5.000000   \n",
       "NumberOfTimes90DaysLate               0.0   0.0   0.000000     0.000000   \n",
       "NumberRealEstateLoansOrLines          0.0   0.0   0.000000     0.000000   \n",
       "NumberOfTime60-89DaysPastDueNotWorse  0.0   0.0   0.000000     0.000000   \n",
       "NumberOfDependents                    0.0   0.0   0.000000     0.000000   \n",
       "\n",
       "                                              50%          75%           99%  \\\n",
       "SeriousDlqin2yrs                         0.000000     0.000000      1.000000   \n",
       "RevolvingUtilizationOfUnsecuredLines     0.154235     0.556494      1.093922   \n",
       "age                                     52.000000    63.000000     87.000000   \n",
       "NumberOfTime30-59DaysPastDueNotWorse     0.000000     0.000000      4.000000   \n",
       "DebtRatio                                0.368234     0.875279   4985.100000   \n",
       "MonthlyIncome                         4426.000000  7416.000000  23250.000000   \n",
       "NumberOfOpenCreditLinesAndLoans          8.000000    11.000000     24.000000   \n",
       "NumberOfTimes90DaysLate                  0.000000     0.000000      3.000000   \n",
       "NumberRealEstateLoansOrLines             1.000000     2.000000      4.000000   \n",
       "NumberOfTime60-89DaysPastDueNotWorse     0.000000     0.000000      2.000000   \n",
       "NumberOfDependents                       0.000000     1.000000      4.000000   \n",
       "\n",
       "                                            max  \n",
       "SeriousDlqin2yrs                            1.0  \n",
       "RevolvingUtilizationOfUnsecuredLines    50708.0  \n",
       "age                                       109.0  \n",
       "NumberOfTime30-59DaysPastDueNotWorse       98.0  \n",
       "DebtRatio                              329664.0  \n",
       "MonthlyIncome                         3008750.0  \n",
       "NumberOfOpenCreditLinesAndLoans            58.0  \n",
       "NumberOfTimes90DaysLate                    98.0  \n",
       "NumberRealEstateLoansOrLines               54.0  \n",
       "NumberOfTime60-89DaysPastDueNotWorse       98.0  \n",
       "NumberOfDependents                         20.0  "
      ]
     },
     "execution_count": 146,
     "metadata": {},
     "output_type": "execute_result"
    }
   ],
   "source": [
    "#描述性统计,查看0.01等等处的分布\n",
    "data.describe([.01, 0.1, .25, .5, .75, .99]).T"
   ]
  },
  {
   "cell_type": "code",
   "execution_count": 147,
   "metadata": {},
   "outputs": [
    {
     "data": {
      "text/plain": [
       "1"
      ]
     },
     "execution_count": 147,
     "metadata": {},
     "output_type": "execute_result"
    }
   ],
   "source": [
    "(data.age == 0).sum()"
   ]
  },
  {
   "cell_type": "code",
   "execution_count": 150,
   "metadata": {},
   "outputs": [],
   "source": [
    "#删掉age为0的异常值\n",
    "data = data[data.age != 0]"
   ]
  },
  {
   "cell_type": "code",
   "execution_count": 151,
   "metadata": {},
   "outputs": [
    {
     "data": {
      "text/html": [
       "<div>\n",
       "<style scoped>\n",
       "    .dataframe tbody tr th:only-of-type {\n",
       "        vertical-align: middle;\n",
       "    }\n",
       "\n",
       "    .dataframe tbody tr th {\n",
       "        vertical-align: top;\n",
       "    }\n",
       "\n",
       "    .dataframe thead th {\n",
       "        text-align: right;\n",
       "    }\n",
       "</style>\n",
       "<table border=\"1\" class=\"dataframe\">\n",
       "  <thead>\n",
       "    <tr style=\"text-align: right;\">\n",
       "      <th></th>\n",
       "      <th>count</th>\n",
       "      <th>mean</th>\n",
       "      <th>std</th>\n",
       "      <th>min</th>\n",
       "      <th>25%</th>\n",
       "      <th>50%</th>\n",
       "      <th>75%</th>\n",
       "      <th>max</th>\n",
       "    </tr>\n",
       "  </thead>\n",
       "  <tbody>\n",
       "    <tr>\n",
       "      <th>SeriousDlqin2yrs</th>\n",
       "      <td>149390.0</td>\n",
       "      <td>0.066999</td>\n",
       "      <td>0.250021</td>\n",
       "      <td>0.0</td>\n",
       "      <td>0.000000</td>\n",
       "      <td>0.000000</td>\n",
       "      <td>0.000000</td>\n",
       "      <td>1.0</td>\n",
       "    </tr>\n",
       "    <tr>\n",
       "      <th>RevolvingUtilizationOfUnsecuredLines</th>\n",
       "      <td>149390.0</td>\n",
       "      <td>6.071121</td>\n",
       "      <td>250.264509</td>\n",
       "      <td>0.0</td>\n",
       "      <td>0.030132</td>\n",
       "      <td>0.154234</td>\n",
       "      <td>0.556491</td>\n",
       "      <td>50708.0</td>\n",
       "    </tr>\n",
       "    <tr>\n",
       "      <th>age</th>\n",
       "      <td>149390.0</td>\n",
       "      <td>52.306587</td>\n",
       "      <td>14.725390</td>\n",
       "      <td>21.0</td>\n",
       "      <td>41.000000</td>\n",
       "      <td>52.000000</td>\n",
       "      <td>63.000000</td>\n",
       "      <td>109.0</td>\n",
       "    </tr>\n",
       "    <tr>\n",
       "      <th>NumberOfTime30-59DaysPastDueNotWorse</th>\n",
       "      <td>149390.0</td>\n",
       "      <td>0.393882</td>\n",
       "      <td>3.852966</td>\n",
       "      <td>0.0</td>\n",
       "      <td>0.000000</td>\n",
       "      <td>0.000000</td>\n",
       "      <td>0.000000</td>\n",
       "      <td>98.0</td>\n",
       "    </tr>\n",
       "    <tr>\n",
       "      <th>DebtRatio</th>\n",
       "      <td>149390.0</td>\n",
       "      <td>354.439110</td>\n",
       "      <td>2041.850084</td>\n",
       "      <td>0.0</td>\n",
       "      <td>0.177441</td>\n",
       "      <td>0.368233</td>\n",
       "      <td>0.875294</td>\n",
       "      <td>329664.0</td>\n",
       "    </tr>\n",
       "    <tr>\n",
       "      <th>MonthlyIncome</th>\n",
       "      <td>149390.0</td>\n",
       "      <td>5427.753353</td>\n",
       "      <td>13254.193555</td>\n",
       "      <td>0.0</td>\n",
       "      <td>1800.000000</td>\n",
       "      <td>4426.000000</td>\n",
       "      <td>7416.000000</td>\n",
       "      <td>3008750.0</td>\n",
       "    </tr>\n",
       "    <tr>\n",
       "      <th>NumberOfOpenCreditLinesAndLoans</th>\n",
       "      <td>149390.0</td>\n",
       "      <td>8.480909</td>\n",
       "      <td>5.136528</td>\n",
       "      <td>0.0</td>\n",
       "      <td>5.000000</td>\n",
       "      <td>8.000000</td>\n",
       "      <td>11.000000</td>\n",
       "      <td>58.0</td>\n",
       "    </tr>\n",
       "    <tr>\n",
       "      <th>NumberOfTimes90DaysLate</th>\n",
       "      <td>149390.0</td>\n",
       "      <td>0.238122</td>\n",
       "      <td>3.826177</td>\n",
       "      <td>0.0</td>\n",
       "      <td>0.000000</td>\n",
       "      <td>0.000000</td>\n",
       "      <td>0.000000</td>\n",
       "      <td>98.0</td>\n",
       "    </tr>\n",
       "    <tr>\n",
       "      <th>NumberRealEstateLoansOrLines</th>\n",
       "      <td>149390.0</td>\n",
       "      <td>1.022384</td>\n",
       "      <td>1.130196</td>\n",
       "      <td>0.0</td>\n",
       "      <td>0.000000</td>\n",
       "      <td>1.000000</td>\n",
       "      <td>2.000000</td>\n",
       "      <td>54.0</td>\n",
       "    </tr>\n",
       "    <tr>\n",
       "      <th>NumberOfTime60-89DaysPastDueNotWorse</th>\n",
       "      <td>149390.0</td>\n",
       "      <td>0.212504</td>\n",
       "      <td>3.810536</td>\n",
       "      <td>0.0</td>\n",
       "      <td>0.000000</td>\n",
       "      <td>0.000000</td>\n",
       "      <td>0.000000</td>\n",
       "      <td>98.0</td>\n",
       "    </tr>\n",
       "    <tr>\n",
       "      <th>NumberOfDependents</th>\n",
       "      <td>149390.0</td>\n",
       "      <td>0.759855</td>\n",
       "      <td>1.101748</td>\n",
       "      <td>0.0</td>\n",
       "      <td>0.000000</td>\n",
       "      <td>0.000000</td>\n",
       "      <td>1.000000</td>\n",
       "      <td>20.0</td>\n",
       "    </tr>\n",
       "  </tbody>\n",
       "</table>\n",
       "</div>"
      ],
      "text/plain": [
       "                                         count         mean           std  \\\n",
       "SeriousDlqin2yrs                      149390.0     0.066999      0.250021   \n",
       "RevolvingUtilizationOfUnsecuredLines  149390.0     6.071121    250.264509   \n",
       "age                                   149390.0    52.306587     14.725390   \n",
       "NumberOfTime30-59DaysPastDueNotWorse  149390.0     0.393882      3.852966   \n",
       "DebtRatio                             149390.0   354.439110   2041.850084   \n",
       "MonthlyIncome                         149390.0  5427.753353  13254.193555   \n",
       "NumberOfOpenCreditLinesAndLoans       149390.0     8.480909      5.136528   \n",
       "NumberOfTimes90DaysLate               149390.0     0.238122      3.826177   \n",
       "NumberRealEstateLoansOrLines          149390.0     1.022384      1.130196   \n",
       "NumberOfTime60-89DaysPastDueNotWorse  149390.0     0.212504      3.810536   \n",
       "NumberOfDependents                    149390.0     0.759855      1.101748   \n",
       "\n",
       "                                       min          25%          50%  \\\n",
       "SeriousDlqin2yrs                       0.0     0.000000     0.000000   \n",
       "RevolvingUtilizationOfUnsecuredLines   0.0     0.030132     0.154234   \n",
       "age                                   21.0    41.000000    52.000000   \n",
       "NumberOfTime30-59DaysPastDueNotWorse   0.0     0.000000     0.000000   \n",
       "DebtRatio                              0.0     0.177441     0.368233   \n",
       "MonthlyIncome                          0.0  1800.000000  4426.000000   \n",
       "NumberOfOpenCreditLinesAndLoans        0.0     5.000000     8.000000   \n",
       "NumberOfTimes90DaysLate                0.0     0.000000     0.000000   \n",
       "NumberRealEstateLoansOrLines           0.0     0.000000     1.000000   \n",
       "NumberOfTime60-89DaysPastDueNotWorse   0.0     0.000000     0.000000   \n",
       "NumberOfDependents                     0.0     0.000000     0.000000   \n",
       "\n",
       "                                              75%        max  \n",
       "SeriousDlqin2yrs                         0.000000        1.0  \n",
       "RevolvingUtilizationOfUnsecuredLines     0.556491    50708.0  \n",
       "age                                     63.000000      109.0  \n",
       "NumberOfTime30-59DaysPastDueNotWorse     0.000000       98.0  \n",
       "DebtRatio                                0.875294   329664.0  \n",
       "MonthlyIncome                         7416.000000  3008750.0  \n",
       "NumberOfOpenCreditLinesAndLoans         11.000000       58.0  \n",
       "NumberOfTimes90DaysLate                  0.000000       98.0  \n",
       "NumberRealEstateLoansOrLines             2.000000       54.0  \n",
       "NumberOfTime60-89DaysPastDueNotWorse     0.000000       98.0  \n",
       "NumberOfDependents                       1.000000       20.0  "
      ]
     },
     "execution_count": 151,
     "metadata": {},
     "output_type": "execute_result"
    }
   ],
   "source": [
    "data.describe().T"
   ]
  },
  {
   "cell_type": "code",
   "execution_count": 154,
   "metadata": {},
   "outputs": [
    {
     "data": {
      "text/html": [
       "<div>\n",
       "<style scoped>\n",
       "    .dataframe tbody tr th:only-of-type {\n",
       "        vertical-align: middle;\n",
       "    }\n",
       "\n",
       "    .dataframe tbody tr th {\n",
       "        vertical-align: top;\n",
       "    }\n",
       "\n",
       "    .dataframe thead th {\n",
       "        text-align: right;\n",
       "    }\n",
       "</style>\n",
       "<table border=\"1\" class=\"dataframe\">\n",
       "  <thead>\n",
       "    <tr style=\"text-align: right;\">\n",
       "      <th></th>\n",
       "      <th>SeriousDlqin2yrs</th>\n",
       "      <th>RevolvingUtilizationOfUnsecuredLines</th>\n",
       "      <th>age</th>\n",
       "      <th>NumberOfTime30-59DaysPastDueNotWorse</th>\n",
       "      <th>DebtRatio</th>\n",
       "      <th>MonthlyIncome</th>\n",
       "      <th>NumberOfOpenCreditLinesAndLoans</th>\n",
       "      <th>NumberOfTimes90DaysLate</th>\n",
       "      <th>NumberRealEstateLoansOrLines</th>\n",
       "      <th>NumberOfTime60-89DaysPastDueNotWorse</th>\n",
       "      <th>NumberOfDependents</th>\n",
       "    </tr>\n",
       "  </thead>\n",
       "  <tbody>\n",
       "    <tr>\n",
       "      <th>1732</th>\n",
       "      <td>1</td>\n",
       "      <td>1.0</td>\n",
       "      <td>27</td>\n",
       "      <td>98</td>\n",
       "      <td>0.0</td>\n",
       "      <td>2700.000000</td>\n",
       "      <td>0</td>\n",
       "      <td>98</td>\n",
       "      <td>0</td>\n",
       "      <td>98</td>\n",
       "      <td>0.000000</td>\n",
       "    </tr>\n",
       "    <tr>\n",
       "      <th>2285</th>\n",
       "      <td>0</td>\n",
       "      <td>1.0</td>\n",
       "      <td>22</td>\n",
       "      <td>98</td>\n",
       "      <td>0.0</td>\n",
       "      <td>1407.207720</td>\n",
       "      <td>0</td>\n",
       "      <td>98</td>\n",
       "      <td>0</td>\n",
       "      <td>98</td>\n",
       "      <td>0.000000</td>\n",
       "    </tr>\n",
       "    <tr>\n",
       "      <th>3883</th>\n",
       "      <td>0</td>\n",
       "      <td>1.0</td>\n",
       "      <td>38</td>\n",
       "      <td>98</td>\n",
       "      <td>12.0</td>\n",
       "      <td>2528.860000</td>\n",
       "      <td>0</td>\n",
       "      <td>98</td>\n",
       "      <td>0</td>\n",
       "      <td>98</td>\n",
       "      <td>0.000000</td>\n",
       "    </tr>\n",
       "    <tr>\n",
       "      <th>4416</th>\n",
       "      <td>0</td>\n",
       "      <td>1.0</td>\n",
       "      <td>21</td>\n",
       "      <td>98</td>\n",
       "      <td>0.0</td>\n",
       "      <td>0.000000</td>\n",
       "      <td>0</td>\n",
       "      <td>98</td>\n",
       "      <td>0</td>\n",
       "      <td>98</td>\n",
       "      <td>0.000000</td>\n",
       "    </tr>\n",
       "    <tr>\n",
       "      <th>4704</th>\n",
       "      <td>0</td>\n",
       "      <td>1.0</td>\n",
       "      <td>21</td>\n",
       "      <td>98</td>\n",
       "      <td>0.0</td>\n",
       "      <td>2000.000000</td>\n",
       "      <td>0</td>\n",
       "      <td>98</td>\n",
       "      <td>0</td>\n",
       "      <td>98</td>\n",
       "      <td>0.000000</td>\n",
       "    </tr>\n",
       "    <tr>\n",
       "      <th>...</th>\n",
       "      <td>...</td>\n",
       "      <td>...</td>\n",
       "      <td>...</td>\n",
       "      <td>...</td>\n",
       "      <td>...</td>\n",
       "      <td>...</td>\n",
       "      <td>...</td>\n",
       "      <td>...</td>\n",
       "      <td>...</td>\n",
       "      <td>...</td>\n",
       "      <td>...</td>\n",
       "    </tr>\n",
       "    <tr>\n",
       "      <th>146667</th>\n",
       "      <td>1</td>\n",
       "      <td>1.0</td>\n",
       "      <td>25</td>\n",
       "      <td>98</td>\n",
       "      <td>0.0</td>\n",
       "      <td>2384.546635</td>\n",
       "      <td>0</td>\n",
       "      <td>98</td>\n",
       "      <td>0</td>\n",
       "      <td>98</td>\n",
       "      <td>0.759863</td>\n",
       "    </tr>\n",
       "    <tr>\n",
       "      <th>147180</th>\n",
       "      <td>1</td>\n",
       "      <td>1.0</td>\n",
       "      <td>68</td>\n",
       "      <td>98</td>\n",
       "      <td>255.0</td>\n",
       "      <td>12.160000</td>\n",
       "      <td>0</td>\n",
       "      <td>98</td>\n",
       "      <td>0</td>\n",
       "      <td>98</td>\n",
       "      <td>0.000000</td>\n",
       "    </tr>\n",
       "    <tr>\n",
       "      <th>148548</th>\n",
       "      <td>1</td>\n",
       "      <td>1.0</td>\n",
       "      <td>24</td>\n",
       "      <td>98</td>\n",
       "      <td>54.0</td>\n",
       "      <td>552.160000</td>\n",
       "      <td>0</td>\n",
       "      <td>98</td>\n",
       "      <td>0</td>\n",
       "      <td>98</td>\n",
       "      <td>0.000000</td>\n",
       "    </tr>\n",
       "    <tr>\n",
       "      <th>148634</th>\n",
       "      <td>0</td>\n",
       "      <td>1.0</td>\n",
       "      <td>26</td>\n",
       "      <td>98</td>\n",
       "      <td>0.0</td>\n",
       "      <td>2000.000000</td>\n",
       "      <td>0</td>\n",
       "      <td>98</td>\n",
       "      <td>0</td>\n",
       "      <td>98</td>\n",
       "      <td>0.000000</td>\n",
       "    </tr>\n",
       "    <tr>\n",
       "      <th>148833</th>\n",
       "      <td>1</td>\n",
       "      <td>1.0</td>\n",
       "      <td>34</td>\n",
       "      <td>98</td>\n",
       "      <td>9.0</td>\n",
       "      <td>2523.020000</td>\n",
       "      <td>0</td>\n",
       "      <td>98</td>\n",
       "      <td>0</td>\n",
       "      <td>98</td>\n",
       "      <td>0.000000</td>\n",
       "    </tr>\n",
       "  </tbody>\n",
       "</table>\n",
       "<p>225 rows × 11 columns</p>\n",
       "</div>"
      ],
      "text/plain": [
       "        SeriousDlqin2yrs  RevolvingUtilizationOfUnsecuredLines  age  \\\n",
       "1732                   1                                   1.0   27   \n",
       "2285                   0                                   1.0   22   \n",
       "3883                   0                                   1.0   38   \n",
       "4416                   0                                   1.0   21   \n",
       "4704                   0                                   1.0   21   \n",
       "...                  ...                                   ...  ...   \n",
       "146667                 1                                   1.0   25   \n",
       "147180                 1                                   1.0   68   \n",
       "148548                 1                                   1.0   24   \n",
       "148634                 0                                   1.0   26   \n",
       "148833                 1                                   1.0   34   \n",
       "\n",
       "        NumberOfTime30-59DaysPastDueNotWorse  DebtRatio  MonthlyIncome  \\\n",
       "1732                                      98        0.0    2700.000000   \n",
       "2285                                      98        0.0    1407.207720   \n",
       "3883                                      98       12.0    2528.860000   \n",
       "4416                                      98        0.0       0.000000   \n",
       "4704                                      98        0.0    2000.000000   \n",
       "...                                      ...        ...            ...   \n",
       "146667                                    98        0.0    2384.546635   \n",
       "147180                                    98      255.0      12.160000   \n",
       "148548                                    98       54.0     552.160000   \n",
       "148634                                    98        0.0    2000.000000   \n",
       "148833                                    98        9.0    2523.020000   \n",
       "\n",
       "        NumberOfOpenCreditLinesAndLoans  NumberOfTimes90DaysLate  \\\n",
       "1732                                  0                       98   \n",
       "2285                                  0                       98   \n",
       "3883                                  0                       98   \n",
       "4416                                  0                       98   \n",
       "4704                                  0                       98   \n",
       "...                                 ...                      ...   \n",
       "146667                                0                       98   \n",
       "147180                                0                       98   \n",
       "148548                                0                       98   \n",
       "148634                                0                       98   \n",
       "148833                                0                       98   \n",
       "\n",
       "        NumberRealEstateLoansOrLines  NumberOfTime60-89DaysPastDueNotWorse  \\\n",
       "1732                               0                                    98   \n",
       "2285                               0                                    98   \n",
       "3883                               0                                    98   \n",
       "4416                               0                                    98   \n",
       "4704                               0                                    98   \n",
       "...                              ...                                   ...   \n",
       "146667                             0                                    98   \n",
       "147180                             0                                    98   \n",
       "148548                             0                                    98   \n",
       "148634                             0                                    98   \n",
       "148833                             0                                    98   \n",
       "\n",
       "        NumberOfDependents  \n",
       "1732              0.000000  \n",
       "2285              0.000000  \n",
       "3883              0.000000  \n",
       "4416              0.000000  \n",
       "4704              0.000000  \n",
       "...                    ...  \n",
       "146667            0.759863  \n",
       "147180            0.000000  \n",
       "148548            0.000000  \n",
       "148634            0.000000  \n",
       "148833            0.000000  \n",
       "\n",
       "[225 rows x 11 columns]"
      ]
     },
     "execution_count": 154,
     "metadata": {},
     "output_type": "execute_result"
    }
   ],
   "source": [
    "data[data.loc[:, 'NumberOfTimes90DaysLate'] > 90]"
   ]
  },
  {
   "cell_type": "code",
   "execution_count": 156,
   "metadata": {},
   "outputs": [
    {
     "data": {
      "text/plain": [
       "0     141107\n",
       "1       5232\n",
       "2       1555\n",
       "3        667\n",
       "4        291\n",
       "98       220\n",
       "5        131\n",
       "6         80\n",
       "7         38\n",
       "8         21\n",
       "9         19\n",
       "10         8\n",
       "11         5\n",
       "96         5\n",
       "13         4\n",
       "12         2\n",
       "14         2\n",
       "15         2\n",
       "17         1\n",
       "Name: NumberOfTimes90DaysLate, dtype: int64"
      ]
     },
     "execution_count": 156,
     "metadata": {},
     "output_type": "execute_result"
    }
   ],
   "source": [
    "data.NumberOfTimes90DaysLate.value_counts()"
   ]
  },
  {
   "cell_type": "code",
   "execution_count": 158,
   "metadata": {},
   "outputs": [],
   "source": [
    "data = data[data.NumberOfTimes90DaysLate < 90]"
   ]
  },
  {
   "cell_type": "code",
   "execution_count": 159,
   "metadata": {},
   "outputs": [
    {
     "name": "stdout",
     "output_type": "stream",
     "text": [
      "<class 'pandas.core.frame.DataFrame'>\n",
      "Int64Index: 149165 entries, 0 to 149390\n",
      "Data columns (total 11 columns):\n",
      "SeriousDlqin2yrs                        149165 non-null int64\n",
      "RevolvingUtilizationOfUnsecuredLines    149165 non-null float64\n",
      "age                                     149165 non-null int64\n",
      "NumberOfTime30-59DaysPastDueNotWorse    149165 non-null int64\n",
      "DebtRatio                               149165 non-null float64\n",
      "MonthlyIncome                           149165 non-null float64\n",
      "NumberOfOpenCreditLinesAndLoans         149165 non-null int64\n",
      "NumberOfTimes90DaysLate                 149165 non-null int64\n",
      "NumberRealEstateLoansOrLines            149165 non-null int64\n",
      "NumberOfTime60-89DaysPastDueNotWorse    149165 non-null int64\n",
      "NumberOfDependents                      149165 non-null float64\n",
      "dtypes: float64(4), int64(7)\n",
      "memory usage: 13.7 MB\n"
     ]
    }
   ],
   "source": [
    "data.info()"
   ]
  },
  {
   "cell_type": "code",
   "execution_count": 160,
   "metadata": {},
   "outputs": [],
   "source": [
    "data.index = range(data.shape[0])"
   ]
  },
  {
   "cell_type": "markdown",
   "metadata": {},
   "source": [
    "## 处理样本不均衡 "
   ]
  },
  {
   "cell_type": "code",
   "execution_count": 165,
   "metadata": {},
   "outputs": [
    {
     "data": {
      "text/plain": [
       "(139292, 11)"
      ]
     },
     "execution_count": 165,
     "metadata": {},
     "output_type": "execute_result"
    }
   ],
   "source": [
    "(data[data.iloc[:, 0] == 0]).shape"
   ]
  },
  {
   "cell_type": "code",
   "execution_count": 171,
   "metadata": {},
   "outputs": [
    {
     "data": {
      "text/plain": [
       "(9873, 11)"
      ]
     },
     "execution_count": 171,
     "metadata": {},
     "output_type": "execute_result"
    }
   ],
   "source": [
    "(data[data.iloc[:, 0] == 1]).shape"
   ]
  },
  {
   "cell_type": "code",
   "execution_count": 168,
   "metadata": {},
   "outputs": [
    {
     "data": {
      "text/plain": [
       "0    139292\n",
       "1      9873\n",
       "Name: SeriousDlqin2yrs, dtype: int64"
      ]
     },
     "execution_count": 168,
     "metadata": {},
     "output_type": "execute_result"
    }
   ],
   "source": [
    "data.iloc[:, 0].value_counts()"
   ]
  },
  {
   "cell_type": "code",
   "execution_count": 173,
   "metadata": {},
   "outputs": [
    {
     "name": "stdout",
     "output_type": "stream",
     "text": [
      "样本个数：149165；1占0.01%；0占93.38%\n"
     ]
    }
   ],
   "source": [
    "#查看两种分别占的比例\n",
    "n_sample = data.shape[0]\n",
    "\n",
    "n0_sample = data.iloc[:, 0].value_counts()[0]\n",
    "n1_sample = data.iloc[:, 1].value_counts()[1]\n",
    "print('样本个数：{}；1占{:.2%}；0占{:.2%}'.format(n_sample, n1_sample/n_sample, n0_sample/n_sample))"
   ]
  },
  {
   "cell_type": "code",
   "execution_count": 174,
   "metadata": {},
   "outputs": [
    {
     "name": "stderr",
     "output_type": "stream",
     "text": [
      "C:\\Users\\Administrator\\Anaconda3\\lib\\importlib\\_bootstrap.py:219: RuntimeWarning: numpy.ufunc size changed, may indicate binary incompatibility. Expected 192 from C header, got 216 from PyObject\n",
      "  return f(*args, **kwds)\n",
      "Using TensorFlow backend.\n"
     ]
    }
   ],
   "source": [
    "#可以看出来样本严重不均衡，因而采用上采样的方法\n",
    "import imblearn"
   ]
  },
  {
   "cell_type": "code",
   "execution_count": 175,
   "metadata": {},
   "outputs": [],
   "source": [
    "from imblearn.over_sampling import SMOTE"
   ]
  },
  {
   "cell_type": "code",
   "execution_count": 179,
   "metadata": {},
   "outputs": [],
   "source": [
    "sm = SMOTE(random_state=42)\n",
    "X = data.iloc[:, data.columns != 'SeriousDlqin2yrs']\n",
    "y = data.SeriousDlqin2yrs[:, np.newaxis]"
   ]
  },
  {
   "cell_type": "code",
   "execution_count": 181,
   "metadata": {},
   "outputs": [
    {
     "data": {
      "text/plain": [
       "278584"
      ]
     },
     "execution_count": 181,
     "metadata": {},
     "output_type": "execute_result"
    }
   ],
   "source": [
    "X, y = sm.fit_sample(X, y)\n",
    "\n",
    "X.shape[0]"
   ]
  },
  {
   "cell_type": "code",
   "execution_count": 183,
   "metadata": {},
   "outputs": [
    {
     "data": {
      "text/plain": [
       "1    139292\n",
       "0    139292\n",
       "dtype: int64"
      ]
     },
     "execution_count": 183,
     "metadata": {},
     "output_type": "execute_result"
    }
   ],
   "source": [
    "pd.Series(y).value_counts()"
   ]
  },
  {
   "cell_type": "code",
   "execution_count": 185,
   "metadata": {},
   "outputs": [
    {
     "data": {
      "text/plain": [
       "0    139292\n",
       "1      9873\n",
       "Name: SeriousDlqin2yrs, dtype: int64"
      ]
     },
     "execution_count": 185,
     "metadata": {},
     "output_type": "execute_result"
    }
   ],
   "source": [
    "data.SeriousDlqin2yrs.value_counts()"
   ]
  },
  {
   "cell_type": "markdown",
   "metadata": {},
   "source": [
    "## 分成训练集和测试集合"
   ]
  },
  {
   "cell_type": "code",
   "execution_count": 187,
   "metadata": {},
   "outputs": [],
   "source": [
    "from sklearn.model_selection import train_test_split\n",
    "X = pd.DataFrame(X)\n",
    "y = pd.DataFrame(y)\n",
    "Xtrain, Xtest, Ytrain, Ytest = train_test_split(X, y, test_size=.3, random_state=420)\n",
    "\n",
    "model_data = pd.concat([Ytrain, Xtrain], axis=1)\n",
    "model_data.index = range(model_data.shape[0])\n",
    "model_data.columns = data.columns\n",
    "\n",
    "valid_data = pd.concat([Ytest, Xtest], axis=1)\n",
    "valid_data.index = range(valid_data.shape[0])\n",
    "valid_data.columns = data.columns"
   ]
  },
  {
   "cell_type": "code",
   "execution_count": 189,
   "metadata": {},
   "outputs": [],
   "source": [
    "model_data.to_csv(r'E:\\Download\\2019机器学习sklearn课堂\\model_data.csv')\n",
    "valid_data.to_csv(r'E:\\Download\\2019机器学习sklearn课堂\\valid_data.csv')"
   ]
  },
  {
   "cell_type": "markdown",
   "metadata": {},
   "source": [
    "## 分箱 "
   ]
  },
  {
   "cell_type": "code",
   "execution_count": 190,
   "metadata": {},
   "outputs": [],
   "source": [
    "#pd.qcut 基于分位数分箱\n",
    "model_data[\"qcut\"], updown = pd.qcut(model_data[\"age\"], retbins=True, q=20)"
   ]
  },
  {
   "cell_type": "code",
   "execution_count": 192,
   "metadata": {},
   "outputs": [
    {
     "data": {
      "text/plain": [
       "0         (52.0, 54.0]\n",
       "1         (61.0, 64.0]\n",
       "2         (36.0, 39.0]\n",
       "3         (68.0, 74.0]\n",
       "4         (52.0, 54.0]\n",
       "              ...     \n",
       "195003    (31.0, 34.0]\n",
       "195004    (48.0, 50.0]\n",
       "195005    (45.0, 46.0]\n",
       "195006    (61.0, 64.0]\n",
       "195007    (52.0, 54.0]\n",
       "Name: qcut, Length: 195008, dtype: category\n",
       "Categories (20, interval[float64]): [(20.999, 28.0] < (28.0, 31.0] < (31.0, 34.0] < (34.0, 36.0] ... (61.0, 64.0] < (64.0, 68.0] < (68.0, 74.0] < (74.0, 107.0]]"
      ]
     },
     "execution_count": 192,
     "metadata": {},
     "output_type": "execute_result"
    }
   ],
   "source": [
    "model_data.qcut #索引以及其对应的箱子"
   ]
  },
  {
   "cell_type": "code",
   "execution_count": 194,
   "metadata": {},
   "outputs": [
    {
     "data": {
      "text/plain": [
       "(36.0, 39.0]      12690\n",
       "(20.999, 28.0]    11744\n",
       "(58.0, 61.0]      11406\n",
       "(48.0, 50.0]      11100\n",
       "(46.0, 48.0]      10991\n",
       "(31.0, 34.0]      10845\n",
       "(50.0, 52.0]      10549\n",
       "(43.0, 45.0]      10348\n",
       "(61.0, 64.0]      10167\n",
       "(39.0, 41.0]       9818\n",
       "(52.0, 54.0]       9687\n",
       "(41.0, 43.0]       9681\n",
       "(28.0, 31.0]       9491\n",
       "(74.0, 107.0]      9097\n",
       "(64.0, 68.0]       8902\n",
       "(54.0, 56.0]       8729\n",
       "(68.0, 74.0]       8684\n",
       "(56.0, 58.0]       7879\n",
       "(34.0, 36.0]       7522\n",
       "(45.0, 46.0]       5678\n",
       "Name: qcut, dtype: int64"
      ]
     },
     "execution_count": 194,
     "metadata": {},
     "output_type": "execute_result"
    }
   ],
   "source": [
    "model_data.qcut.value_counts()"
   ]
  },
  {
   "cell_type": "code",
   "execution_count": 193,
   "metadata": {},
   "outputs": [
    {
     "data": {
      "text/plain": [
       "array([ 21.,  28.,  31.,  34.,  36.,  39.,  41.,  43.,  45.,  46.,  48.,\n",
       "        50.,  52.,  54.,  56.,  58.,  61.,  64.,  68.,  74., 107.])"
      ]
     },
     "execution_count": 193,
     "metadata": {},
     "output_type": "execute_result"
    }
   ],
   "source": [
    "updown"
   ]
  },
  {
   "cell_type": "code",
   "execution_count": 199,
   "metadata": {},
   "outputs": [],
   "source": [
    "#计算每个箱中标签为0，1出现的次数\n",
    "count_y0 = model_data[model_data.SeriousDlqin2yrs==0].groupby('qcut').count().SeriousDlqin2yrs\n",
    "count_y1 = model_data[model_data.SeriousDlqin2yrs==1].groupby('qcut').count().SeriousDlqin2yrs"
   ]
  },
  {
   "cell_type": "code",
   "execution_count": 200,
   "metadata": {},
   "outputs": [
    {
     "data": {
      "text/plain": [
       "[(21.0, 28.0),\n",
       " (28.0, 31.0),\n",
       " (31.0, 34.0),\n",
       " (34.0, 36.0),\n",
       " (36.0, 39.0),\n",
       " (39.0, 41.0),\n",
       " (41.0, 43.0),\n",
       " (43.0, 45.0),\n",
       " (45.0, 46.0),\n",
       " (46.0, 48.0),\n",
       " (48.0, 50.0),\n",
       " (50.0, 52.0),\n",
       " (52.0, 54.0),\n",
       " (54.0, 56.0),\n",
       " (56.0, 58.0),\n",
       " (58.0, 61.0),\n",
       " (61.0, 64.0),\n",
       " (64.0, 68.0),\n",
       " (68.0, 74.0),\n",
       " (74.0, 107.0)]"
      ]
     },
     "execution_count": 200,
     "metadata": {},
     "output_type": "execute_result"
    }
   ],
   "source": [
    "#得到箱上下限\n",
    "[*zip(updown, updown[1:])]"
   ]
  },
  {
   "cell_type": "code",
   "execution_count": 235,
   "metadata": {},
   "outputs": [],
   "source": [
    "#箱的个数\n",
    "num_bins = [*zip(updown, updown[1: ], count_y0, count_y1)]"
   ]
  },
  {
   "cell_type": "code",
   "execution_count": 204,
   "metadata": {},
   "outputs": [
    {
     "data": {
      "text/plain": [
       "(21.0, 28.0, 4243, 7501)"
      ]
     },
     "execution_count": 204,
     "metadata": {},
     "output_type": "execute_result"
    }
   ],
   "source": [
    "num_bins[0][2:]"
   ]
  },
  {
   "cell_type": "markdown",
   "metadata": {},
   "source": [
    "## 计算WOE和IV来衡量 "
   ]
  },
  {
   "cell_type": "code",
   "execution_count": 205,
   "metadata": {},
   "outputs": [],
   "source": [
    "columns = ['min', 'max', 'count_0', 'count_1']\n",
    "df = pd.DataFrame(num_bins, columns=columns)"
   ]
  },
  {
   "cell_type": "code",
   "execution_count": 207,
   "metadata": {},
   "outputs": [],
   "source": [
    "df['total'] = df.count_0 + df.count_1\n",
    "df[\"percent\"] = df.total / df.total.sum()\n",
    "df[\"bad_rate\"] = df.count_1 / df.total\n",
    "df[\"good%\"] = df.count_0 / df.count_0.sum()\n",
    "df[\"bad%\"] = df.count_1 / df.count_1.sum()\n",
    "df[\"woe\"] = np.log(df[\"good%\"] / df[\"bad%\"])"
   ]
  },
  {
   "cell_type": "code",
   "execution_count": 208,
   "metadata": {
    "scrolled": true
   },
   "outputs": [
    {
     "data": {
      "text/html": [
       "<div>\n",
       "<style scoped>\n",
       "    .dataframe tbody tr th:only-of-type {\n",
       "        vertical-align: middle;\n",
       "    }\n",
       "\n",
       "    .dataframe tbody tr th {\n",
       "        vertical-align: top;\n",
       "    }\n",
       "\n",
       "    .dataframe thead th {\n",
       "        text-align: right;\n",
       "    }\n",
       "</style>\n",
       "<table border=\"1\" class=\"dataframe\">\n",
       "  <thead>\n",
       "    <tr style=\"text-align: right;\">\n",
       "      <th></th>\n",
       "      <th>min</th>\n",
       "      <th>max</th>\n",
       "      <th>count_0</th>\n",
       "      <th>count_1</th>\n",
       "      <th>total</th>\n",
       "      <th>percent</th>\n",
       "      <th>bad_rate</th>\n",
       "      <th>good%</th>\n",
       "      <th>bad%</th>\n",
       "      <th>woe</th>\n",
       "    </tr>\n",
       "  </thead>\n",
       "  <tbody>\n",
       "    <tr>\n",
       "      <th>0</th>\n",
       "      <td>21.0</td>\n",
       "      <td>28.0</td>\n",
       "      <td>4243</td>\n",
       "      <td>7501</td>\n",
       "      <td>11744</td>\n",
       "      <td>0.060223</td>\n",
       "      <td>0.638709</td>\n",
       "      <td>0.043433</td>\n",
       "      <td>0.077078</td>\n",
       "      <td>-0.573602</td>\n",
       "    </tr>\n",
       "    <tr>\n",
       "      <th>1</th>\n",
       "      <td>28.0</td>\n",
       "      <td>31.0</td>\n",
       "      <td>3571</td>\n",
       "      <td>5920</td>\n",
       "      <td>9491</td>\n",
       "      <td>0.048670</td>\n",
       "      <td>0.623749</td>\n",
       "      <td>0.036554</td>\n",
       "      <td>0.060832</td>\n",
       "      <td>-0.509327</td>\n",
       "    </tr>\n",
       "    <tr>\n",
       "      <th>2</th>\n",
       "      <td>31.0</td>\n",
       "      <td>34.0</td>\n",
       "      <td>4075</td>\n",
       "      <td>6770</td>\n",
       "      <td>10845</td>\n",
       "      <td>0.055613</td>\n",
       "      <td>0.624251</td>\n",
       "      <td>0.041713</td>\n",
       "      <td>0.069566</td>\n",
       "      <td>-0.511466</td>\n",
       "    </tr>\n",
       "    <tr>\n",
       "      <th>3</th>\n",
       "      <td>34.0</td>\n",
       "      <td>36.0</td>\n",
       "      <td>2908</td>\n",
       "      <td>4614</td>\n",
       "      <td>7522</td>\n",
       "      <td>0.038573</td>\n",
       "      <td>0.613401</td>\n",
       "      <td>0.029767</td>\n",
       "      <td>0.047412</td>\n",
       "      <td>-0.465465</td>\n",
       "    </tr>\n",
       "    <tr>\n",
       "      <th>4</th>\n",
       "      <td>36.0</td>\n",
       "      <td>39.0</td>\n",
       "      <td>5182</td>\n",
       "      <td>7508</td>\n",
       "      <td>12690</td>\n",
       "      <td>0.065074</td>\n",
       "      <td>0.591647</td>\n",
       "      <td>0.053045</td>\n",
       "      <td>0.077150</td>\n",
       "      <td>-0.374614</td>\n",
       "    </tr>\n",
       "  </tbody>\n",
       "</table>\n",
       "</div>"
      ],
      "text/plain": [
       "    min   max  count_0  count_1  total   percent  bad_rate     good%  \\\n",
       "0  21.0  28.0     4243     7501  11744  0.060223  0.638709  0.043433   \n",
       "1  28.0  31.0     3571     5920   9491  0.048670  0.623749  0.036554   \n",
       "2  31.0  34.0     4075     6770  10845  0.055613  0.624251  0.041713   \n",
       "3  34.0  36.0     2908     4614   7522  0.038573  0.613401  0.029767   \n",
       "4  36.0  39.0     5182     7508  12690  0.065074  0.591647  0.053045   \n",
       "\n",
       "       bad%       woe  \n",
       "0  0.077078 -0.573602  \n",
       "1  0.060832 -0.509327  \n",
       "2  0.069566 -0.511466  \n",
       "3  0.047412 -0.465465  \n",
       "4  0.077150 -0.374614  "
      ]
     },
     "execution_count": 208,
     "metadata": {},
     "output_type": "execute_result"
    }
   ],
   "source": [
    "df.head()"
   ]
  },
  {
   "cell_type": "code",
   "execution_count": 209,
   "metadata": {},
   "outputs": [],
   "source": [
    "IV = np.sum((df[\"good%\"] - df[\"bad%\"]) * df.woe)"
   ]
  },
  {
   "cell_type": "code",
   "execution_count": 210,
   "metadata": {},
   "outputs": [
    {
     "data": {
      "text/plain": [
       "0.35531649161611084"
      ]
     },
     "execution_count": 210,
     "metadata": {},
     "output_type": "execute_result"
    }
   ],
   "source": [
    "IV"
   ]
  },
  {
   "cell_type": "code",
   "execution_count": 211,
   "metadata": {},
   "outputs": [],
   "source": [
    "def get_woe(num_bins):\n",
    "    columns = ['min', 'max', 'count_y0', 'count_y1']\n",
    "    df = pd.DataFrame(num_bins, columns=columns)\n",
    "    \n",
    "    df[\"total\"] = df[\"count_y0\"] + df[\"count_y1\"]\n",
    "    df[\"percent\"] = df[\"total\"] / df[\"total\"].sum()\n",
    "    df[\"bad_rate\"] = df[\"count_y1\"] / df[\"total\"]\n",
    "    df[\"good%\"] = df[\"count_y0\"] / df[\"count_y0\"].sum()\n",
    "    df[\"bad%\"] = df[\"count_y1\"] / df[\"count_y1\"].sum()\n",
    "    df[\"woe\"] = np.log(df[\"good%\"] / df[\"bad%\"])\n",
    "    return df"
   ]
  },
  {
   "cell_type": "code",
   "execution_count": 213,
   "metadata": {},
   "outputs": [],
   "source": [
    "def get_iv(df):\n",
    "    return np.sum(df.woe * (df[\"good%\"] - df[\"bad%\"]))"
   ]
  },
  {
   "cell_type": "code",
   "execution_count": 214,
   "metadata": {},
   "outputs": [
    {
     "data": {
      "text/plain": [
       "0.35531649161611084"
      ]
     },
     "execution_count": 214,
     "metadata": {},
     "output_type": "execute_result"
    }
   ],
   "source": [
    "get_iv(get_woe(num_bins))"
   ]
  },
  {
   "cell_type": "markdown",
   "metadata": {},
   "source": [
    "## 卡方检验，合并箱体，画出IV曲线 \n",
    "对于两个相邻的箱体，检测其相似度，若p高，则合并两箱体"
   ]
  },
  {
   "cell_type": "code",
   "execution_count": 225,
   "metadata": {},
   "outputs": [
    {
     "name": "stdout",
     "output_type": "stream",
     "text": [
      "(4243, 7501)\n"
     ]
    },
    {
     "data": {
      "image/png": "[encoded data removed]",
      "text/plain": [
       "<Figure size 432x288 with 1 Axes>"
      ]
     },
     "metadata": {
      "needs_background": "light"
     },
     "output_type": "display_data"
    }
   ],
   "source": [
    "num_bins_ = num_bins.copy()\n",
    "import matplotlib.pyplot as plt\n",
    "import scipy\n",
    "IV = []\n",
    "axisx = []\n",
    "print(num_bins_[0][2:])\n",
    "while len(num_bins_) > 2:\n",
    "    pvs = []\n",
    "    \n",
    "    for i in range(len(num_bins_) - 1):\n",
    "        \n",
    "        x1 = num_bins_[i][2:]\n",
    "        x2 = num_bins_[i+1][2:]\n",
    "        pv = scipy.stats.chi2_contingency([x1, x2])[1]\n",
    "        pvs.append(pv)\n",
    "        \n",
    "    i = pvs.index(max(pvs))\n",
    "        \n",
    "    num_bins_[i: i+2] = [(\n",
    "        num_bins_[i][0]\n",
    "        , num_bins_[i+1][1]\n",
    "        , num_bins_[i][2] + num_bins_[i+1][2]\n",
    "        , num_bins_[i][3] + num_bins_[i+1][3])]\n",
    "    bins_df = get_woe(num_bins_)\n",
    "    axisx.append(len(num_bins_))\n",
    "    IV.append(get_iv(bins_df))\n",
    "\n",
    "plt.figure()\n",
    "plt.plot(axisx, IV)\n",
    "plt.xticks(axisx)\n",
    "plt.xlabel(\"number of box\")\n",
    "plt.ylabel(\"IV\")\n",
    "plt.show()"
   ]
  },
  {
   "cell_type": "code",
   "execution_count": 228,
   "metadata": {},
   "outputs": [],
   "source": [
    "#用最佳分箱个数进行分箱\n",
    "def get_bin(num_bins_, n):\n",
    "    while len(num_bins_) > n:\n",
    "        pvs = []\n",
    "        for i in range(len(num_bins_) - 1):\n",
    "            x1 = num_bins_[i][2:4]\n",
    "            x2 = num_bins_[i+1][2:4]\n",
    "            pv = scipy.stats.chi2_contingency([x1, x2])[1]\n",
    "            pvs.append(pv)\n",
    "        i = pvs.index(max(pvs))\n",
    "        \n",
    "        num_bins_[i:i+2] = [(\n",
    "            num_bins_[i][0]\n",
    "            ,num_bins_[i][1]\n",
    "            ,num_bins_[i][2] + num_bins_[i+1][2]\n",
    "            ,num_bins_[i][3] + num_bins_[i+1][3]\n",
    "            )]\n",
    "    return num_bins_"
   ]
  },
  {
   "cell_type": "code",
   "execution_count": 237,
   "metadata": {},
   "outputs": [],
   "source": [
    "num_bins__ = num_bins.copy()\n",
    "afterbins = get_bin(num_bins__, 6)"
   ]
  },
  {
   "cell_type": "code",
   "execution_count": 238,
   "metadata": {},
   "outputs": [
    {
     "data": {
      "text/plain": [
       "[(21.0, 28.0, 14797, 24805),\n",
       " (36.0, 39.0, 39070, 51472),\n",
       " (54.0, 56.0, 15743, 12271),\n",
       " (61.0, 64.0, 6968, 3199),\n",
       " (64.0, 68.0, 13376, 4210),\n",
       " (74.0, 107.0, 7737, 1360)]"
      ]
     },
     "execution_count": 238,
     "metadata": {},
     "output_type": "execute_result"
    }
   ],
   "source": [
    "afterbins"
   ]
  },
  {
   "cell_type": "code",
   "execution_count": 239,
   "metadata": {},
   "outputs": [
    {
     "data": {
      "text/html": [
       "<div>\n",
       "<style scoped>\n",
       "    .dataframe tbody tr th:only-of-type {\n",
       "        vertical-align: middle;\n",
       "    }\n",
       "\n",
       "    .dataframe tbody tr th {\n",
       "        vertical-align: top;\n",
       "    }\n",
       "\n",
       "    .dataframe thead th {\n",
       "        text-align: right;\n",
       "    }\n",
       "</style>\n",
       "<table border=\"1\" class=\"dataframe\">\n",
       "  <thead>\n",
       "    <tr style=\"text-align: right;\">\n",
       "      <th></th>\n",
       "      <th>min</th>\n",
       "      <th>max</th>\n",
       "      <th>count_y0</th>\n",
       "      <th>count_y1</th>\n",
       "      <th>total</th>\n",
       "      <th>percent</th>\n",
       "      <th>bad_rate</th>\n",
       "      <th>good%</th>\n",
       "      <th>bad%</th>\n",
       "      <th>woe</th>\n",
       "    </tr>\n",
       "  </thead>\n",
       "  <tbody>\n",
       "    <tr>\n",
       "      <th>0</th>\n",
       "      <td>21.0</td>\n",
       "      <td>28.0</td>\n",
       "      <td>14797</td>\n",
       "      <td>24805</td>\n",
       "      <td>39602</td>\n",
       "      <td>0.203079</td>\n",
       "      <td>0.626357</td>\n",
       "      <td>0.151467</td>\n",
       "      <td>0.254889</td>\n",
       "      <td>-0.520457</td>\n",
       "    </tr>\n",
       "    <tr>\n",
       "      <th>1</th>\n",
       "      <td>36.0</td>\n",
       "      <td>39.0</td>\n",
       "      <td>39070</td>\n",
       "      <td>51472</td>\n",
       "      <td>90542</td>\n",
       "      <td>0.464299</td>\n",
       "      <td>0.568488</td>\n",
       "      <td>0.399934</td>\n",
       "      <td>0.528911</td>\n",
       "      <td>-0.279519</td>\n",
       "    </tr>\n",
       "    <tr>\n",
       "      <th>2</th>\n",
       "      <td>54.0</td>\n",
       "      <td>56.0</td>\n",
       "      <td>15743</td>\n",
       "      <td>12271</td>\n",
       "      <td>28014</td>\n",
       "      <td>0.143656</td>\n",
       "      <td>0.438031</td>\n",
       "      <td>0.161151</td>\n",
       "      <td>0.126093</td>\n",
       "      <td>0.245321</td>\n",
       "    </tr>\n",
       "    <tr>\n",
       "      <th>3</th>\n",
       "      <td>61.0</td>\n",
       "      <td>64.0</td>\n",
       "      <td>6968</td>\n",
       "      <td>3199</td>\n",
       "      <td>10167</td>\n",
       "      <td>0.052136</td>\n",
       "      <td>0.314645</td>\n",
       "      <td>0.071327</td>\n",
       "      <td>0.032872</td>\n",
       "      <td>0.774654</td>\n",
       "    </tr>\n",
       "    <tr>\n",
       "      <th>4</th>\n",
       "      <td>64.0</td>\n",
       "      <td>68.0</td>\n",
       "      <td>13376</td>\n",
       "      <td>4210</td>\n",
       "      <td>17586</td>\n",
       "      <td>0.090181</td>\n",
       "      <td>0.239395</td>\n",
       "      <td>0.136922</td>\n",
       "      <td>0.043261</td>\n",
       "      <td>1.152164</td>\n",
       "    </tr>\n",
       "    <tr>\n",
       "      <th>5</th>\n",
       "      <td>74.0</td>\n",
       "      <td>107.0</td>\n",
       "      <td>7737</td>\n",
       "      <td>1360</td>\n",
       "      <td>9097</td>\n",
       "      <td>0.046649</td>\n",
       "      <td>0.149500</td>\n",
       "      <td>0.079199</td>\n",
       "      <td>0.013975</td>\n",
       "      <td>1.734694</td>\n",
       "    </tr>\n",
       "  </tbody>\n",
       "</table>\n",
       "</div>"
      ],
      "text/plain": [
       "    min    max  count_y0  count_y1  total   percent  bad_rate     good%  \\\n",
       "0  21.0   28.0     14797     24805  39602  0.203079  0.626357  0.151467   \n",
       "1  36.0   39.0     39070     51472  90542  0.464299  0.568488  0.399934   \n",
       "2  54.0   56.0     15743     12271  28014  0.143656  0.438031  0.161151   \n",
       "3  61.0   64.0      6968      3199  10167  0.052136  0.314645  0.071327   \n",
       "4  64.0   68.0     13376      4210  17586  0.090181  0.239395  0.136922   \n",
       "5  74.0  107.0      7737      1360   9097  0.046649  0.149500  0.079199   \n",
       "\n",
       "       bad%       woe  \n",
       "0  0.254889 -0.520457  \n",
       "1  0.528911 -0.279519  \n",
       "2  0.126093  0.245321  \n",
       "3  0.032872  0.774654  \n",
       "4  0.043261  1.152164  \n",
       "5  0.013975  1.734694  "
      ]
     },
     "execution_count": 239,
     "metadata": {},
     "output_type": "execute_result"
    }
   ],
   "source": [
    "bins_df = get_woe(afterbins)\n",
    "bins_df"
   ]
  },
  {
   "cell_type": "markdown",
   "metadata": {},
   "source": [
    "## 包装函数来对所有特征分箱 "
   ]
  },
  {
   "cell_type": "code",
   "execution_count": 248,
   "metadata": {},
   "outputs": [],
   "source": [
    "def graphforbestbin(DF, X, Y, n=5, q=20, graph=True):\n",
    "    import pandas as pd\n",
    "    import numpy as np\n",
    "    import scipy\n",
    "    df = DF[[X, Y]].copy()\n",
    "    #利用pandas中的qcut函数进行分箱\n",
    "    df[\"qcut\"], bins = pd.qcut(df[X], retbins=True, q=q, duplicates='drop')\n",
    "    \n",
    "    coount_y0 = df.loc[df[Y]==0].groupby(\"qcut\").count()[Y]\n",
    "    coount_y1 = df.loc[df[Y]==1].groupby(\"qcut\").count()[Y]\n",
    "    num_bins = [*zip(bins, bins[1:], coount_y0, coount_y1)]\n",
    "    \n",
    "    #箱子中的0和1的个数不应该出现0\n",
    "    #在保证第一行中既有0又有1的情况下，检验后面余下行\n",
    "    #向前合并\n",
    "    for i in range(q):\n",
    "        if 0 in num_bins[0][2:]:\n",
    "            num_bins[0:2] = [(\n",
    "            num_bins[0][0]\n",
    "            ,num_bins[1][1]\n",
    "            ,num_bins[0][2] + num_bins[1][2]\n",
    "            ,num_bins[0][3] + num_bins[1][3]\n",
    "            )]\n",
    "            continue\n",
    "        for i in range(len(num_bins)):\n",
    "            if 0 in num_bins[i][2:]:\n",
    "                num_bins[i-1:i+1] = [(\n",
    "                    num_bins[i-1][0]\n",
    "                    ,num_bins[i][1]\n",
    "                    ,num_bins[i-1][2] + num_bins[i][2]\n",
    "                    ,num_bins[i-1][3] + num_bins[i][3]\n",
    "                    )]\n",
    "                break\n",
    "            else:\n",
    "                break\n",
    "    def get_woe(num_bins):\n",
    "        columns = ['min', 'max', 'count_y0', 'count_y1']\n",
    "        df = pd.DataFrame(num_bins, columns=columns)\n",
    "        df['total'] = df.count_y0 + df.count_y1\n",
    "        df['percentage'] = df.total / df.total.sum()\n",
    "        df['bad_rate'] = df.count_y1 / df.total\n",
    "        df['good%'] = df.count_y0 / df.count_y0.sum()\n",
    "        df['bad%'] = df.count_y1 / df.count_y1.sum()\n",
    "        df['woe'] = np.log(df['good%'] / df['bad%'])\n",
    "        \n",
    "        return df\n",
    "    def get_iv(df):\n",
    "        return np.sum((df['good%'] - df['bad%']) * df.woe)\n",
    "    \n",
    "    IV = []\n",
    "    axisx = []\n",
    "    while len(num_bins) > n:\n",
    "        pvs = []\n",
    "        for i in range(len(num_bins) - 1):\n",
    "            x1 = num_bins[i][2:]\n",
    "            x2 = num_bins[i+1][2:]\n",
    "            pv = scipy.stats.chi2_contingency([x1, x2])[1]\n",
    "            pvs.append(pv)\n",
    "            \n",
    "        i = pvs.index(max(pvs))\n",
    "        num_bins[i:i+2] = [(\n",
    "        num_bins[i][0]\n",
    "        ,num_bins[i+1][1]\n",
    "        ,num_bins[i][2] + num_bins[i+1][2]\n",
    "        ,num_bins[i][3] + num_bins[i+1][3]\n",
    "        )]\n",
    "        \n",
    "        bins_df = pd.DataFrame(get_woe(num_bins))\n",
    "        axisx.append(len(bins_df))\n",
    "        IV.append(get_iv(bins_df))\n",
    "        \n",
    "        \n",
    "    if graph:\n",
    "        plt.figure()\n",
    "        plt.plot(axisx, IV)\n",
    "        plt.xticks(axisx)\n",
    "        plt.xlabel(\"number of box\")\n",
    "        plt.ylabel(\"IV\")\n",
    "        plt.show()\n",
    "    return bins_df"
   ]
  },
  {
   "cell_type": "code",
   "execution_count": 249,
   "metadata": {},
   "outputs": [
    {
     "name": "stdout",
     "output_type": "stream",
     "text": [
      "RevolvingUtilizationOfUnsecuredLines\n"
     ]
    },
    {
     "data": {
      "image/png": "[encoded data removed]",
      "text/plain": [
       "<Figure size 432x288 with 1 Axes>"
      ]
     },
     "metadata": {
      "needs_background": "light"
     },
     "output_type": "display_data"
    },
    {
     "name": "stdout",
     "output_type": "stream",
     "text": [
      "age\n"
     ]
    },
    {
     "data": {
      "image/png": "[encoded data removed]",
      "text/plain": [
       "<Figure size 432x288 with 1 Axes>"
      ]
     },
     "metadata": {
      "needs_background": "light"
     },
     "output_type": "display_data"
    },
    {
     "name": "stdout",
     "output_type": "stream",
     "text": [
      "NumberOfTime30-59DaysPastDueNotWorse\n"
     ]
    },
    {
     "data": {
      "image/png": "[encoded data removed]",
      "text/plain": [
       "<Figure size 432x288 with 1 Axes>"
      ]
     },
     "metadata": {
      "needs_background": "light"
     },
     "output_type": "display_data"
    },
    {
     "name": "stdout",
     "output_type": "stream",
     "text": [
      "DebtRatio\n"
     ]
    },
    {
     "data": {
      "image/png": "[encoded data removed]",
      "text/plain": [
       "<Figure size 432x288 with 1 Axes>"
      ]
     },
     "metadata": {
      "needs_background": "light"
     },
     "output_type": "display_data"
    },
    {
     "name": "stdout",
     "output_type": "stream",
     "text": [
      "MonthlyIncome\n"
     ]
    },
    {
     "data": {
      "image/png": "[encoded data removed]",
      "text/plain": [
       "<Figure size 432x288 with 1 Axes>"
      ]
     },
     "metadata": {
      "needs_background": "light"
     },
     "output_type": "display_data"
    },
    {
     "name": "stdout",
     "output_type": "stream",
     "text": [
      "NumberOfOpenCreditLinesAndLoans\n"
     ]
    },
    {
     "data": {
      "image/png": "[encoded data removed]",
      "text/plain": [
       "<Figure size 432x288 with 1 Axes>"
      ]
     },
     "metadata": {
      "needs_background": "light"
     },
     "output_type": "display_data"
    },
    {
     "name": "stdout",
     "output_type": "stream",
     "text": [
      "NumberOfTimes90DaysLate\n"
     ]
    },
    {
     "data": {
      "image/png": "[encoded data removed]",
      "text/plain": [
       "<Figure size 432x288 with 1 Axes>"
      ]
     },
     "metadata": {
      "needs_background": "light"
     },
     "output_type": "display_data"
    },
    {
     "name": "stdout",
     "output_type": "stream",
     "text": [
      "NumberRealEstateLoansOrLines\n"
     ]
    },
    {
     "data": {
      "image/png": "[encoded data removed]",
      "text/plain": [
       "<Figure size 432x288 with 1 Axes>"
      ]
     },
     "metadata": {
      "needs_background": "light"
     },
     "output_type": "display_data"
    },
    {
     "name": "stdout",
     "output_type": "stream",
     "text": [
      "NumberOfTime60-89DaysPastDueNotWorse\n"
     ]
    },
    {
     "data": {
      "image/png": "[encoded data removed]",
      "text/plain": [
       "<Figure size 432x288 with 1 Axes>"
      ]
     },
     "metadata": {
      "needs_background": "light"
     },
     "output_type": "display_data"
    },
    {
     "ename": "UnboundLocalError",
     "evalue": "local variable 'bins_df' referenced before assignment",
     "output_type": "error",
     "traceback": [
      "\u001b[1;31m---------------------------------------------------------------------------\u001b[0m",
      "\u001b[1;31mUnboundLocalError\u001b[0m                         Traceback (most recent call last)",
      "\u001b[1;32m<ipython-input-249-e3c47b456df1>\u001b[0m in \u001b[0;36m<module>\u001b[1;34m()\u001b[0m\n\u001b[0;32m      1\u001b[0m \u001b[1;32mfor\u001b[0m \u001b[0mi\u001b[0m \u001b[1;32min\u001b[0m \u001b[0mmodel_data\u001b[0m\u001b[1;33m.\u001b[0m\u001b[0mcolumns\u001b[0m\u001b[1;33m[\u001b[0m\u001b[1;36m1\u001b[0m\u001b[1;33m:\u001b[0m \u001b[1;33m-\u001b[0m\u001b[1;36m1\u001b[0m\u001b[1;33m]\u001b[0m\u001b[1;33m:\u001b[0m\u001b[1;33m\u001b[0m\u001b[0m\n\u001b[0;32m      2\u001b[0m     \u001b[0mprint\u001b[0m\u001b[1;33m(\u001b[0m\u001b[0mi\u001b[0m\u001b[1;33m)\u001b[0m\u001b[1;33m\u001b[0m\u001b[0m\n\u001b[1;32m----> 3\u001b[1;33m     \u001b[0mgraphforbestbin\u001b[0m\u001b[1;33m(\u001b[0m\u001b[0mmodel_data\u001b[0m\u001b[1;33m,\u001b[0m \u001b[0mi\u001b[0m\u001b[1;33m,\u001b[0m \u001b[1;34m\"SeriousDlqin2yrs\"\u001b[0m\u001b[1;33m,\u001b[0m \u001b[0mn\u001b[0m\u001b[1;33m=\u001b[0m\u001b[1;36m2\u001b[0m\u001b[1;33m,\u001b[0m \u001b[0mq\u001b[0m\u001b[1;33m=\u001b[0m\u001b[1;36m20\u001b[0m\u001b[1;33m)\u001b[0m\u001b[1;33m\u001b[0m\u001b[0m\n\u001b[0m",
      "\u001b[1;32m<ipython-input-248-6a173813aff9>\u001b[0m in \u001b[0;36mgraphforbestbin\u001b[1;34m(DF, X, Y, n, q, graph)\u001b[0m\n\u001b[0;32m     78\u001b[0m         \u001b[0mplt\u001b[0m\u001b[1;33m.\u001b[0m\u001b[0mylabel\u001b[0m\u001b[1;33m(\u001b[0m\u001b[1;34m\"IV\"\u001b[0m\u001b[1;33m)\u001b[0m\u001b[1;33m\u001b[0m\u001b[0m\n\u001b[0;32m     79\u001b[0m         \u001b[0mplt\u001b[0m\u001b[1;33m.\u001b[0m\u001b[0mshow\u001b[0m\u001b[1;33m(\u001b[0m\u001b[1;33m)\u001b[0m\u001b[1;33m\u001b[0m\u001b[0m\n\u001b[1;32m---> 80\u001b[1;33m     \u001b[1;32mreturn\u001b[0m \u001b[0mbins_df\u001b[0m\u001b[1;33m\u001b[0m\u001b[0m\n\u001b[0m",
      "\u001b[1;31mUnboundLocalError\u001b[0m: local variable 'bins_df' referenced before assignment"
     ]
    }
   ],
   "source": [
    "for i in model_data.columns[1: -1]:\n",
    "    print(i)\n",
    "    graphforbestbin(model_data, i, \"SeriousDlqin2yrs\", n=2, q=20)"
   ]
  },
  {
   "cell_type": "code",
   "execution_count": 251,
   "metadata": {},
   "outputs": [],
   "source": [
    "auto_col_bins = {\"RevolvingUtilizationOfUnsecuredLines\":6,\n",
    "    \"age\":5,\n",
    "    \"DebtRatio\":4,\n",
    "    \"MonthlyIncome\":3,\n",
    "    \"NumberOfOpenCreditLinesAndLoans\":5}\n",
    "#不能使用自动分箱的变量\n",
    "hand_bins = {\"NumberOfTime30-59DaysPastDueNotWorse\":[0,1,2,13]\n",
    "    ,\"NumberOfTimes90DaysLate\":[0,1,2,17]\n",
    "    ,\"NumberRealEstateLoansOrLines\":[0,1,2,4,54]\n",
    "    ,\"NumberOfTime60-89DaysPastDueNotWorse\":[0,1,2,8]\n",
    "    ,\"NumberOfDependents\":[0,1,2,3]}\n",
    "#保证区间覆盖使用 np.inf替换最大值，用-np.inf替换最小值\n",
    "hand_bins = {k:[-np.inf,*v[:-1],np.inf] for k,v in hand_bins.items()}\n",
    "bins_of_col = {}\n",
    "# 生成自动分箱的分箱区间和分箱后的 IV 值\n",
    "for col in auto_col_bins:\n",
    "    bins_df = graphforbestbin(model_data,col\n",
    "    ,\"SeriousDlqin2yrs\"\n",
    "    ,n=auto_col_bins[col]\n",
    "#使用字典的性质来取出每个特征所对应的箱的数量\n",
    "    ,q=20\n",
    "    ,graph=False)\n",
    "    bins_list = sorted(set(bins_df[\"min\"]).union(bins_df[\"max\"]))\n",
    "#保证区间覆盖使用 np.inf 替换最大值 -np.inf 替换最小值\n",
    "    bins_list[0],bins_list[-1] = -np.inf,np.inf\n",
    "    bins_of_col[col] = bins_list"
   ]
  },
  {
   "cell_type": "code",
   "execution_count": 253,
   "metadata": {},
   "outputs": [],
   "source": [
    "bins_of_col.update(hand_bins)"
   ]
  },
  {
   "cell_type": "code",
   "execution_count": 256,
   "metadata": {},
   "outputs": [
    {
     "data": {
      "text/plain": [
       "{'RevolvingUtilizationOfUnsecuredLines': [-inf,\n",
       "  0.099056963,\n",
       "  0.29797080393412695,\n",
       "  0.6403948106600063,\n",
       "  0.9825075245118169,\n",
       "  0.9999998999999999,\n",
       "  inf],\n",
       " 'age': [-inf, 36.0, 54.0, 61.0, 74.0, inf],\n",
       " 'DebtRatio': [-inf,\n",
       "  0.017302200850000005,\n",
       "  0.5033673562282015,\n",
       "  1.4718297260033157,\n",
       "  inf],\n",
       " 'MonthlyIncome': [-inf, 0.10597839533279214, 5598.0, inf],\n",
       " 'NumberOfOpenCreditLinesAndLoans': [-inf, 1.0, 3.0, 5.0, 17.0, inf],\n",
       " 'NumberOfTime30-59DaysPastDueNotWorse': [-inf, 0, 1, 2, inf],\n",
       " 'NumberOfTimes90DaysLate': [-inf, 0, 1, 2, inf],\n",
       " 'NumberRealEstateLoansOrLines': [-inf, 0, 1, 2, 4, inf],\n",
       " 'NumberOfTime60-89DaysPastDueNotWorse': [-inf, 0, 1, 2, inf],\n",
       " 'NumberOfDependents': [-inf, 0, 1, 2, inf]}"
      ]
     },
     "execution_count": 256,
     "metadata": {},
     "output_type": "execute_result"
    }
   ],
   "source": [
    "bins_of_col"
   ]
  },
  {
   "cell_type": "markdown",
   "metadata": {},
   "source": [
    "## 已经获得了分箱，将原数据进行分箱，映射"
   ]
  },
  {
   "cell_type": "code",
   "execution_count": 279,
   "metadata": {},
   "outputs": [
    {
     "name": "stderr",
     "output_type": "stream",
     "text": [
      "C:\\Users\\Administrator\\Anaconda3\\lib\\site-packages\\ipykernel_launcher.py:2: SettingWithCopyWarning: \n",
      "A value is trying to be set on a copy of a slice from a DataFrame.\n",
      "Try using .loc[row_indexer,col_indexer] = value instead\n",
      "\n",
      "See the caveats in the documentation: http://pandas.pydata.org/pandas-docs/stable/user_guide/indexing.html#returning-a-view-versus-a-copy\n",
      "  \n"
     ]
    },
    {
     "data": {
      "text/html": [
       "<div>\n",
       "<style scoped>\n",
       "    .dataframe tbody tr th:only-of-type {\n",
       "        vertical-align: middle;\n",
       "    }\n",
       "\n",
       "    .dataframe tbody tr th {\n",
       "        vertical-align: top;\n",
       "    }\n",
       "\n",
       "    .dataframe thead th {\n",
       "        text-align: right;\n",
       "    }\n",
       "</style>\n",
       "<table border=\"1\" class=\"dataframe\">\n",
       "  <thead>\n",
       "    <tr style=\"text-align: right;\">\n",
       "      <th>SeriousDlqin2yrs</th>\n",
       "      <th>0</th>\n",
       "      <th>1</th>\n",
       "    </tr>\n",
       "    <tr>\n",
       "      <th>cut</th>\n",
       "      <th></th>\n",
       "      <th></th>\n",
       "    </tr>\n",
       "  </thead>\n",
       "  <tbody>\n",
       "    <tr>\n",
       "      <th>(-inf, 36.0]</th>\n",
       "      <td>14797</td>\n",
       "      <td>24805</td>\n",
       "    </tr>\n",
       "    <tr>\n",
       "      <th>(36.0, 54.0]</th>\n",
       "      <td>39070</td>\n",
       "      <td>51472</td>\n",
       "    </tr>\n",
       "    <tr>\n",
       "      <th>(54.0, 61.0]</th>\n",
       "      <td>15743</td>\n",
       "      <td>12271</td>\n",
       "    </tr>\n",
       "    <tr>\n",
       "      <th>(61.0, 74.0]</th>\n",
       "      <td>20344</td>\n",
       "      <td>7409</td>\n",
       "    </tr>\n",
       "    <tr>\n",
       "      <th>(74.0, inf]</th>\n",
       "      <td>7737</td>\n",
       "      <td>1360</td>\n",
       "    </tr>\n",
       "  </tbody>\n",
       "</table>\n",
       "</div>"
      ],
      "text/plain": [
       "SeriousDlqin2yrs      0      1\n",
       "cut                           \n",
       "(-inf, 36.0]      14797  24805\n",
       "(36.0, 54.0]      39070  51472\n",
       "(54.0, 61.0]      15743  12271\n",
       "(61.0, 74.0]      20344   7409\n",
       "(74.0, inf]        7737   1360"
      ]
     },
     "execution_count": 279,
     "metadata": {},
     "output_type": "execute_result"
    }
   ],
   "source": [
    "a = model_data[['age', 'SeriousDlqin2yrs']]\n",
    "a[\"cut\"] = pd.cut(a['age'], bins_of_col['age'])#利用分箱来对a中列进行分箱\n",
    "\n",
    "a.groupby(\"cut\")['SeriousDlqin2yrs'].value_counts().unstack()"
   ]
  },
  {
   "cell_type": "code",
   "execution_count": 277,
   "metadata": {},
   "outputs": [],
   "source": [
    "def get_woe(df, col, y, bins):\n",
    "    df = df[[col, y]].copy() #这里要[[]]才能取出复数个列\n",
    "    df[\"cut\"] = pd.cut(df[col], bins)\n",
    "    bins_df = df.groupby(\"cut\")[y].value_counts().unstack()#转换成类似DataFrame表格形式\n",
    "    woe = bins_df[\"woe\"] = np.log((bins_df[0]/bins_df[0].sum()) / (bins_df[1] / bins_df[1].sum()))\n",
    "    return woe\n",
    "\n",
    "woeall = {} #用来储存所有woe的字典\n",
    "for col in bins_of_col:\n",
    "    woeall[col] = get_woe(model_data, col, \"SeriousDlqin2yrs\", bins_of_col[col])"
   ]
  },
  {
   "cell_type": "code",
   "execution_count": 278,
   "metadata": {},
   "outputs": [
    {
     "data": {
      "text/plain": [
       "{'RevolvingUtilizationOfUnsecuredLines': cut\n",
       " (-inf, 0.0991]     2.201896\n",
       " (0.0991, 0.298]    0.669887\n",
       " (0.298, 0.64]     -0.390725\n",
       " (0.64, 0.983]     -1.260348\n",
       " (0.983, 1.0]      -0.479918\n",
       " (1.0, inf]        -2.033450\n",
       " dtype: float64, 'age': cut\n",
       " (-inf, 36.0]   -0.520457\n",
       " (36.0, 54.0]   -0.279519\n",
       " (54.0, 61.0]    0.245321\n",
       " (61.0, 74.0]    1.006255\n",
       " (74.0, inf]     1.734694\n",
       " dtype: float64, 'DebtRatio': cut\n",
       " (-inf, 0.0173]     1.498112\n",
       " (0.0173, 0.503]   -0.010288\n",
       " (0.503, 1.472]    -0.471715\n",
       " (1.472, inf]       0.175196\n",
       " dtype: float64, 'MonthlyIncome': cut\n",
       " (-inf, 0.106]      1.411034\n",
       " (0.106, 5598.0]   -0.236873\n",
       " (5598.0, inf]      0.231884\n",
       " dtype: float64, 'NumberOfOpenCreditLinesAndLoans': cut\n",
       " (-inf, 1.0]   -0.852017\n",
       " (1.0, 3.0]    -0.330686\n",
       " (3.0, 5.0]    -0.055384\n",
       " (5.0, 17.0]    0.125414\n",
       " (17.0, inf]    0.456154\n",
       " dtype: float64, 'NumberOfTime30-59DaysPastDueNotWorse': cut\n",
       " (-inf, 0.0]    0.351511\n",
       " (0.0, 1.0]    -0.871332\n",
       " (1.0, 2.0]    -1.374712\n",
       " (2.0, inf]    -1.540520\n",
       " dtype: float64, 'NumberOfTimes90DaysLate': cut\n",
       " (-inf, 0.0]    0.235955\n",
       " (0.0, 1.0]    -1.754181\n",
       " (1.0, 2.0]    -2.259426\n",
       " (2.0, inf]    -2.419857\n",
       " dtype: float64, 'NumberRealEstateLoansOrLines': cut\n",
       " (-inf, 0.0]   -0.391354\n",
       " (0.0, 1.0]     0.191982\n",
       " (1.0, 2.0]     0.613224\n",
       " (2.0, 4.0]     0.391640\n",
       " (4.0, inf]    -0.294891\n",
       " dtype: float64, 'NumberOfTime60-89DaysPastDueNotWorse': cut\n",
       " (-inf, 0.0]    0.124511\n",
       " (0.0, 1.0]    -1.384938\n",
       " (1.0, 2.0]    -1.764785\n",
       " (2.0, inf]    -1.833786\n",
       " dtype: float64, 'NumberOfDependents': cut\n",
       " (-inf, 0.0]    0.659231\n",
       " (0.0, 1.0]    -0.511604\n",
       " (1.0, 2.0]    -0.535203\n",
       " (2.0, inf]    -0.476786\n",
       " dtype: float64}"
      ]
     },
     "execution_count": 278,
     "metadata": {},
     "output_type": "execute_result"
    }
   ],
   "source": [
    "woeall"
   ]
  },
  {
   "cell_type": "markdown",
   "metadata": {},
   "source": [
    "## WOE映射到原始数据中 "
   ]
  },
  {
   "cell_type": "code",
   "execution_count": 296,
   "metadata": {},
   "outputs": [],
   "source": [
    "model_woe = pd.DataFrame(index=model_data.index)"
   ]
  },
  {
   "cell_type": "code",
   "execution_count": 282,
   "metadata": {},
   "outputs": [
    {
     "data": {
      "text/html": [
       "<div>\n",
       "<style scoped>\n",
       "    .dataframe tbody tr th:only-of-type {\n",
       "        vertical-align: middle;\n",
       "    }\n",
       "\n",
       "    .dataframe tbody tr th {\n",
       "        vertical-align: top;\n",
       "    }\n",
       "\n",
       "    .dataframe thead th {\n",
       "        text-align: right;\n",
       "    }\n",
       "</style>\n",
       "<table border=\"1\" class=\"dataframe\">\n",
       "  <thead>\n",
       "    <tr style=\"text-align: right;\">\n",
       "      <th></th>\n",
       "      <th>woe</th>\n",
       "    </tr>\n",
       "  </thead>\n",
       "  <tbody>\n",
       "    <tr>\n",
       "      <th>0</th>\n",
       "      <td>-0.279519</td>\n",
       "    </tr>\n",
       "    <tr>\n",
       "      <th>1</th>\n",
       "      <td>1.006255</td>\n",
       "    </tr>\n",
       "    <tr>\n",
       "      <th>2</th>\n",
       "      <td>-0.279519</td>\n",
       "    </tr>\n",
       "    <tr>\n",
       "      <th>3</th>\n",
       "      <td>1.006255</td>\n",
       "    </tr>\n",
       "    <tr>\n",
       "      <th>4</th>\n",
       "      <td>-0.279519</td>\n",
       "    </tr>\n",
       "    <tr>\n",
       "      <th>...</th>\n",
       "      <td>...</td>\n",
       "    </tr>\n",
       "    <tr>\n",
       "      <th>195003</th>\n",
       "      <td>-0.520457</td>\n",
       "    </tr>\n",
       "    <tr>\n",
       "      <th>195004</th>\n",
       "      <td>-0.279519</td>\n",
       "    </tr>\n",
       "    <tr>\n",
       "      <th>195005</th>\n",
       "      <td>-0.279519</td>\n",
       "    </tr>\n",
       "    <tr>\n",
       "      <th>195006</th>\n",
       "      <td>1.006255</td>\n",
       "    </tr>\n",
       "    <tr>\n",
       "      <th>195007</th>\n",
       "      <td>-0.279519</td>\n",
       "    </tr>\n",
       "  </tbody>\n",
       "</table>\n",
       "<p>195008 rows × 1 columns</p>\n",
       "</div>"
      ],
      "text/plain": [
       "             woe\n",
       "0      -0.279519\n",
       "1       1.006255\n",
       "2      -0.279519\n",
       "3       1.006255\n",
       "4      -0.279519\n",
       "...          ...\n",
       "195003 -0.520457\n",
       "195004 -0.279519\n",
       "195005 -0.279519\n",
       "195006  1.006255\n",
       "195007 -0.279519\n",
       "\n",
       "[195008 rows x 1 columns]"
      ]
     },
     "execution_count": 282,
     "metadata": {},
     "output_type": "execute_result"
    }
   ],
   "source": [
    "model_woe[\"woe\"] = pd.cut(model_data[\"age\"], bins_of_col[\"age\"]).map(woeall[\"age\"])\n",
    "model_woe"
   ]
  },
  {
   "cell_type": "code",
   "execution_count": 297,
   "metadata": {},
   "outputs": [],
   "source": [
    "for col in bins_of_col:\n",
    "    model_woe[col] = pd.cut(model_data[col], bins_of_col[col]).map(woeall[col])"
   ]
  },
  {
   "cell_type": "code",
   "execution_count": 298,
   "metadata": {},
   "outputs": [
    {
     "data": {
      "text/html": [
       "<div>\n",
       "<style scoped>\n",
       "    .dataframe tbody tr th:only-of-type {\n",
       "        vertical-align: middle;\n",
       "    }\n",
       "\n",
       "    .dataframe tbody tr th {\n",
       "        vertical-align: top;\n",
       "    }\n",
       "\n",
       "    .dataframe thead th {\n",
       "        text-align: right;\n",
       "    }\n",
       "</style>\n",
       "<table border=\"1\" class=\"dataframe\">\n",
       "  <thead>\n",
       "    <tr style=\"text-align: right;\">\n",
       "      <th></th>\n",
       "      <th>RevolvingUtilizationOfUnsecuredLines</th>\n",
       "      <th>age</th>\n",
       "      <th>DebtRatio</th>\n",
       "      <th>MonthlyIncome</th>\n",
       "      <th>NumberOfOpenCreditLinesAndLoans</th>\n",
       "      <th>NumberOfTime30-59DaysPastDueNotWorse</th>\n",
       "      <th>NumberOfTimes90DaysLate</th>\n",
       "      <th>NumberRealEstateLoansOrLines</th>\n",
       "      <th>NumberOfTime60-89DaysPastDueNotWorse</th>\n",
       "      <th>NumberOfDependents</th>\n",
       "      <th>SeriousDlqin2yrs</th>\n",
       "    </tr>\n",
       "  </thead>\n",
       "  <tbody>\n",
       "    <tr>\n",
       "      <th>0</th>\n",
       "      <td>2.201896</td>\n",
       "      <td>-0.279519</td>\n",
       "      <td>-0.010288</td>\n",
       "      <td>-0.236873</td>\n",
       "      <td>-0.055384</td>\n",
       "      <td>0.351511</td>\n",
       "      <td>0.235955</td>\n",
       "      <td>-0.391354</td>\n",
       "      <td>0.124511</td>\n",
       "      <td>0.659231</td>\n",
       "      <td>0</td>\n",
       "    </tr>\n",
       "    <tr>\n",
       "      <th>1</th>\n",
       "      <td>0.669887</td>\n",
       "      <td>1.006255</td>\n",
       "      <td>-0.010288</td>\n",
       "      <td>-0.236873</td>\n",
       "      <td>-0.055384</td>\n",
       "      <td>0.351511</td>\n",
       "      <td>0.235955</td>\n",
       "      <td>-0.391354</td>\n",
       "      <td>0.124511</td>\n",
       "      <td>0.659231</td>\n",
       "      <td>0</td>\n",
       "    </tr>\n",
       "    <tr>\n",
       "      <th>2</th>\n",
       "      <td>-2.033450</td>\n",
       "      <td>-0.279519</td>\n",
       "      <td>-0.010288</td>\n",
       "      <td>-0.236873</td>\n",
       "      <td>-0.055384</td>\n",
       "      <td>-0.871332</td>\n",
       "      <td>-1.754181</td>\n",
       "      <td>-0.391354</td>\n",
       "      <td>-1.764785</td>\n",
       "      <td>-0.476786</td>\n",
       "      <td>1</td>\n",
       "    </tr>\n",
       "    <tr>\n",
       "      <th>3</th>\n",
       "      <td>2.201896</td>\n",
       "      <td>1.006255</td>\n",
       "      <td>-0.471715</td>\n",
       "      <td>-0.236873</td>\n",
       "      <td>0.125414</td>\n",
       "      <td>0.351511</td>\n",
       "      <td>0.235955</td>\n",
       "      <td>0.613224</td>\n",
       "      <td>0.124511</td>\n",
       "      <td>0.659231</td>\n",
       "      <td>0</td>\n",
       "    </tr>\n",
       "    <tr>\n",
       "      <th>4</th>\n",
       "      <td>-0.390725</td>\n",
       "      <td>-0.279519</td>\n",
       "      <td>-0.010288</td>\n",
       "      <td>0.231884</td>\n",
       "      <td>0.125414</td>\n",
       "      <td>0.351511</td>\n",
       "      <td>0.235955</td>\n",
       "      <td>0.613224</td>\n",
       "      <td>0.124511</td>\n",
       "      <td>-0.511604</td>\n",
       "      <td>1</td>\n",
       "    </tr>\n",
       "  </tbody>\n",
       "</table>\n",
       "</div>"
      ],
      "text/plain": [
       "  RevolvingUtilizationOfUnsecuredLines       age DebtRatio MonthlyIncome  \\\n",
       "0                             2.201896 -0.279519 -0.010288     -0.236873   \n",
       "1                             0.669887  1.006255 -0.010288     -0.236873   \n",
       "2                            -2.033450 -0.279519 -0.010288     -0.236873   \n",
       "3                             2.201896  1.006255 -0.471715     -0.236873   \n",
       "4                            -0.390725 -0.279519 -0.010288      0.231884   \n",
       "\n",
       "  NumberOfOpenCreditLinesAndLoans NumberOfTime30-59DaysPastDueNotWorse  \\\n",
       "0                       -0.055384                             0.351511   \n",
       "1                       -0.055384                             0.351511   \n",
       "2                       -0.055384                            -0.871332   \n",
       "3                        0.125414                             0.351511   \n",
       "4                        0.125414                             0.351511   \n",
       "\n",
       "  NumberOfTimes90DaysLate NumberRealEstateLoansOrLines  \\\n",
       "0                0.235955                    -0.391354   \n",
       "1                0.235955                    -0.391354   \n",
       "2               -1.754181                    -0.391354   \n",
       "3                0.235955                     0.613224   \n",
       "4                0.235955                     0.613224   \n",
       "\n",
       "  NumberOfTime60-89DaysPastDueNotWorse NumberOfDependents  SeriousDlqin2yrs  \n",
       "0                             0.124511           0.659231                 0  \n",
       "1                             0.124511           0.659231                 0  \n",
       "2                            -1.764785          -0.476786                 1  \n",
       "3                             0.124511           0.659231                 0  \n",
       "4                             0.124511          -0.511604                 1  "
      ]
     },
     "execution_count": 298,
     "metadata": {},
     "output_type": "execute_result"
    }
   ],
   "source": [
    "model_woe[\"SeriousDlqin2yrs\"] = model_data.SeriousDlqin2yrs\n",
    "model_woe.head()"
   ]
  },
  {
   "cell_type": "markdown",
   "metadata": {},
   "source": [
    "## 对测试集进行分箱 "
   ]
  },
  {
   "cell_type": "code",
   "execution_count": 299,
   "metadata": {},
   "outputs": [],
   "source": [
    "vali_woe = pd.DataFrame(index=valid_data.index)\n",
    "for col in bins_of_col:\n",
    "    vali_woe[col] = pd.cut(valid_data[col], bins_of_col[col]).map(woeall[col])\n",
    "vali_woe[\"SeriousDlqin2yrs\"] = valid_data.SeriousDlqin2yrs"
   ]
  },
  {
   "cell_type": "code",
   "execution_count": 300,
   "metadata": {},
   "outputs": [],
   "source": [
    "vali_x = vali_woe.iloc[:, :-1]\n",
    "vali_y = vali_woe.iloc[:, -1]"
   ]
  },
  {
   "cell_type": "code",
   "execution_count": 301,
   "metadata": {},
   "outputs": [],
   "source": [
    "x = model_woe.iloc[:, :-1]\n",
    "y = model_woe.iloc[:, -1]"
   ]
  },
  {
   "cell_type": "code",
   "execution_count": 302,
   "metadata": {},
   "outputs": [],
   "source": [
    "from sklearn.linear_model import LogisticRegression as LR"
   ]
  },
  {
   "cell_type": "code",
   "execution_count": 303,
   "metadata": {},
   "outputs": [
    {
     "data": {
      "text/plain": [
       "(195008, 10)"
      ]
     },
     "execution_count": 303,
     "metadata": {},
     "output_type": "execute_result"
    }
   ],
   "source": [
    "x.shape"
   ]
  },
  {
   "cell_type": "code",
   "execution_count": 309,
   "metadata": {},
   "outputs": [
    {
     "data": {
      "text/plain": [
       "0.7892217861587059"
      ]
     },
     "execution_count": 309,
     "metadata": {},
     "output_type": "execute_result"
    }
   ],
   "source": [
    "lr = LR().fit(x, y)\n",
    "lr.score(vali_x, vali_y)"
   ]
  },
  {
   "cell_type": "code",
   "execution_count": 305,
   "metadata": {},
   "outputs": [
    {
     "data": {
      "text/plain": [
       "0.7860805710534953"
      ]
     },
     "execution_count": 305,
     "metadata": {},
     "output_type": "execute_result"
    }
   ],
   "source": [
    "lr.score(x, y)"
   ]
  },
  {
   "cell_type": "markdown",
   "metadata": {},
   "source": [
    "## ROC曲线\n",
    "捕捉少数类曲线"
   ]
  },
  {
   "cell_type": "code",
   "execution_count": 311,
   "metadata": {},
   "outputs": [
    {
     "data": {
      "text/plain": [
       "<matplotlib.axes._subplots.AxesSubplot at 0x22a8b4e9390>"
      ]
     },
     "execution_count": 311,
     "metadata": {},
     "output_type": "execute_result"
    },
    {
     "data": {
      "image/png": "[encoded data removed]",
      "text/plain": [
       "<Figure size 432x432 with 1 Axes>"
      ]
     },
     "metadata": {
      "needs_background": "light"
     },
     "output_type": "display_data"
    }
   ],
   "source": [
    "import scikitplot as skp\n",
    "valid_proba_df = pd.DataFrame(lr.predict_proba(vali_x))\n",
    "skp.metrics.plot_roc(vali_y, valid_proba_df,\n",
    "    plot_micro=False,figsize=(6,6),\n",
    "    plot_macro=False)"
   ]
  }
 ],
 "metadata": {
  "kernelspec": {
   "display_name": "Python 3",
   "language": "python",
   "name": "python3"
  },
  "language_info": {
   "codemirror_mode": {
    "name": "ipython",
    "version": 3
   },
   "file_extension": ".py",
   "mimetype": "text/x-python",
   "name": "python",
   "nbconvert_exporter": "python",
   "pygments_lexer": "ipython3",
   "version": "3.7.0"
  }
 },
 "nbformat": 4,
 "nbformat_minor": 2
}
